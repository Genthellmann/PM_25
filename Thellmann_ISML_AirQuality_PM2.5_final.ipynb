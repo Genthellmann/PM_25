{
 "cells": [
  {
   "cell_type": "markdown",
   "metadata": {},
   "source": [
    "# Air Quality (PM2.5)"
   ]
  },
  {
   "cell_type": "markdown",
   "metadata": {},
   "source": [
    "Johannes Thellmann (1969637)"
   ]
  },
  {
   "cell_type": "markdown",
   "metadata": {},
   "source": [
    "# Content"
   ]
  },
  {
   "cell_type": "markdown",
   "metadata": {},
   "source": [
    "1. [Motivation]  \n",
    "2. [Dataset]  \n",
    "    2.1 [Missing Values]  \n",
    "    2.2 [Encoding Categorical Variables]  \n",
    "    2.3 [Correlation]  \n",
    "    2.4 [Split into Train/Valid/Test and Normalize]  \n",
    "    2.5 [Performance Measures: $MSE$ and $R^2$]  \n",
    "3. [Benchmark Model]  \n",
    "4. [Machine Learning Model]  \n",
    "    4.1 [Random Forests]  \n",
    "        4.1.1 [Hyperparameters Random Forests]  \n",
    "        4.1.2 [Hyperparameter Tuning Random Forests]  \n",
    "        4.1.3 [Feature Importance]  \n",
    "    4.2 [Gradient Boosting]  \n",
    "        4.2.1 [Extreme Gradient Boosting]  \n",
    "        4.2.2 [Hyperparameter Tuning Extreme Gradient Boosting]  \n",
    "        4.1.3 [Feature Importance]  \n",
    "5. [Conclusion]  \n",
    "[Bibliography]  \n",
    "[Declaration]\n"
   ]
  },
  {
   "cell_type": "markdown",
   "metadata": {},
   "source": [
    "# 1. Motivation"
   ]
  },
  {
   "cell_type": "markdown",
   "metadata": {},
   "source": [
    "An increasing number of different studies recognize adverse health effects of fine particular matter PM2.5 (particles with a diameter <2.5 $\\mu m$). China’s rapid industrialization in the last two decades, sharply increases energy consumption and transportation (Pope et al., 2009, p. 376). Large cities suffer particularly from the resulting increase in particulate matter concentration. Green alternatives are the best option on the long run, but action is required as fast as possible. In addition to industry, traffic and energy supply, the concentration within cities is strongly dependant on external factors such as air temperature, air pressure, humidity, etc. That is one of the reasons, why particular matter concentration varies greatly throughout the year (Liang et al. 2016, p. 10221). Permanent driving bans are a challenge and alternative solutions are needed. To compromise between drastic measures, like driving bans, day-dependent restrictions come to mind depending on the weather conditions.\n",
    "In order to keep supply chains running, the date of driving bans has to be announced in advance. \n",
    "Weather forecast provide meterological data (temperature, air pressure, humidity, etc.) that can be used to predict particular matter concentration.\n",
    "The goal of this report is to develop a model to predict PM2.5 concentration values given weather forecasts to build the basis for day-dependent interventions to improve air purity in big cities."
   ]
  },
  {
   "cell_type": "markdown",
   "metadata": {},
   "source": [
    "# 2. Dataset"
   ]
  },
  {
   "cell_type": "markdown",
   "metadata": {},
   "source": [
    "The dataset comes from Liang et al. (2016) and is collected to compare PM2.5 measures of US posts to chinese posts in five big cities. The dataset can be downloaded from https://archive.ics.uci.edu/ml/datasets/PM2.5+Data+of+Five+Chinese+Cities (last acess: August 30th 2021). \n",
    "The cities are Beijing, Chengdu, Guangzhou, Shanghai and Shenyang. In the past several cases of wrong reports on PM2.5 concentration by chinese authorities were reported. Liang et al. (2016) conclude a high conformity of US measurements and chinese measurements. The dataset contains hourly measurements of the PM2.5 ($\\mu g/m^{3}$) concentration from January 2010 until December 2015 (52584 measures) for the US posts and 2-3 geographically close chinese posts per city. Next to the date and seasonal information the following meterological data is included: Dew Point ($^{\\circ}C$), TEMP: Temperature ($^{\\circ}C$), HUMI: Humidity (%), PRES: Pressure ($hPa$), cbwd: Combined wind direction, Iws: Cumulated wind speed ($m/s$), precipitation: hourly precipitation ($mm$), Iprec: Cumulated precipitation ($mm$). As mentioned in the introduction the seasonal and meterological information (predictors) is used to predict the PM2.5 concentration (target variable). The following chapter is a closer look at the dataset and a description of the necessary data preparation steps performed."
   ]
  },
  {
   "cell_type": "code",
   "execution_count": 1,
   "metadata": {},
   "outputs": [],
   "source": [
    "#imports\n",
    "import numpy as np\n",
    "import pandas as pd\n",
    "import matplotlib.pyplot as plt"
   ]
  },
  {
   "cell_type": "code",
   "execution_count": null,
   "metadata": {},
   "outputs": [
    {
     "ename": "",
     "evalue": "",
     "output_type": "error",
     "traceback": [
      "\u001b[1;31mRunning cells with 'ml_env36' requires the ipykernel package.\n",
      "\u001b[1;31mRun the following command to install 'ipykernel' into the Python environment. \n",
      "\u001b[1;31mCommand: 'conda install -n ml_env36 ipykernel --update-deps --force-reinstall'"
     ]
    }
   ],
   "source": [
    "#beijing_path = '/Users/johannesthellmann/Desktop/SoSe2021/Introduction to Statistical Machine Learning/Report/Dataset/All Datasets/FiveCitiePMData/Beijing.csv'\n",
    "#chengdu_path = '/Users/johannesthellmann/Desktop/SoSe2021/Introduction to Statistical Machine Learning/Report/Dataset/All Datasets/FiveCitiePMData/Chengdu.csv'\n",
    "#guangzhou_path = '/Users/johannesthellmann/Desktop/SoSe2021/Introduction to Statistical Machine Learning/Report/Dataset/All Datasets/FiveCitiePMData/Guangzhou.csv'\n",
    "#shanghai_path = '/Users/johannesthellmann/Desktop/SoSe2021/Introduction to Statistical Machine Learning/Report/Dataset/All Datasets/FiveCitiePMData/Shanghai.csv'\n",
    "#shenyang_path = '/Users/johannesthellmann/Desktop/SoSe2021/Introduction to Statistical Machine Learning/Report/Dataset/All Datasets/FiveCitiePMData/shenyang.csv'\n",
    "\n",
    "beijing_path = '/Dataset/All Datasets/FiveCitiePMData/Beijing.csv'\n",
    "chengdu_path = '/Dataset/All Datasets/FiveCitiePMData/Chengdu.csv'\n",
    "guangzhou_path = '/Dataset/All Datasets/FiveCitiePMData/Guangzhou.csv'\n",
    "shanghai_path = '/Dataset/All Datasets/FiveCitiePMData/Shanghai.csv'\n",
    "shenyang_path = '/All Datasets/FiveCitiePMData/shenyang.csv'\n",
    "\n",
    "\n",
    "beijing = pd.read_csv(beijing_path,index_col = 0)\n",
    "chengdu = pd.read_csv(chengdu_path,index_col = 0)\n",
    "guangzhou = pd.read_csv(guangzhou_path,index_col = 0)\n",
    "shanghai = pd.read_csv(shanghai_path,index_col = 0)\n",
    "shenyang = pd.read_csv(shenyang_path, index_col = 0)"
   ]
  },
  {
   "cell_type": "code",
   "execution_count": 3,
   "metadata": {},
   "outputs": [
    {
     "name": "stdout",
     "output_type": "stream",
     "text": [
      "Beijing shape: (52584, 17)\n",
      "Chengdu shape: (52584, 16)\n",
      "Guangzhou shape: (52584, 16)\n",
      "Shanghai shape: (52584, 16)\n",
      "Shenyang shape: (52584, 16)\n"
     ]
    }
   ],
   "source": [
    "for city in [[beijing,'Beijing'], [chengdu,'Chengdu'], [guangzhou,'Guangzhou'],\n",
    "             [shanghai, 'Shanghai'], [shenyang, 'Shenyang']]:\n",
    "    print(city[1] + ' shape: ' + str(city[0].shape))"
   ]
  },
  {
   "cell_type": "code",
   "execution_count": 5,
   "metadata": {},
   "outputs": [
    {
     "data": {
      "text/plain": [
       "Text(0, 0.5, 'Quantity')"
      ]
     },
     "execution_count": 5,
     "metadata": {},
     "output_type": "execute_result"
    },
    {
     "data": {
      "image/png": "[encoded data removed]",
      "text/plain": [
       "<Figure size 720x360 with 1 Axes>"
      ]
     },
     "metadata": {
      "needs_background": "light"
     },
     "output_type": "display_data"
    }
   ],
   "source": [
    "#Visualization\n",
    "fig = plt.figure(figsize = (10,5))\n",
    "plt.hist(beijing['PM_US Post'], bins=80)\n",
    "#plt.title('PM 2.5')\n",
    "plt.title('PM 2.5'.format(beijing['PM_US Post'].skew()))\n",
    "plt.xlabel('PM 2.5')\n",
    "plt.ylabel('Quantity')"
   ]
  },
  {
   "cell_type": "code",
   "execution_count": 6,
   "metadata": {},
   "outputs": [
    {
     "data": {
      "text/html": [
       "<div>\n",
       "<style scoped>\n",
       "    .dataframe tbody tr th:only-of-type {\n",
       "        vertical-align: middle;\n",
       "    }\n",
       "\n",
       "    .dataframe tbody tr th {\n",
       "        vertical-align: top;\n",
       "    }\n",
       "\n",
       "    .dataframe thead th {\n",
       "        text-align: right;\n",
       "    }\n",
       "</style>\n",
       "<table border=\"1\" class=\"dataframe\">\n",
       "  <thead>\n",
       "    <tr style=\"text-align: right;\">\n",
       "      <th></th>\n",
       "      <th>year</th>\n",
       "      <th>month</th>\n",
       "      <th>day</th>\n",
       "      <th>hour</th>\n",
       "      <th>season</th>\n",
       "      <th>PM_Dongsi</th>\n",
       "      <th>PM_Dongsihuan</th>\n",
       "      <th>PM_Nongzhanguan</th>\n",
       "      <th>PM_US Post</th>\n",
       "      <th>DEWP</th>\n",
       "      <th>HUMI</th>\n",
       "      <th>PRES</th>\n",
       "      <th>TEMP</th>\n",
       "      <th>cbwd</th>\n",
       "      <th>Iws</th>\n",
       "      <th>precipitation</th>\n",
       "      <th>Iprec</th>\n",
       "    </tr>\n",
       "    <tr>\n",
       "      <th>No</th>\n",
       "      <th></th>\n",
       "      <th></th>\n",
       "      <th></th>\n",
       "      <th></th>\n",
       "      <th></th>\n",
       "      <th></th>\n",
       "      <th></th>\n",
       "      <th></th>\n",
       "      <th></th>\n",
       "      <th></th>\n",
       "      <th></th>\n",
       "      <th></th>\n",
       "      <th></th>\n",
       "      <th></th>\n",
       "      <th></th>\n",
       "      <th></th>\n",
       "      <th></th>\n",
       "    </tr>\n",
       "  </thead>\n",
       "  <tbody>\n",
       "    <tr>\n",
       "      <th>1</th>\n",
       "      <td>2010</td>\n",
       "      <td>1</td>\n",
       "      <td>1</td>\n",
       "      <td>0</td>\n",
       "      <td>4</td>\n",
       "      <td>NaN</td>\n",
       "      <td>NaN</td>\n",
       "      <td>NaN</td>\n",
       "      <td>NaN</td>\n",
       "      <td>-21.0</td>\n",
       "      <td>43.0</td>\n",
       "      <td>1021.0</td>\n",
       "      <td>-11.0</td>\n",
       "      <td>NW</td>\n",
       "      <td>1.79</td>\n",
       "      <td>0.0</td>\n",
       "      <td>0.0</td>\n",
       "    </tr>\n",
       "    <tr>\n",
       "      <th>2</th>\n",
       "      <td>2010</td>\n",
       "      <td>1</td>\n",
       "      <td>1</td>\n",
       "      <td>1</td>\n",
       "      <td>4</td>\n",
       "      <td>NaN</td>\n",
       "      <td>NaN</td>\n",
       "      <td>NaN</td>\n",
       "      <td>NaN</td>\n",
       "      <td>-21.0</td>\n",
       "      <td>47.0</td>\n",
       "      <td>1020.0</td>\n",
       "      <td>-12.0</td>\n",
       "      <td>NW</td>\n",
       "      <td>4.92</td>\n",
       "      <td>0.0</td>\n",
       "      <td>0.0</td>\n",
       "    </tr>\n",
       "    <tr>\n",
       "      <th>3</th>\n",
       "      <td>2010</td>\n",
       "      <td>1</td>\n",
       "      <td>1</td>\n",
       "      <td>2</td>\n",
       "      <td>4</td>\n",
       "      <td>NaN</td>\n",
       "      <td>NaN</td>\n",
       "      <td>NaN</td>\n",
       "      <td>NaN</td>\n",
       "      <td>-21.0</td>\n",
       "      <td>43.0</td>\n",
       "      <td>1019.0</td>\n",
       "      <td>-11.0</td>\n",
       "      <td>NW</td>\n",
       "      <td>6.71</td>\n",
       "      <td>0.0</td>\n",
       "      <td>0.0</td>\n",
       "    </tr>\n",
       "    <tr>\n",
       "      <th>4</th>\n",
       "      <td>2010</td>\n",
       "      <td>1</td>\n",
       "      <td>1</td>\n",
       "      <td>3</td>\n",
       "      <td>4</td>\n",
       "      <td>NaN</td>\n",
       "      <td>NaN</td>\n",
       "      <td>NaN</td>\n",
       "      <td>NaN</td>\n",
       "      <td>-21.0</td>\n",
       "      <td>55.0</td>\n",
       "      <td>1019.0</td>\n",
       "      <td>-14.0</td>\n",
       "      <td>NW</td>\n",
       "      <td>9.84</td>\n",
       "      <td>0.0</td>\n",
       "      <td>0.0</td>\n",
       "    </tr>\n",
       "    <tr>\n",
       "      <th>5</th>\n",
       "      <td>2010</td>\n",
       "      <td>1</td>\n",
       "      <td>1</td>\n",
       "      <td>4</td>\n",
       "      <td>4</td>\n",
       "      <td>NaN</td>\n",
       "      <td>NaN</td>\n",
       "      <td>NaN</td>\n",
       "      <td>NaN</td>\n",
       "      <td>-20.0</td>\n",
       "      <td>51.0</td>\n",
       "      <td>1018.0</td>\n",
       "      <td>-12.0</td>\n",
       "      <td>NW</td>\n",
       "      <td>12.97</td>\n",
       "      <td>0.0</td>\n",
       "      <td>0.0</td>\n",
       "    </tr>\n",
       "  </tbody>\n",
       "</table>\n",
       "</div>"
      ],
      "text/plain": [
       "    year  month  day  hour  season  PM_Dongsi  PM_Dongsihuan  PM_Nongzhanguan  \\\n",
       "No                                                                              \n",
       "1   2010      1    1     0       4        NaN            NaN              NaN   \n",
       "2   2010      1    1     1       4        NaN            NaN              NaN   \n",
       "3   2010      1    1     2       4        NaN            NaN              NaN   \n",
       "4   2010      1    1     3       4        NaN            NaN              NaN   \n",
       "5   2010      1    1     4       4        NaN            NaN              NaN   \n",
       "\n",
       "    PM_US Post  DEWP  HUMI    PRES  TEMP cbwd    Iws  precipitation  Iprec  \n",
       "No                                                                          \n",
       "1          NaN -21.0  43.0  1021.0 -11.0   NW   1.79            0.0    0.0  \n",
       "2          NaN -21.0  47.0  1020.0 -12.0   NW   4.92            0.0    0.0  \n",
       "3          NaN -21.0  43.0  1019.0 -11.0   NW   6.71            0.0    0.0  \n",
       "4          NaN -21.0  55.0  1019.0 -14.0   NW   9.84            0.0    0.0  \n",
       "5          NaN -20.0  51.0  1018.0 -12.0   NW  12.97            0.0    0.0  "
      ]
     },
     "execution_count": 6,
     "metadata": {},
     "output_type": "execute_result"
    }
   ],
   "source": [
    "beijing.head()"
   ]
  },
  {
   "cell_type": "markdown",
   "metadata": {},
   "source": [
    "The import of the datasets worked as expected, but it seems that a lot of data is missing."
   ]
  },
  {
   "cell_type": "code",
   "execution_count": 7,
   "metadata": {},
   "outputs": [],
   "source": [
    "df_isna = pd.DataFrame({'beijing':beijing.isna().sum(),\n",
    "                        'chengdu':chengdu.isna().sum(), \n",
    "                        'guangzhou':guangzhou.isna().sum(),\n",
    "                        'shanghai':shanghai.isna().sum(),\n",
    "                        'shenyang':shenyang.isna().sum()}, index = ['year', 'month', 'day', 'hour', 'season','PM_US Post', 'DEWP', 'HUMI', \n",
    "                        'PRES', 'TEMP', 'cbwd', 'Iws', 'precipitation', 'Iprec',\n",
    "                        'PM_Dongsi', 'PM_Dongsihuan','PM_Nongzhanguan','PM_Caotangsi',\n",
    "                        'PM_Shahepu','PM_City Station',\n",
    "                        'PM_5th Middle School', 'PM_Jingan',\n",
    "                        'PM_Xuhui','PM_Taiyuanjie','PM_Xiaoheyan'])"
   ]
  },
  {
   "cell_type": "code",
   "execution_count": 8,
   "metadata": {},
   "outputs": [
    {
     "data": {
      "text/html": [
       "<div>\n",
       "<style scoped>\n",
       "    .dataframe tbody tr th:only-of-type {\n",
       "        vertical-align: middle;\n",
       "    }\n",
       "\n",
       "    .dataframe tbody tr th {\n",
       "        vertical-align: top;\n",
       "    }\n",
       "\n",
       "    .dataframe thead th {\n",
       "        text-align: right;\n",
       "    }\n",
       "</style>\n",
       "<table border=\"1\" class=\"dataframe\">\n",
       "  <thead>\n",
       "    <tr style=\"text-align: right;\">\n",
       "      <th></th>\n",
       "      <th>beijing</th>\n",
       "      <th>chengdu</th>\n",
       "      <th>guangzhou</th>\n",
       "      <th>shanghai</th>\n",
       "      <th>shenyang</th>\n",
       "    </tr>\n",
       "  </thead>\n",
       "  <tbody>\n",
       "    <tr>\n",
       "      <th>year</th>\n",
       "      <td>0.0</td>\n",
       "      <td>0.0</td>\n",
       "      <td>0.0</td>\n",
       "      <td>0.0</td>\n",
       "      <td>0.0</td>\n",
       "    </tr>\n",
       "    <tr>\n",
       "      <th>month</th>\n",
       "      <td>0.0</td>\n",
       "      <td>0.0</td>\n",
       "      <td>0.0</td>\n",
       "      <td>0.0</td>\n",
       "      <td>0.0</td>\n",
       "    </tr>\n",
       "    <tr>\n",
       "      <th>day</th>\n",
       "      <td>0.0</td>\n",
       "      <td>0.0</td>\n",
       "      <td>0.0</td>\n",
       "      <td>0.0</td>\n",
       "      <td>0.0</td>\n",
       "    </tr>\n",
       "    <tr>\n",
       "      <th>hour</th>\n",
       "      <td>0.0</td>\n",
       "      <td>0.0</td>\n",
       "      <td>0.0</td>\n",
       "      <td>0.0</td>\n",
       "      <td>0.0</td>\n",
       "    </tr>\n",
       "    <tr>\n",
       "      <th>season</th>\n",
       "      <td>0.0</td>\n",
       "      <td>0.0</td>\n",
       "      <td>1.0</td>\n",
       "      <td>0.0</td>\n",
       "      <td>0.0</td>\n",
       "    </tr>\n",
       "    <tr>\n",
       "      <th>PM_US Post</th>\n",
       "      <td>2197.0</td>\n",
       "      <td>23684.0</td>\n",
       "      <td>20232.0</td>\n",
       "      <td>18545.0</td>\n",
       "      <td>30904.0</td>\n",
       "    </tr>\n",
       "    <tr>\n",
       "      <th>DEWP</th>\n",
       "      <td>5.0</td>\n",
       "      <td>529.0</td>\n",
       "      <td>1.0</td>\n",
       "      <td>13.0</td>\n",
       "      <td>692.0</td>\n",
       "    </tr>\n",
       "    <tr>\n",
       "      <th>HUMI</th>\n",
       "      <td>339.0</td>\n",
       "      <td>535.0</td>\n",
       "      <td>1.0</td>\n",
       "      <td>13.0</td>\n",
       "      <td>680.0</td>\n",
       "    </tr>\n",
       "    <tr>\n",
       "      <th>PRES</th>\n",
       "      <td>339.0</td>\n",
       "      <td>521.0</td>\n",
       "      <td>1.0</td>\n",
       "      <td>28.0</td>\n",
       "      <td>692.0</td>\n",
       "    </tr>\n",
       "    <tr>\n",
       "      <th>TEMP</th>\n",
       "      <td>5.0</td>\n",
       "      <td>527.0</td>\n",
       "      <td>1.0</td>\n",
       "      <td>13.0</td>\n",
       "      <td>692.0</td>\n",
       "    </tr>\n",
       "    <tr>\n",
       "      <th>cbwd</th>\n",
       "      <td>5.0</td>\n",
       "      <td>521.0</td>\n",
       "      <td>1.0</td>\n",
       "      <td>12.0</td>\n",
       "      <td>692.0</td>\n",
       "    </tr>\n",
       "    <tr>\n",
       "      <th>Iws</th>\n",
       "      <td>5.0</td>\n",
       "      <td>533.0</td>\n",
       "      <td>1.0</td>\n",
       "      <td>12.0</td>\n",
       "      <td>692.0</td>\n",
       "    </tr>\n",
       "    <tr>\n",
       "      <th>precipitation</th>\n",
       "      <td>484.0</td>\n",
       "      <td>2955.0</td>\n",
       "      <td>1.0</td>\n",
       "      <td>4009.0</td>\n",
       "      <td>12763.0</td>\n",
       "    </tr>\n",
       "    <tr>\n",
       "      <th>Iprec</th>\n",
       "      <td>484.0</td>\n",
       "      <td>2955.0</td>\n",
       "      <td>1.0</td>\n",
       "      <td>4009.0</td>\n",
       "      <td>12763.0</td>\n",
       "    </tr>\n",
       "    <tr>\n",
       "      <th>PM_Dongsi</th>\n",
       "      <td>27532.0</td>\n",
       "      <td>NaN</td>\n",
       "      <td>NaN</td>\n",
       "      <td>NaN</td>\n",
       "      <td>NaN</td>\n",
       "    </tr>\n",
       "    <tr>\n",
       "      <th>PM_Dongsihuan</th>\n",
       "      <td>32076.0</td>\n",
       "      <td>NaN</td>\n",
       "      <td>NaN</td>\n",
       "      <td>NaN</td>\n",
       "      <td>NaN</td>\n",
       "    </tr>\n",
       "    <tr>\n",
       "      <th>PM_Nongzhanguan</th>\n",
       "      <td>27653.0</td>\n",
       "      <td>NaN</td>\n",
       "      <td>NaN</td>\n",
       "      <td>NaN</td>\n",
       "      <td>NaN</td>\n",
       "    </tr>\n",
       "    <tr>\n",
       "      <th>PM_Caotangsi</th>\n",
       "      <td>NaN</td>\n",
       "      <td>28164.0</td>\n",
       "      <td>NaN</td>\n",
       "      <td>NaN</td>\n",
       "      <td>NaN</td>\n",
       "    </tr>\n",
       "    <tr>\n",
       "      <th>PM_Shahepu</th>\n",
       "      <td>NaN</td>\n",
       "      <td>27990.0</td>\n",
       "      <td>NaN</td>\n",
       "      <td>NaN</td>\n",
       "      <td>NaN</td>\n",
       "    </tr>\n",
       "    <tr>\n",
       "      <th>PM_City Station</th>\n",
       "      <td>NaN</td>\n",
       "      <td>NaN</td>\n",
       "      <td>20232.0</td>\n",
       "      <td>NaN</td>\n",
       "      <td>NaN</td>\n",
       "    </tr>\n",
       "    <tr>\n",
       "      <th>PM_5th Middle School</th>\n",
       "      <td>NaN</td>\n",
       "      <td>NaN</td>\n",
       "      <td>31489.0</td>\n",
       "      <td>NaN</td>\n",
       "      <td>NaN</td>\n",
       "    </tr>\n",
       "    <tr>\n",
       "      <th>PM_Jingan</th>\n",
       "      <td>NaN</td>\n",
       "      <td>NaN</td>\n",
       "      <td>NaN</td>\n",
       "      <td>27884.0</td>\n",
       "      <td>NaN</td>\n",
       "    </tr>\n",
       "    <tr>\n",
       "      <th>PM_Xuhui</th>\n",
       "      <td>NaN</td>\n",
       "      <td>NaN</td>\n",
       "      <td>NaN</td>\n",
       "      <td>27395.0</td>\n",
       "      <td>NaN</td>\n",
       "    </tr>\n",
       "    <tr>\n",
       "      <th>PM_Taiyuanjie</th>\n",
       "      <td>NaN</td>\n",
       "      <td>NaN</td>\n",
       "      <td>NaN</td>\n",
       "      <td>NaN</td>\n",
       "      <td>28196.0</td>\n",
       "    </tr>\n",
       "    <tr>\n",
       "      <th>PM_Xiaoheyan</th>\n",
       "      <td>NaN</td>\n",
       "      <td>NaN</td>\n",
       "      <td>NaN</td>\n",
       "      <td>NaN</td>\n",
       "      <td>27957.0</td>\n",
       "    </tr>\n",
       "  </tbody>\n",
       "</table>\n",
       "</div>"
      ],
      "text/plain": [
       "                      beijing  chengdu  guangzhou  shanghai  shenyang\n",
       "year                      0.0      0.0        0.0       0.0       0.0\n",
       "month                     0.0      0.0        0.0       0.0       0.0\n",
       "day                       0.0      0.0        0.0       0.0       0.0\n",
       "hour                      0.0      0.0        0.0       0.0       0.0\n",
       "season                    0.0      0.0        1.0       0.0       0.0\n",
       "PM_US Post             2197.0  23684.0    20232.0   18545.0   30904.0\n",
       "DEWP                      5.0    529.0        1.0      13.0     692.0\n",
       "HUMI                    339.0    535.0        1.0      13.0     680.0\n",
       "PRES                    339.0    521.0        1.0      28.0     692.0\n",
       "TEMP                      5.0    527.0        1.0      13.0     692.0\n",
       "cbwd                      5.0    521.0        1.0      12.0     692.0\n",
       "Iws                       5.0    533.0        1.0      12.0     692.0\n",
       "precipitation           484.0   2955.0        1.0    4009.0   12763.0\n",
       "Iprec                   484.0   2955.0        1.0    4009.0   12763.0\n",
       "PM_Dongsi             27532.0      NaN        NaN       NaN       NaN\n",
       "PM_Dongsihuan         32076.0      NaN        NaN       NaN       NaN\n",
       "PM_Nongzhanguan       27653.0      NaN        NaN       NaN       NaN\n",
       "PM_Caotangsi              NaN  28164.0        NaN       NaN       NaN\n",
       "PM_Shahepu                NaN  27990.0        NaN       NaN       NaN\n",
       "PM_City Station           NaN      NaN    20232.0       NaN       NaN\n",
       "PM_5th Middle School      NaN      NaN    31489.0       NaN       NaN\n",
       "PM_Jingan                 NaN      NaN        NaN   27884.0       NaN\n",
       "PM_Xuhui                  NaN      NaN        NaN   27395.0       NaN\n",
       "PM_Taiyuanjie             NaN      NaN        NaN       NaN   28196.0\n",
       "PM_Xiaoheyan              NaN      NaN        NaN       NaN   27957.0"
      ]
     },
     "execution_count": 8,
     "metadata": {},
     "output_type": "execute_result"
    }
   ],
   "source": [
    "df_isna"
   ]
  },
  {
   "cell_type": "markdown",
   "metadata": {},
   "source": [
    "The dataset contains a lot of missing information. Especially for Chengdu, Guangzhou, Shanghai and Shenyang the measurements for PM2.5 values seem sparse. The PM2.5 Measures of the US Posts are in general more complete compared to the chinese posts. Since Liang et al. (2016) argue against big differences between the US and chinese measures missing US PM2.5 concentration values are replaced with chinese values if available. The values of the geographically closest chinese measuring station are used first."
   ]
  },
  {
   "cell_type": "code",
   "execution_count": 9,
   "metadata": {},
   "outputs": [
    {
     "data": {
      "text/html": [
       "<div>\n",
       "<style scoped>\n",
       "    .dataframe tbody tr th:only-of-type {\n",
       "        vertical-align: middle;\n",
       "    }\n",
       "\n",
       "    .dataframe tbody tr th {\n",
       "        vertical-align: top;\n",
       "    }\n",
       "\n",
       "    .dataframe thead th {\n",
       "        text-align: right;\n",
       "    }\n",
       "</style>\n",
       "<table border=\"1\" class=\"dataframe\">\n",
       "  <thead>\n",
       "    <tr style=\"text-align: right;\">\n",
       "      <th></th>\n",
       "      <th>beijing</th>\n",
       "      <th>chengdu</th>\n",
       "      <th>guangzhou</th>\n",
       "      <th>shanghai</th>\n",
       "      <th>shenyang</th>\n",
       "    </tr>\n",
       "  </thead>\n",
       "  <tbody>\n",
       "    <tr>\n",
       "      <th>year</th>\n",
       "      <td>0</td>\n",
       "      <td>0</td>\n",
       "      <td>0</td>\n",
       "      <td>0</td>\n",
       "      <td>0</td>\n",
       "    </tr>\n",
       "    <tr>\n",
       "      <th>month</th>\n",
       "      <td>0</td>\n",
       "      <td>0</td>\n",
       "      <td>0</td>\n",
       "      <td>0</td>\n",
       "      <td>0</td>\n",
       "    </tr>\n",
       "    <tr>\n",
       "      <th>day</th>\n",
       "      <td>0</td>\n",
       "      <td>0</td>\n",
       "      <td>0</td>\n",
       "      <td>0</td>\n",
       "      <td>0</td>\n",
       "    </tr>\n",
       "    <tr>\n",
       "      <th>hour</th>\n",
       "      <td>0</td>\n",
       "      <td>0</td>\n",
       "      <td>0</td>\n",
       "      <td>0</td>\n",
       "      <td>0</td>\n",
       "    </tr>\n",
       "    <tr>\n",
       "      <th>season</th>\n",
       "      <td>0</td>\n",
       "      <td>0</td>\n",
       "      <td>1</td>\n",
       "      <td>0</td>\n",
       "      <td>0</td>\n",
       "    </tr>\n",
       "    <tr>\n",
       "      <th>PM_US Post</th>\n",
       "      <td>1894</td>\n",
       "      <td>22082</td>\n",
       "      <td>19211</td>\n",
       "      <td>17789</td>\n",
       "      <td>26699</td>\n",
       "    </tr>\n",
       "    <tr>\n",
       "      <th>DEWP</th>\n",
       "      <td>5</td>\n",
       "      <td>529</td>\n",
       "      <td>1</td>\n",
       "      <td>13</td>\n",
       "      <td>692</td>\n",
       "    </tr>\n",
       "    <tr>\n",
       "      <th>HUMI</th>\n",
       "      <td>339</td>\n",
       "      <td>535</td>\n",
       "      <td>1</td>\n",
       "      <td>13</td>\n",
       "      <td>680</td>\n",
       "    </tr>\n",
       "    <tr>\n",
       "      <th>PRES</th>\n",
       "      <td>339</td>\n",
       "      <td>521</td>\n",
       "      <td>1</td>\n",
       "      <td>28</td>\n",
       "      <td>692</td>\n",
       "    </tr>\n",
       "    <tr>\n",
       "      <th>TEMP</th>\n",
       "      <td>5</td>\n",
       "      <td>527</td>\n",
       "      <td>1</td>\n",
       "      <td>13</td>\n",
       "      <td>692</td>\n",
       "    </tr>\n",
       "    <tr>\n",
       "      <th>cbwd</th>\n",
       "      <td>5</td>\n",
       "      <td>521</td>\n",
       "      <td>1</td>\n",
       "      <td>12</td>\n",
       "      <td>692</td>\n",
       "    </tr>\n",
       "    <tr>\n",
       "      <th>Iws</th>\n",
       "      <td>5</td>\n",
       "      <td>533</td>\n",
       "      <td>1</td>\n",
       "      <td>12</td>\n",
       "      <td>692</td>\n",
       "    </tr>\n",
       "    <tr>\n",
       "      <th>precipitation</th>\n",
       "      <td>484</td>\n",
       "      <td>2955</td>\n",
       "      <td>1</td>\n",
       "      <td>4009</td>\n",
       "      <td>12763</td>\n",
       "    </tr>\n",
       "    <tr>\n",
       "      <th>Iprec</th>\n",
       "      <td>484</td>\n",
       "      <td>2955</td>\n",
       "      <td>1</td>\n",
       "      <td>4009</td>\n",
       "      <td>12763</td>\n",
       "    </tr>\n",
       "  </tbody>\n",
       "</table>\n",
       "</div>"
      ],
      "text/plain": [
       "               beijing  chengdu  guangzhou  shanghai  shenyang\n",
       "year                 0        0          0         0         0\n",
       "month                0        0          0         0         0\n",
       "day                  0        0          0         0         0\n",
       "hour                 0        0          0         0         0\n",
       "season               0        0          1         0         0\n",
       "PM_US Post        1894    22082      19211     17789     26699\n",
       "DEWP                 5      529          1        13       692\n",
       "HUMI               339      535          1        13       680\n",
       "PRES               339      521          1        28       692\n",
       "TEMP                 5      527          1        13       692\n",
       "cbwd                 5      521          1        12       692\n",
       "Iws                  5      533          1        12       692\n",
       "precipitation      484     2955          1      4009     12763\n",
       "Iprec              484     2955          1      4009     12763"
      ]
     },
     "execution_count": 9,
     "metadata": {},
     "output_type": "execute_result"
    }
   ],
   "source": [
    "#replace missing values with chinese measures\n",
    "beijing['PM_US Post'].fillna(beijing['PM_Nongzhanguan'], inplace=True)\n",
    "beijing['PM_US Post'].fillna(beijing['PM_Dongsihuan'], inplace=True)\n",
    "beijing['PM_US Post'].fillna(beijing['PM_Dongsi'], inplace=True)\n",
    "chengdu['PM_US Post'].fillna(chengdu['PM_Shahepu'], inplace=True)\n",
    "chengdu['PM_US Post'].fillna(chengdu['PM_Caotangsi'], inplace=True)\n",
    "guangzhou['PM_US Post'].fillna(guangzhou['PM_City Station'], inplace=True)\n",
    "guangzhou['PM_US Post'].fillna(guangzhou['PM_5th Middle School'], inplace=True)\n",
    "shanghai['PM_US Post'].fillna(shanghai['PM_Jingan'], inplace=True)\n",
    "shanghai['PM_US Post'].fillna(shanghai['PM_Xuhui'], inplace=True)\n",
    "shenyang['PM_US Post'].fillna(shenyang['PM_Taiyuanjie'], inplace=True)\n",
    "shenyang['PM_US Post'].fillna(shenyang['PM_Xiaoheyan'], inplace=True)\n",
    "\n",
    "#and drop columns with chinese measures\n",
    "beijing = beijing.drop(['PM_Dongsi', 'PM_Dongsihuan','PM_Nongzhanguan'], axis = 1)\n",
    "chengdu = chengdu.drop(['PM_Caotangsi', 'PM_Shahepu'], axis = 1)\n",
    "guangzhou = guangzhou.drop(['PM_City Station','PM_5th Middle School'], axis = 1)\n",
    "shanghai = shanghai.drop(['PM_Jingan','PM_Xuhui'], axis = 1)\n",
    "shenyang = shenyang.drop([ 'PM_Taiyuanjie', 'PM_Xiaoheyan'], axis = 1)\n",
    "\n",
    "beijing.isna().sum()\n",
    "chengdu.isna().sum()\n",
    "guangzhou.isna().sum()\n",
    "shanghai.isna().sum()\n",
    "shenyang.isna().sum()\n",
    "\n",
    "df_isna = pd.DataFrame({'beijing':beijing.isna().sum(),\n",
    "                        'chengdu':chengdu.isna().sum(), \n",
    "                        'guangzhou':guangzhou.isna().sum(),\n",
    "                        'shanghai':shanghai.isna().sum(),\n",
    "                        'shenyang':shenyang.isna().sum()}, index = ['year', 'month', 'day', 'hour', 'season','PM_US Post', 'DEWP', 'HUMI', \n",
    "                        'PRES', 'TEMP', 'cbwd', 'Iws', 'precipitation', 'Iprec'])\n",
    "\n",
    "df_isna"
   ]
  },
  {
   "cell_type": "markdown",
   "metadata": {},
   "source": [
    "Still many missing values remain and some further exploration is necessary."
   ]
  },
  {
   "cell_type": "code",
   "execution_count": 10,
   "metadata": {},
   "outputs": [],
   "source": [
    "#Create Columns with Date in datetime-format\n",
    "beijing['date'] = pd.to_datetime(beijing['year'].astype(str) +'-'+ beijing['month'].astype(str) +'-'+ beijing['day'].astype(str) +'-'+ beijing['hour'].astype(str), format = '%Y-%m-%d-%H')\n",
    "chengdu['date'] = pd.to_datetime(chengdu['year'].astype(str) +'-'+ chengdu['month'].astype(str) +'-'+ chengdu['day'].astype(str) +'-'+ chengdu['hour'].astype(str), format = '%Y-%m-%d-%H')\n",
    "guangzhou['date'] = pd.to_datetime(beijing['year'].astype(str) +'-'+ guangzhou['month'].astype(str) +'-'+ guangzhou['day'].astype(str) +'-'+ guangzhou['hour'].astype(str), format = '%Y-%m-%d-%H')\n",
    "shanghai['date'] = pd.to_datetime(shanghai['year'].astype(str) +'-'+ shanghai['month'].astype(str) +'-'+ shanghai['day'].astype(str) +'-'+ shanghai['hour'].astype(str), format = '%Y-%m-%d-%H')\n",
    "shenyang['date'] = pd.to_datetime(shenyang['year'].astype(str) +'-'+ shenyang['month'].astype(str) +'-'+ shenyang['day'].astype(str) +'-'+ shenyang['hour'].astype(str), format = '%Y-%m-%d-%H')\n",
    "\n",
    "#Make measuring date the index\n",
    "beijing['index'] = beijing['date']\n",
    "chengdu['index'] = chengdu['date']\n",
    "guangzhou['index'] = guangzhou['date']\n",
    "shanghai['index'] = guangzhou['date']\n",
    "shenyang['index'] = guangzhou['date']\n",
    "beijing = beijing.set_index('index')\n",
    "chengdu = chengdu.set_index('index')\n",
    "guangzhou = guangzhou.set_index('index')\n",
    "shanghai = shanghai.set_index('index')\n",
    "shenyang = shenyang.set_index('index')"
   ]
  },
  {
   "cell_type": "code",
   "execution_count": 141,
   "metadata": {},
   "outputs": [
    {
     "data": {
      "image/png": "[encoded data removed]",
      "text/plain": [
       "<Figure size 2160x1440 with 6 Axes>"
      ]
     },
     "metadata": {
      "needs_background": "light"
     },
     "output_type": "display_data"
    }
   ],
   "source": [
    "#Plot the dataset for a general overview of the data\n",
    "fig, axs = plt.subplots(2, 3, figsize = (30,20))\n",
    "\n",
    "axs[0][0].scatter(beijing.index, beijing['PM_US Post'],  label = 'Beijing')\n",
    "axs[0][1].scatter(chengdu.index, chengdu['PM_US Post'], label = 'Chengdu')\n",
    "axs[0][2].scatter(guangzhou.index, guangzhou['PM_US Post'], label = 'Guangzhou')\n",
    "axs[1][0].scatter(shanghai.index, shanghai['PM_US Post'], label = 'Shanghai')\n",
    "axs[1][1].scatter(shenyang.index, shenyang['PM_US Post'], label = 'Shenyang')\n",
    "\n",
    "axs[0][0].set_xlim(pd.to_datetime('2010-01-01'), pd.to_datetime('2016-01-01'))\n",
    "axs[0][1].set_xlim(pd.to_datetime('2010-01-01'), pd.to_datetime('2016-01-01'))\n",
    "axs[0][2].set_xlim(pd.to_datetime('2010-01-01'), pd.to_datetime('2016-01-01'))\n",
    "axs[1][0].set_xlim(pd.to_datetime('2010-01-01'), pd.to_datetime('2016-01-01'))\n",
    "axs[1][1].set_xlim(pd.to_datetime('2010-01-01'), pd.to_datetime('2016-01-01'))\n",
    "\n",
    "axs[0][0].set_ylim(0,1000)\n",
    "axs[0][1].set_ylim(0,1000)\n",
    "axs[0][2].set_ylim(0,1000)\n",
    "axs[1][0].set_ylim(0,1000)\n",
    "axs[1][1].set_ylim(0,1000)\n",
    "                   \n",
    "axs[0][0].title.set_text('Beijing')\n",
    "axs[0][1].title.set_text('Chengdu')\n",
    "axs[0][2].title.set_text('Guangzhou')\n",
    "axs[1][0].title.set_text('Shanghai')\n",
    "axs[1][1].title.set_text('Shenyang')\n",
    "\n",
    "axs[-1, -1].axis('off')\n",
    "\n",
    "plt.show()"
   ]
  },
  {
   "cell_type": "markdown",
   "metadata": {},
   "source": [
    "The scatterplot shows for Beijing that the missing data is distributed arbitrarily. For Chengdu, Guangzhou and Shanghai the years 2010 - 2011 are missing. For Shenyang only values after the beginning of 2013 are available. Since there are PM2.5 values for every hour there are many data points. To get a clearer overview, hourly data is aggregated by day..."
   ]
  },
  {
   "cell_type": "code",
   "execution_count": 11,
   "metadata": {},
   "outputs": [],
   "source": [
    "#Resample PM2.5 as daily average\n",
    "beijing_day = beijing.drop(['year', 'month', 'day', 'hour', 'season', 'DEWP', 'HUMI', 'PRES', 'TEMP', 'cbwd',\n",
    "       'Iws', 'precipitation', 'Iprec','date'], axis = 1)\n",
    "beijing_day = beijing_day.resample('D').mean()\n",
    "\n",
    "chengdu_day = chengdu.drop(['year', 'month', 'day', 'hour', 'season',\n",
    "       'DEWP', 'HUMI', 'PRES', 'TEMP', 'cbwd',\n",
    "       'Iws', 'precipitation', 'Iprec','date'], axis = 1)\n",
    "chengdu_day = chengdu_day.resample('D').mean()\n",
    "\n",
    "guangzhou_day = guangzhou.drop(['year', 'month', 'day', 'hour', 'season', \n",
    "                               'DEWP', 'HUMI', 'PRES', 'TEMP', 'cbwd', 'Iws', 'precipitation', 'Iprec','date'], axis = 1)\n",
    "guangzhou_day = guangzhou_day.resample('D').mean()\n",
    "\n",
    "shanghai_day = shanghai.drop(['year', 'month', 'day', 'hour', 'season', \n",
    "                               'DEWP', 'HUMI', 'PRES', 'TEMP', 'cbwd', 'Iws', 'precipitation', 'Iprec','date'], axis = 1)\n",
    "shanghai_day = shanghai_day.resample('D').mean()\n",
    "\n",
    "shenyang_day = shenyang.drop(['year', 'month', 'day', 'hour', 'season', \n",
    "                               'DEWP', 'HUMI', 'PRES', 'TEMP', 'cbwd', 'Iws', 'precipitation', 'Iprec','date'], axis = 1)\n",
    "shenyang_day = shenyang.resample('D').mean()"
   ]
  },
  {
   "cell_type": "markdown",
   "metadata": {},
   "source": [
    "...and the results plotted. Note the lowered y-axis limit of 600."
   ]
  },
  {
   "cell_type": "code",
   "execution_count": 12,
   "metadata": {},
   "outputs": [
    {
     "data": {
      "image/png": "[encoded data removed]",
      "text/plain": [
       "<Figure size 2160x1440 with 6 Axes>"
      ]
     },
     "metadata": {
      "needs_background": "light"
     },
     "output_type": "display_data"
    }
   ],
   "source": [
    "fig, axs = plt.subplots(2, 3, figsize = (30,20))\n",
    "\n",
    "axs[0][0].scatter(beijing_day.index, beijing_day['PM_US Post'],  label = 'Beijing')\n",
    "axs[0][1].scatter(chengdu_day.index, chengdu_day['PM_US Post'], label = 'Chengdu')\n",
    "axs[0][2].scatter(guangzhou_day.index, guangzhou_day['PM_US Post'], label = 'Guangzhou')\n",
    "axs[1][0].scatter(shanghai_day.index, shanghai_day['PM_US Post'], label = 'Shanghai')\n",
    "axs[1][1].scatter(shenyang_day.index, shenyang_day['PM_US Post'], label = 'Shenyang')\n",
    "\n",
    "axs[0][0].set_xlim(pd.to_datetime('2010-01-01'), pd.to_datetime('2016-01-01'))\n",
    "axs[0][1].set_xlim(pd.to_datetime('2010-01-01'), pd.to_datetime('2016-01-01'))\n",
    "axs[0][2].set_xlim(pd.to_datetime('2010-01-01'), pd.to_datetime('2016-01-01'))\n",
    "axs[1][0].set_xlim(pd.to_datetime('2010-01-01'), pd.to_datetime('2016-01-01'))\n",
    "axs[1][1].set_xlim(pd.to_datetime('2010-01-01'), pd.to_datetime('2016-01-01'))\n",
    "\n",
    "axs[0][0].set_ylim(0,600)\n",
    "axs[0][1].set_ylim(0,600)\n",
    "axs[0][2].set_ylim(0,600)\n",
    "axs[1][0].set_ylim(0,600)\n",
    "axs[1][1].set_ylim(0,600)\n",
    "                   \n",
    "axs[0][0].title.set_text('Beijing')\n",
    "axs[0][1].title.set_text('Chengdu')\n",
    "axs[0][2].title.set_text('Guangzhou')\n",
    "axs[1][0].title.set_text('Shanghai')\n",
    "axs[1][1].title.set_text('Shenyang')\n",
    "\n",
    "axs[-1, -1].axis('off')\n",
    "\n",
    "plt.show()"
   ]
  },
  {
   "cell_type": "markdown",
   "metadata": {},
   "source": [
    "Most daily means are between 0 and 300 for Chengdu, Guangzhou, Shanghai and Shenyang. Beijing has some higher values of up to over 500. The variation of the PM2.5 level is in general higher compared to the other four cities. It appears that the data varies seasonally over the course of the year, with high readings recurring at certain times of the year. Over the entire time course, there is not really a discernible trend in particular matter levels. A slight decrease can be interpreted into the scatter plots of Chengdu and Guangzhou, but hardly noticeable.  The decline corresponds to the trend of current measures to reduce (or at least to avoid increasing) particulate matter concentration levels in large cities."
   ]
  },
  {
   "cell_type": "code",
   "execution_count": 13,
   "metadata": {},
   "outputs": [],
   "source": [
    "#Find start and end date of the measures...\n",
    "beijing_start = beijing.loc[beijing['PM_US Post'].notna()].date.min()\n",
    "beijing_end = beijing.loc[beijing['PM_US Post'].notna()].date.max()\n",
    "chengdu_start = chengdu.loc[chengdu['PM_US Post'].notna()].date.min()\n",
    "chengdu_end = chengdu.loc[chengdu['PM_US Post'].notna()].date.max()\n",
    "guangzhou_start = guangzhou.loc[guangzhou['PM_US Post'].notna()].date.min()\n",
    "guangzhou_end = guangzhou.loc[guangzhou['PM_US Post'].notna()].date.max()\n",
    "shanghai_start = shanghai.loc[shanghai['PM_US Post'].notna()].date.min()\n",
    "shanghai_end = shanghai.loc[shanghai['PM_US Post'].notna()].date.max()\n",
    "shenyang_start = shenyang.loc[shenyang['PM_US Post'].notna()].date.min()\n",
    "shenyang_end = shenyang.loc[shenyang['PM_US Post'].notna()].date.max()\n",
    "\n",
    "#... and only use date between start and end date\n",
    "dates_beijing = (beijing['date'] >= beijing_start) & (beijing['date'] < beijing_end)\n",
    "beijing = beijing.loc[dates_beijing]\n",
    "dates_chengdu = (chengdu['date'] >= chengdu_start) & (chengdu['date'] < chengdu_end)\n",
    "chengdu = chengdu.loc[dates_chengdu]\n",
    "dates_guangzhou = (guangzhou['date'] >= guangzhou_start) & (guangzhou['date'] < guangzhou_end)\n",
    "guangzhou = guangzhou.loc[dates_guangzhou]\n",
    "dates_shanghai = (shanghai['date'] >= shanghai_start) & (shanghai['date'] < shanghai_end)\n",
    "shanghai = shanghai.loc[dates_shanghai]\n",
    "dates_shenyang = (shenyang['date'] >= shenyang_start) & (shenyang['date'] < shenyang_end)\n",
    "shenyang = shenyang.loc[dates_shenyang]"
   ]
  },
  {
   "cell_type": "code",
   "execution_count": 14,
   "metadata": {},
   "outputs": [
    {
     "data": {
      "text/html": [
       "<div>\n",
       "<style scoped>\n",
       "    .dataframe tbody tr th:only-of-type {\n",
       "        vertical-align: middle;\n",
       "    }\n",
       "\n",
       "    .dataframe tbody tr th {\n",
       "        vertical-align: top;\n",
       "    }\n",
       "\n",
       "    .dataframe thead th {\n",
       "        text-align: right;\n",
       "    }\n",
       "</style>\n",
       "<table border=\"1\" class=\"dataframe\">\n",
       "  <thead>\n",
       "    <tr style=\"text-align: right;\">\n",
       "      <th></th>\n",
       "      <th>beijing</th>\n",
       "      <th>chengdu</th>\n",
       "      <th>guangzhou</th>\n",
       "      <th>shanghai</th>\n",
       "      <th>shenyang</th>\n",
       "    </tr>\n",
       "  </thead>\n",
       "  <tbody>\n",
       "    <tr>\n",
       "      <th>year</th>\n",
       "      <td>0</td>\n",
       "      <td>0</td>\n",
       "      <td>0</td>\n",
       "      <td>0</td>\n",
       "      <td>0</td>\n",
       "    </tr>\n",
       "    <tr>\n",
       "      <th>month</th>\n",
       "      <td>0</td>\n",
       "      <td>0</td>\n",
       "      <td>0</td>\n",
       "      <td>0</td>\n",
       "      <td>0</td>\n",
       "    </tr>\n",
       "    <tr>\n",
       "      <th>day</th>\n",
       "      <td>0</td>\n",
       "      <td>0</td>\n",
       "      <td>0</td>\n",
       "      <td>0</td>\n",
       "      <td>0</td>\n",
       "    </tr>\n",
       "    <tr>\n",
       "      <th>hour</th>\n",
       "      <td>0</td>\n",
       "      <td>0</td>\n",
       "      <td>0</td>\n",
       "      <td>0</td>\n",
       "      <td>0</td>\n",
       "    </tr>\n",
       "    <tr>\n",
       "      <th>season</th>\n",
       "      <td>0</td>\n",
       "      <td>0</td>\n",
       "      <td>0</td>\n",
       "      <td>0</td>\n",
       "      <td>0</td>\n",
       "    </tr>\n",
       "    <tr>\n",
       "      <th>PM_US Post</th>\n",
       "      <td>1871</td>\n",
       "      <td>1332</td>\n",
       "      <td>2662</td>\n",
       "      <td>347</td>\n",
       "      <td>395</td>\n",
       "    </tr>\n",
       "    <tr>\n",
       "      <th>DEWP</th>\n",
       "      <td>5</td>\n",
       "      <td>492</td>\n",
       "      <td>0</td>\n",
       "      <td>5</td>\n",
       "      <td>4</td>\n",
       "    </tr>\n",
       "    <tr>\n",
       "      <th>HUMI</th>\n",
       "      <td>339</td>\n",
       "      <td>496</td>\n",
       "      <td>0</td>\n",
       "      <td>5</td>\n",
       "      <td>4</td>\n",
       "    </tr>\n",
       "    <tr>\n",
       "      <th>PRES</th>\n",
       "      <td>339</td>\n",
       "      <td>486</td>\n",
       "      <td>0</td>\n",
       "      <td>20</td>\n",
       "      <td>4</td>\n",
       "    </tr>\n",
       "    <tr>\n",
       "      <th>TEMP</th>\n",
       "      <td>5</td>\n",
       "      <td>490</td>\n",
       "      <td>0</td>\n",
       "      <td>5</td>\n",
       "      <td>4</td>\n",
       "    </tr>\n",
       "    <tr>\n",
       "      <th>cbwd</th>\n",
       "      <td>5</td>\n",
       "      <td>486</td>\n",
       "      <td>0</td>\n",
       "      <td>4</td>\n",
       "      <td>4</td>\n",
       "    </tr>\n",
       "    <tr>\n",
       "      <th>Iws</th>\n",
       "      <td>5</td>\n",
       "      <td>498</td>\n",
       "      <td>0</td>\n",
       "      <td>4</td>\n",
       "      <td>4</td>\n",
       "    </tr>\n",
       "    <tr>\n",
       "      <th>precipitation</th>\n",
       "      <td>484</td>\n",
       "      <td>1267</td>\n",
       "      <td>0</td>\n",
       "      <td>2272</td>\n",
       "      <td>1477</td>\n",
       "    </tr>\n",
       "    <tr>\n",
       "      <th>Iprec</th>\n",
       "      <td>484</td>\n",
       "      <td>1267</td>\n",
       "      <td>0</td>\n",
       "      <td>2272</td>\n",
       "      <td>1477</td>\n",
       "    </tr>\n",
       "  </tbody>\n",
       "</table>\n",
       "</div>"
      ],
      "text/plain": [
       "               beijing  chengdu  guangzhou  shanghai  shenyang\n",
       "year                 0        0          0         0         0\n",
       "month                0        0          0         0         0\n",
       "day                  0        0          0         0         0\n",
       "hour                 0        0          0         0         0\n",
       "season               0        0          0         0         0\n",
       "PM_US Post        1871     1332       2662       347       395\n",
       "DEWP                 5      492          0         5         4\n",
       "HUMI               339      496          0         5         4\n",
       "PRES               339      486          0        20         4\n",
       "TEMP                 5      490          0         5         4\n",
       "cbwd                 5      486          0         4         4\n",
       "Iws                  5      498          0         4         4\n",
       "precipitation      484     1267          0      2272      1477\n",
       "Iprec              484     1267          0      2272      1477"
      ]
     },
     "execution_count": 14,
     "metadata": {},
     "output_type": "execute_result"
    }
   ],
   "source": [
    "df_isna = pd.DataFrame({'beijing':beijing.isna().sum(),\n",
    "                        'chengdu':chengdu.isna().sum(), \n",
    "                        'guangzhou':guangzhou.isna().sum(),\n",
    "                        'shanghai':shanghai.isna().sum(),\n",
    "                        'shenyang':shenyang.isna().sum()}, index = ['year', 'month', 'day', 'hour', 'season','PM_US Post', 'DEWP', 'HUMI', \n",
    "                        'PRES', 'TEMP', 'cbwd', 'Iws', 'precipitation', 'Iprec'])\n",
    "\n",
    "df_isna"
   ]
  },
  {
   "cell_type": "markdown",
   "metadata": {},
   "source": [
    "## 2.1 Missing Values"
   ]
  },
  {
   "cell_type": "markdown",
   "metadata": {},
   "source": [
    "This already looks way better than the dataframe in the beginning. Still there are missing values for the US Post PM2.5 measurements. In the following three approaches are presented to account for the missing values. First, the trivial approach of simply dropping the rows with missing values for US Post. Second, by replacing the missing values with the daily average. The second approach, however, holds some serious drawbacks, as valuable information might get lost, when values are simply replaced by their average. For Chengdu the values vary between 20 and 125 on 16th of August 2013, which is a lot considering an average of 83 over the entire record. Rows contain missing values if no data is available for the entire day and thus no daily average can be calculated. Respective rows are dropped.\n",
    "Third, by interpolating linear between the preceding and sucessive data point.\n",
    "The equally spaced measurements are replaced by their interpolation for a maximum of two consecutive measures. Remaining rows containing missing values for target PM_US Post are dropped. The method for replacing missing values that performs best in the benchmark model will be used for the machine learning modell in chapter 4."
   ]
  },
  {
   "cell_type": "code",
   "execution_count": 15,
   "metadata": {},
   "outputs": [
    {
     "data": {
      "text/plain": [
       "83.22428772827121"
      ]
     },
     "execution_count": 15,
     "metadata": {},
     "output_type": "execute_result"
    }
   ],
   "source": [
    "chengdu['PM_US Post'].mean()"
   ]
  },
  {
   "cell_type": "markdown",
   "metadata": {},
   "source": [
    "### Option 1: Drop Rows with missing values"
   ]
  },
  {
   "cell_type": "code",
   "execution_count": 16,
   "metadata": {},
   "outputs": [],
   "source": [
    "#Method to simply drop rows with missing values\n",
    "def drop_val(df, col_name):\n",
    "    df_d = df[df[col_name].notna()]\n",
    "    return df_d"
   ]
  },
  {
   "cell_type": "code",
   "execution_count": 17,
   "metadata": {},
   "outputs": [],
   "source": [
    "beijing_d = drop_val(beijing, 'PM_US Post')\n",
    "chengdu_d = drop_val(chengdu, 'PM_US Post')\n",
    "guangzhou_d = drop_val(guangzhou, 'PM_US Post')\n",
    "shanghai_d = drop_val(shanghai, 'PM_US Post')\n",
    "shenyang_d = drop_val(shenyang, 'PM_US Post')\n",
    "\n",
    "# beijing_d.to_csv('/Users/johannesthellmann/Desktop/SoSe2021/Introduction to Statistical Machine Learning/Report/Dataset/From Model/beijing_d.csv')\n",
    "# chengdu_d.to_csv('/Users/johannesthellmann/Desktop/SoSe2021/Introduction to Statistical Machine Learning/Report/Dataset/From Model/chengdu_d.csv')\n",
    "# guangzhou_d.to_csv('/Users/johannesthellmann/Desktop/SoSe2021/Introduction to Statistical Machine Learning/Report/Dataset/From Model/guangzhou_d.csv')\n",
    "# shanghai_d.to_csv('/Users/johannesthellmann/Desktop/SoSe2021/Introduction to Statistical Machine Learning/Report/Dataset/From Model/shanghai_d.csv')\n",
    "# shenyang_d.to_csv('/Users/johannesthellmann/Desktop/SoSe2021/Introduction to Statistical Machine Learning/Report/Dataset/From Model/shenyang_d.csv')"
   ]
  },
  {
   "cell_type": "markdown",
   "metadata": {},
   "source": [
    "### Option 2: Daily Mean"
   ]
  },
  {
   "cell_type": "code",
   "execution_count": 18,
   "metadata": {},
   "outputs": [],
   "source": [
    "#method to replace missing values with daily mean for list of columns\n",
    "#only replace missing numerical values\n",
    "def calculate_dailymean(df, col_list):\n",
    "    df_day = df[col_list].copy()\n",
    "    df_day = df_day.resample('D').mean()\n",
    "    \n",
    "    #since the resampled data only contains the day because we calculated the daily mean\n",
    "    df['date_day'] = pd.to_datetime(df['year'].astype(str) +'-'+ df['month'].astype(str) +'-'+ df['day'].astype(str), format = '%Y-%m-%d')\n",
    "    \n",
    "    for col in col_list:\n",
    "        df[col + '_avg'] = 0\n",
    "        \n",
    "    for index, row in df.iterrows():\n",
    "        for col in col_list:\n",
    "            df.loc[index, col + '_avg'] = df_day.loc[row['date_day']][col]\n",
    "            \n",
    "    for col in col_list:\n",
    "        df[col].fillna(df[col + '_avg'], inplace = True)\n",
    "    \n",
    "    return df"
   ]
  },
  {
   "cell_type": "code",
   "execution_count": 19,
   "metadata": {},
   "outputs": [],
   "source": [
    "#==============================\n",
    "#Takes some time: finished dataset 'beijing_m' can be imported instead \n",
    "#==============================\n",
    "\n",
    "# #Do not calculate mean for wind direction since it is non-numerical\n",
    "# beijing_m = calculate_dailymean(beijing.copy(), ['PM_US Post', 'DEWP', 'HUMI', 'PRES', 'TEMP',\n",
    "#        'Iws', 'precipitation', 'Iprec'])\n",
    "\n",
    "# chengdu_m = calculate_dailymean(chengdu.copy(), ['PM_US Post', 'DEWP', 'HUMI', 'PRES', 'TEMP', 'Iws',\n",
    "#        'precipitation', 'Iprec'])\n",
    "\n",
    "# guangzhou_m = calculate_dailymean(guangzhou.copy(), ['PM_US Post', 'DEWP', 'HUMI', 'PRES', 'TEMP',\n",
    "#         'Iws', 'precipitation', 'Iprec'])\n",
    "\n",
    "# shanghai_m = calculate_dailymean(shanghai.copy(),['PM_US Post','DEWP', 'HUMI', 'PRES', 'TEMP', 'Iws',\n",
    "#        'precipitation', 'Iprec'])\n",
    "\n",
    "# shenyang_m = calculate_dailymean(shenyang.copy(), ['PM_US Post','DEWP', 'HUMI', 'PRES', 'TEMP', 'Iws',\n",
    "#        'precipitation', 'Iprec'])"
   ]
  },
  {
   "cell_type": "code",
   "execution_count": 20,
   "metadata": {},
   "outputs": [],
   "source": [
    "# #Drop Rows with missing measures for the whole day\n",
    "# beijing_m = drop_val(beijing_m, 'PM_US Post')\n",
    "# chengdu_m = drop_val(chengdu_m, 'PM_US Post')\n",
    "# guangzhou_m = drop_val(guangzhou_m, 'PM_US Post')\n",
    "# shanghai_m = drop_val(shanghai_m, 'PM_US Post')\n",
    "# shenyang_m = drop_val(shenyang_m, 'PM_US Post')\n",
    "\n",
    "# #Drop Columns with daily mean values\n",
    "# beijing_m = beijing_m.drop(['PM_US Post_avg', 'DEWP_avg', 'HUMI_avg', 'PRES_avg',\n",
    "#        'TEMP_avg', 'Iws_avg', 'precipitation_avg', 'Iprec_avg','date_day'], axis = 1)\n",
    "# chengdu_m = chengdu_m.drop(['PM_US Post_avg', 'DEWP_avg', 'HUMI_avg', 'PRES_avg',\n",
    "#        'TEMP_avg', 'Iws_avg', 'precipitation_avg', 'Iprec_avg','date_day'], axis = 1)\n",
    "# guangzhou_m = guangzhou_m.drop(['PM_US Post_avg', 'DEWP_avg', 'HUMI_avg', 'PRES_avg',\n",
    "#        'TEMP_avg', 'Iws_avg', 'precipitation_avg', 'Iprec_avg','date_day'], axis = 1)\n",
    "# shanghai_m = shanghai_m.drop(['PM_US Post_avg', 'DEWP_avg', 'HUMI_avg', 'PRES_avg',\n",
    "#        'TEMP_avg', 'Iws_avg', 'precipitation_avg', 'Iprec_avg','date_day'], axis = 1)\n",
    "# shenyang_m = shenyang_m.drop(['PM_US Post_avg', 'DEWP_avg', 'HUMI_avg', 'PRES_avg',\n",
    "#        'TEMP_avg', 'Iws_avg', 'precipitation_avg', 'Iprec_avg','date_day'], axis = 1)"
   ]
  },
  {
   "cell_type": "code",
   "execution_count": 21,
   "metadata": {},
   "outputs": [],
   "source": [
    "# beijing_m.to_csv('/Users/johannesthellmann/Desktop/SoSe2021/Introduction to Statistical Machine Learning/Report/Dataset/From Model/beijing_m.csv')\n",
    "# chengdu_m.to_csv('/Users/johannesthellmann/Desktop/SoSe2021/Introduction to Statistical Machine Learning/Report/Dataset/From Model/chengdu_m.csv')\n",
    "# guangzhou_m.to_csv('/Users/johannesthellmann/Desktop/SoSe2021/Introduction to Statistical Machine Learning/Report/Dataset/From Model/guangzhou_m.csv')\n",
    "# shanghai_m.to_csv('/Users/johannesthellmann/Desktop/SoSe2021/Introduction to Statistical Machine Learning/Report/Dataset/From Model/shanghai_m.csv')\n",
    "# shenyang_m.to_csv('/Users/johannesthellmann/Desktop/SoSe2021/Introduction to Statistical Machine Learning/Report/Dataset/From Model/shenyang_m.csv')"
   ]
  },
  {
   "cell_type": "markdown",
   "metadata": {},
   "source": [
    "### Option 3: Interpolate"
   ]
  },
  {
   "cell_type": "code",
   "execution_count": 22,
   "metadata": {},
   "outputs": [],
   "source": [
    "#method to interpolate missing values\n",
    "def interpol_cols(df, cols):\n",
    "    for col in cols:\n",
    "        df[col].interpolate(method = 'linear',limit=3,inplace=True)\n",
    "    return df"
   ]
  },
  {
   "cell_type": "code",
   "execution_count": 23,
   "metadata": {},
   "outputs": [],
   "source": [
    "beijing_ip = interpol_cols(beijing.copy(),['PM_US Post', 'DEWP', 'HUMI', 'PRES', 'TEMP',\n",
    "                                           'Iws', 'precipitation', 'Iprec'])\n",
    "chengdu_ip = interpol_cols(chengdu.copy(), ['PM_US Post', 'DEWP', 'HUMI', 'PRES',\n",
    "                                            'TEMP', 'Iws','precipitation', 'Iprec'])\n",
    "guangzhou_ip = interpol_cols(guangzhou.copy(), ['PM_US Post', 'DEWP',\n",
    "                                                'HUMI', 'PRES', 'TEMP', 'cbwd', 'Iws', 'precipitation', 'Iprec'])\n",
    "shanghai_ip = interpol_cols(shanghai.copy(),['PM_US Post', 'DEWP', 'HUMI', 'PRES', 'TEMP',\n",
    "                                             'Iws', 'precipitation', 'Iprec'] )\n",
    "shenyang_ip = interpol_cols(shenyang.copy(), ['PM_US Post', 'DEWP', 'HUMI', \n",
    "                                              'PRES', 'TEMP', 'Iws','precipitation', 'Iprec'] )"
   ]
  },
  {
   "cell_type": "code",
   "execution_count": 24,
   "metadata": {},
   "outputs": [],
   "source": [
    "#Drop rows with missing entries for Target\n",
    "beijing_ip = drop_val(beijing_ip, 'PM_US Post')\n",
    "chengdu_ip = drop_val(chengdu_ip, 'PM_US Post')\n",
    "guangzhou_ip = drop_val(guangzhou_ip, 'PM_US Post')\n",
    "shanghai_ip = drop_val(shanghai_ip, 'PM_US Post')\n",
    "shenyang_ip = drop_val(shenyang_ip, 'PM_US Post')\n",
    "\n",
    "# beijing_ip.to_csv('/Users/johannesthellmann/Desktop/SoSe2021/Introduction to Statistical Machine Learning/Report/Dataset/From Model/beijing_ip.csv')\n",
    "# chengdu_ip.to_csv('/Users/johannesthellmann/Desktop/SoSe2021/Introduction to Statistical Machine Learning/Report/Dataset/From Model/chengdu_ip.csv')\n",
    "# guangzhou_ip.to_csv('/Users/johannesthellmann/Desktop/SoSe2021/Introduction to Statistical Machine Learning/Report/Dataset/From Model/guangzhou_ip.csv')\n",
    "# shanghai_ip.to_csv('/Users/johannesthellmann/Desktop/SoSe2021/Introduction to Statistical Machine Learning/Report/Dataset/From Model/shanghai_ip.csv')\n",
    "# shenyang_ip.to_csv('/Users/johannesthellmann/Desktop/SoSe2021/Introduction to Statistical Machine Learning/Report/Dataset/From Model/shenyang_ip.csv')"
   ]
  },
  {
   "cell_type": "code",
   "execution_count": 27,
   "metadata": {},
   "outputs": [],
   "source": [
    "data_dir = '/Users/johannesthellmann/Desktop/SoSe2021/Introduction to Statistical Machine Learning/Report/Dataset/From Model/'"
   ]
  },
  {
   "cell_type": "code",
   "execution_count": 28,
   "metadata": {},
   "outputs": [],
   "source": [
    "#Reimport of Option 1\n",
    "beijing_d = pd.read_csv(data_dir + 'beijing_d.csv',index_col = 0)\n",
    "chengdu_d = pd.read_csv(data_dir + 'chengdu_d.csv',index_col = 0)\n",
    "guangzhou_d = pd.read_csv(data_dir + 'guangzhou_d.csv',index_col = 0)\n",
    "shanghai_d = pd.read_csv(data_dir + 'shanghai_d.csv',index_col = 0)\n",
    "shenyang_d = pd.read_csv(data_dir +'shenyang_d.csv', index_col = 0)\n",
    "\n",
    "#Reimport of Option 2\n",
    "beijing_m = pd.read_csv(data_dir + 'beijing_m.csv',index_col = 0)\n",
    "chengdu_m = pd.read_csv(data_dir + 'chengdu_m.csv',index_col = 0)\n",
    "guangzhou_m = pd.read_csv(data_dir + 'guangzhou_m.csv',index_col = 0)\n",
    "shanghai_m = pd.read_csv(data_dir + 'shanghai_m.csv',index_col = 0)\n",
    "shenyang_m = pd.read_csv(data_dir +'shenyang_m.csv', index_col = 0)\n",
    "\n",
    "#Reimport of Option 3\n",
    "beijing_ip = pd.read_csv(data_dir + 'beijing_ip.csv',index_col = 0)\n",
    "chengdu_ip = pd.read_csv(data_dir + 'chengdu_ip.csv',index_col = 0)\n",
    "guangzhou_ip = pd.read_csv(data_dir + 'guangzhou_ip.csv',index_col = 0)\n",
    "shanghai_ip = pd.read_csv(data_dir + 'shanghai_ip.csv',index_col = 0)\n",
    "shenyang_ip = pd.read_csv(data_dir +'shenyang_ip.csv', index_col = 0)"
   ]
  },
  {
   "cell_type": "code",
   "execution_count": 29,
   "metadata": {},
   "outputs": [],
   "source": [
    "#guangzhou season column is in float instead of int\n",
    "guangzhou_d['season'] = guangzhou_d['season'].astype(int)\n",
    "guangzhou_m['season'] = guangzhou_d['season'].astype(int)\n",
    "guangzhou_ip['season'] = guangzhou_d['season'].astype(int)"
   ]
  },
  {
   "cell_type": "markdown",
   "metadata": {},
   "source": [
    "Previous three methods reduced the number of missing values. Further remaining rows with missing values are dropped."
   ]
  },
  {
   "cell_type": "code",
   "execution_count": 30,
   "metadata": {},
   "outputs": [],
   "source": [
    "beijing_d = beijing_d.dropna(axis = 0)\n",
    "beijing_m = beijing_m.dropna(axis = 0)\n",
    "beijing_ip = beijing_ip.dropna(axis = 0)\n",
    "\n",
    "chengdu_d = chengdu_d.dropna(axis = 0)\n",
    "chengdu_m = chengdu_m.dropna(axis = 0)\n",
    "chengdu_ip = chengdu_ip.dropna(axis = 0)\n",
    "\n",
    "guangzhou_d = guangzhou_d.dropna(axis = 0)\n",
    "guangzhou_m = guangzhou_m.dropna(axis = 0)\n",
    "guangzhou_ip = guangzhou_ip.dropna(axis = 0)\n",
    "\n",
    "shanghai_d = shanghai_d.dropna(axis = 0)\n",
    "shanghai_m = shanghai_m.dropna(axis = 0)\n",
    "shanghai_ip = shanghai_ip.dropna(axis = 0)\n",
    "\n",
    "shenyang_d = shenyang_d.dropna(axis = 0)\n",
    "shenyang_m = shenyang_m.dropna(axis = 0)\n",
    "shenyang_ip = shenyang_ip.dropna(axis = 0)"
   ]
  },
  {
   "cell_type": "code",
   "execution_count": 31,
   "metadata": {},
   "outputs": [
    {
     "name": "stdout",
     "output_type": "stream",
     "text": [
      "| City      |   drop |   mean |   interpolate |\n",
      "|-----------+--------+--------+---------------|\n",
      "| Beijing   |  49870 |  51236 |         50330 |\n",
      "| Chengdu   |  28778 |  29692 |         29276 |\n",
      "| Guangzhou |  33372 |  33372 |         33372 |\n",
      "| Shanghai  |  32505 |  34057 |         33485 |\n",
      "| Shenyang  |  24409 |  25363 |         25059 |\n"
     ]
    }
   ],
   "source": [
    "from tabulate import tabulate\n",
    "\n",
    "print(tabulate([['Beijing', len(beijing_d),len(beijing_m),len(beijing_ip)],\n",
    "                ['Chengdu', len(chengdu_d),len(chengdu_m),len(chengdu_ip)],\n",
    "                ['Guangzhou', len(guangzhou_d),len(guangzhou_m),len(guangzhou_ip)],\n",
    "                ['Shanghai', len(shanghai_d),len(shanghai_m),len(shanghai_ip)],\n",
    "                ['Shenyang', len(shenyang_d),len(shenyang_m),len(shenyang_ip)]],\n",
    "                headers=['City', 'drop', 'mean', 'interpolate'], tablefmt='orgtbl',floatfmt = [None, '.0f','.0f','.0f']))"
   ]
  },
  {
   "cell_type": "markdown",
   "metadata": {},
   "source": [
    "The table shows that the three preprocessing methods do not change the number of observations much. Often, if one observation is missing, all observations for this day are missing. Or at least many consecutive observation are missing. The benchmark model is used which preprocessing method performs best. In order to do so, categorical variables must be encoded first."
   ]
  },
  {
   "cell_type": "markdown",
   "metadata": {},
   "source": [
    "## 2.2 Encoding categorical variables"
   ]
  },
  {
   "cell_type": "code",
   "execution_count": 32,
   "metadata": {},
   "outputs": [
    {
     "data": {
      "text/plain": [
       "year               int64\n",
       "month              int64\n",
       "day                int64\n",
       "hour               int64\n",
       "season             int64\n",
       "PM_US Post       float64\n",
       "DEWP             float64\n",
       "HUMI             float64\n",
       "PRES             float64\n",
       "TEMP             float64\n",
       "cbwd              object\n",
       "Iws              float64\n",
       "precipitation    float64\n",
       "Iprec            float64\n",
       "date              object\n",
       "dtype: object"
      ]
     },
     "execution_count": 32,
     "metadata": {},
     "output_type": "execute_result"
    }
   ],
   "source": [
    "beijing_d.dtypes"
   ]
  },
  {
   "cell_type": "markdown",
   "metadata": {},
   "source": [
    "Except wind direction (cbwd) and season all variables are numerical (date omitted). Not all machine learning models can handle categorical variables and encoding them in a useful way is necessary. \n",
    "This report sticks to One-Hot-Encoding due to its binary nature without imposing some ordinality (as Label-Encoding) and the benefit of placing the categories inside an orthogonal vector space (NB7_Bonus Exercise, Introduction to Statistical Machine Learning, Acess: September 30th 2021)."
   ]
  },
  {
   "cell_type": "code",
   "execution_count": 33,
   "metadata": {},
   "outputs": [
    {
     "name": "stdout",
     "output_type": "stream",
     "text": [
      "Beijing number of wind directions: 4\n",
      "Chengdu number of wind directions: 5\n",
      "Guangzhou number of wind directions: 5\n",
      "Shanghai number of wind directions: 5\n",
      "Shenyang number of wind directions: 5\n"
     ]
    }
   ],
   "source": [
    "print('Beijing number of wind directions: ' + str(beijing_d.cbwd.nunique()) )\n",
    "print('Chengdu number of wind directions: ' + str(chengdu_d.cbwd.nunique()) )\n",
    "print('Guangzhou number of wind directions: ' + str(guangzhou_d.cbwd.nunique()) )\n",
    "print('Shanghai number of wind directions: ' + str(shanghai_d.cbwd.nunique()) )\n",
    "print('Shenyang number of wind directions: ' + str(shenyang_d.cbwd.nunique()) )"
   ]
  },
  {
   "cell_type": "markdown",
   "metadata": {},
   "source": [
    "There is a maximum of five different wind directions per city, so one hot-encoding should work well."
   ]
  },
  {
   "cell_type": "code",
   "execution_count": 34,
   "metadata": {},
   "outputs": [],
   "source": [
    "#Method to perform the one-hot encoding\n",
    "def encode(df, col):\n",
    "    df_enc = pd.get_dummies(df[col].astype(str), prefix=None, dummy_na=False)\n",
    "    df.drop(col, axis = 1, inplace = True)\n",
    "    return pd.concat([df, df_enc], axis = 1)"
   ]
  },
  {
   "cell_type": "code",
   "execution_count": 35,
   "metadata": {},
   "outputs": [],
   "source": [
    "beijing_d = encode(beijing_d.copy(), ['cbwd','season'])\n",
    "beijing_m = encode(beijing_m.copy(), ['cbwd','season'])\n",
    "beijing_ip = encode(beijing_ip.copy(), ['cbwd','season'])\n",
    "\n",
    "chengdu_d = encode(chengdu_d.copy(), ['cbwd','season'])\n",
    "chengdu_m = encode(chengdu_m.copy(), ['cbwd','season'])\n",
    "chengdu_ip = encode(chengdu_ip.copy(), ['cbwd','season'])\n",
    "\n",
    "guangzhou_d = encode(guangzhou_d.copy(),['cbwd','season'])\n",
    "guangzhou_m = encode(guangzhou_m.copy(),['cbwd','season'])\n",
    "guangzhou_ip = encode(guangzhou_ip.copy(),['cbwd','season'])\n",
    "\n",
    "shanghai_d = encode(shanghai_d.copy(),['cbwd','season'])\n",
    "shanghai_m = encode(shanghai_m.copy(),['cbwd','season'])\n",
    "shanghai_ip = encode(shanghai_ip.copy(),['cbwd','season'])\n",
    "\n",
    "shenyang_d = encode(shenyang_d.copy(),['cbwd','season'])\n",
    "shenyang_m = encode(shenyang_m.copy(),['cbwd','season'])\n",
    "shenyang_ip = encode(shenyang_ip.copy(),['cbwd','season'])"
   ]
  },
  {
   "cell_type": "markdown",
   "metadata": {},
   "source": [
    "## 2.3 Correlation"
   ]
  },
  {
   "cell_type": "markdown",
   "metadata": {},
   "source": [
    "The correlation between the target variable 'PM_US Post' is calculated. For every city this is done with the dataset that simply drops rows with missing values. By changig the suffix (to m or ip) one can see that this yields only minor changes regarding the correlation. "
   ]
  },
  {
   "cell_type": "code",
   "execution_count": 36,
   "metadata": {},
   "outputs": [
    {
     "name": "stdout",
     "output_type": "stream",
     "text": [
      "PM_US Post       1.000000\n",
      "HUMI             0.420422\n",
      "cbwd_cv          0.171199\n",
      "DEWP             0.132477\n",
      "season_4         0.113902\n",
      "cbwd_SE          0.111066\n",
      "day              0.077774\n",
      "season_3         0.027463\n",
      "hour            -0.000846\n",
      "month           -0.011359\n",
      "PRES            -0.017948\n",
      "precipitation   -0.026974\n",
      "cbwd_NE         -0.032893\n",
      "Iprec           -0.043473\n",
      "year            -0.054940\n",
      "season_1        -0.065548\n",
      "season_2        -0.075257\n",
      "TEMP            -0.124925\n",
      "Iws             -0.240508\n",
      "cbwd_NW         -0.241852\n",
      "Name: PM_US Post, dtype: float64\n"
     ]
    }
   ],
   "source": [
    "corr_beijing = beijing_d.corr()['PM_US Post']\n",
    "print(corr_beijing[np.argsort(corr_beijing, axis=0)[::-1]])"
   ]
  },
  {
   "cell_type": "code",
   "execution_count": 37,
   "metadata": {},
   "outputs": [
    {
     "name": "stdout",
     "output_type": "stream",
     "text": [
      "PM_US Post       1.000000\n",
      "season_4         0.434821\n",
      "PRES             0.250540\n",
      "cbwd_cv          0.159077\n",
      "HUMI             0.130373\n",
      "day              0.053108\n",
      "cbwd_NW         -0.021190\n",
      "season_1        -0.041719\n",
      "cbwd_SW         -0.059568\n",
      "cbwd_SE         -0.060678\n",
      "hour            -0.065020\n",
      "precipitation   -0.071054\n",
      "Iprec           -0.097108\n",
      "season_3        -0.098153\n",
      "cbwd_NE         -0.110781\n",
      "year            -0.128819\n",
      "month           -0.167645\n",
      "Iws             -0.191672\n",
      "season_2        -0.287582\n",
      "DEWP            -0.316917\n",
      "TEMP            -0.401707\n",
      "Name: PM_US Post, dtype: float64\n"
     ]
    }
   ],
   "source": [
    "corr_chengdu = chengdu_d.corr()['PM_US Post']\n",
    "print(corr_chengdu[np.argsort(corr_chengdu, axis=0)[::-1]])"
   ]
  },
  {
   "cell_type": "code",
   "execution_count": 38,
   "metadata": {},
   "outputs": [
    {
     "name": "stdout",
     "output_type": "stream",
     "text": [
      "PM_US Post       1.000000\n",
      "season_4         0.235320\n",
      "PRES             0.221437\n",
      "cbwd_NW          0.135284\n",
      "season_1         0.045739\n",
      "hour             0.033553\n",
      "day              0.022233\n",
      "season_3         0.008575\n",
      "cbwd_cv          0.004835\n",
      "HUMI            -0.007078\n",
      "cbwd_NE         -0.009899\n",
      "DEWP            -0.016474\n",
      "month           -0.071804\n",
      "precipitation   -0.074073\n",
      "cbwd_SE         -0.086012\n",
      "cbwd_SW         -0.090349\n",
      "Iws             -0.098573\n",
      "Iprec           -0.111018\n",
      "year            -0.204827\n",
      "TEMP            -0.216361\n",
      "season_2        -0.281755\n",
      "Name: PM_US Post, dtype: float64\n"
     ]
    }
   ],
   "source": [
    "corr_guangzhou = guangzhou_d.corr()['PM_US Post']\n",
    "print(corr_guangzhou[np.argsort(corr_guangzhou, axis=0)[::-1]])"
   ]
  },
  {
   "cell_type": "code",
   "execution_count": 39,
   "metadata": {},
   "outputs": [
    {
     "name": "stdout",
     "output_type": "stream",
     "text": [
      "PM_US Post       1.000000\n",
      "season_4         0.310946\n",
      "cbwd_NW          0.271354\n",
      "PRES             0.261442\n",
      "cbwd_SW          0.096436\n",
      "cbwd_cv          0.094456\n",
      "season_1         0.033788\n",
      "hour             0.014341\n",
      "day             -0.018121\n",
      "year            -0.026155\n",
      "month           -0.065074\n",
      "precipitation   -0.074088\n",
      "HUMI            -0.083484\n",
      "season_3        -0.093310\n",
      "Iprec           -0.096632\n",
      "cbwd_SE         -0.148324\n",
      "cbwd_NE         -0.177843\n",
      "Iws             -0.199368\n",
      "season_2        -0.261214\n",
      "TEMP            -0.320524\n",
      "DEWP            -0.328599\n",
      "Name: PM_US Post, dtype: float64\n"
     ]
    }
   ],
   "source": [
    "corr_shanghai = shanghai_d.corr()['PM_US Post']\n",
    "print(corr_shanghai[np.argsort(corr_shanghai, axis=0)[::-1]])"
   ]
  },
  {
   "cell_type": "code",
   "execution_count": 40,
   "metadata": {},
   "outputs": [
    {
     "name": "stdout",
     "output_type": "stream",
     "text": [
      "PM_US Post       1.000000\n",
      "PRES             0.350588\n",
      "season_4         0.326273\n",
      "HUMI             0.198508\n",
      "cbwd_NE          0.117876\n",
      "cbwd_SE          0.103107\n",
      "day              0.095798\n",
      "cbwd_cv          0.079274\n",
      "season_3        -0.001407\n",
      "precipitation   -0.032537\n",
      "year            -0.041310\n",
      "Iprec           -0.058011\n",
      "month           -0.067219\n",
      "hour            -0.073099\n",
      "cbwd_SW         -0.092751\n",
      "Iws             -0.094307\n",
      "season_1        -0.094832\n",
      "cbwd_NW         -0.162975\n",
      "season_2        -0.236489\n",
      "DEWP            -0.263666\n",
      "TEMP            -0.373166\n",
      "Name: PM_US Post, dtype: float64\n"
     ]
    }
   ],
   "source": [
    "corr_shenyang = shenyang_d.corr()['PM_US Post']\n",
    "print(corr_shenyang[np.argsort(corr_shenyang, axis=0)[::-1]])"
   ]
  },
  {
   "cell_type": "markdown",
   "metadata": {},
   "source": [
    "The correlation of the different features with the target variable is rather low. The order differs through the cities. In general 'pressure' (pres) and 'season' are higher positively correlated. Lower negatively correlated predictors are 'temperature' (TEMP) and 'dew point' (DEWP), except for beijing where the dew point is even positively correlated.\n",
    "The pairwise correlation of individual characteristics is considered below. High correlation between features can lead to less robust models. Results are displayed for Shenyang. Other cities yield similar results. (Code from NB7_Bonus Exercise, Introduction to Statistical Machine Learning, Sebastian Lerch, Acess: August 18th 21)."
   ]
  },
  {
   "cell_type": "code",
   "execution_count": 41,
   "metadata": {},
   "outputs": [
    {
     "name": "stdout",
     "output_type": "stream",
     "text": [
      "      Variable Pair  Correlation\n",
      "6      (DEWP, TEMP)     0.898420\n",
      "3      (DEWP, PRES)    -0.796701\n",
      "1      (PRES, TEMP)    -0.794882\n",
      "7  (TEMP, season_4)    -0.724646\n",
      "5  (DEWP, season_2)     0.692061\n",
      "2  (DEWP, season_4)    -0.658946\n",
      "0  (TEMP, season_2)     0.607364\n",
      "4  (PRES, season_2)    -0.602924\n"
     ]
    }
   ],
   "source": [
    "#without target\n",
    "shenyang_nt = shenyang_d.drop('PM_US Post', axis = 1)\n",
    "correlations = shenyang_d.corr()\n",
    "\n",
    "# threshold to cut away smaller correlations (optional)\n",
    "threshold = 0.6\n",
    "correlations_thresholded = (correlations[abs(correlations) > threshold]\n",
    "                            [correlations != 1.0]).unstack().dropna().to_dict()\n",
    "\n",
    "unique_pairwise_correlations = pd.DataFrame(\n",
    "  list(set([(tuple(sorted(key)), correlations_thresholded[key]) \n",
    "            for key in correlations_thresholded])), \n",
    "  columns=['Variable Pair', 'Correlation'])\n",
    "\n",
    "# sort list by absolute value in decreasing order\n",
    "unique_pairwise_correlations = unique_pairwise_correlations.iloc[\n",
    "  abs(unique_pairwise_correlations['Correlation']).argsort()[::-1]]\n",
    "\n",
    "print(unique_pairwise_correlations)"
   ]
  },
  {
   "cell_type": "markdown",
   "metadata": {},
   "source": [
    "Overall, the number of strongly correlated features is limited. The highest (positive) correlation is between dew point and temperature, which makes sense since the dew point is directly dependent on the air temperature. Conversely, the lowest (negative) correlation is between dew point and air pressure, and air pressure and temperature. This correlation can also be easily understood. Since not many parameters are strongly correlated a robust model is expected."
   ]
  },
  {
   "cell_type": "markdown",
   "metadata": {},
   "source": [
    "## 2.4 Split into Train/Valid/Test and Normalize"
   ]
  },
  {
   "cell_type": "markdown",
   "metadata": {},
   "source": [
    "The goal of this report is to design a model to predict PM2.5 concentration depending on weather forecasts in order to propose daily actions. In a real world example the data would be in the future, so we cannot verify how good the model is in advance. To simulate real world conditions a part of the dataset is withhold and used as a test data. Aurélien and Géron (2019, p. 31) recommend a split of 80% training data to 20% test data. Achieving this split is challenging, because the data of the five cities ranges differently and contains missing data. So choosing the same date for all cities is not an exact 80-to-20 split. For the purpose of real world conditions, data before April 1st 2015 is considered training data. Data starting April 1st until December 2015 is test data. See below for share sizes.\n",
    "\n",
    "Since it is not recommended to use training data for evaluating the model, a third dataset is necessary, the validation set. Therefore the training data is split into data used for training (training set) and data used for validation (validation data). To prevent confusion henceforth the term training data denotes training set and validation set. Test data denotes the data set used for testing.\n",
    "Regarding the above mentioned recommendation, the 1st of October 2014 splits the training data into test set and validation set. Especially for Beijing the shares are smaller and Shenyang bigger, whereas they are the largest and smallest datasets after preprocessing."
   ]
  },
  {
   "cell_type": "markdown",
   "metadata": {},
   "source": [
    "Many machine learning algorithms require normalized data. Also the variables 'year', 'month', 'day', 'hour','date' are dropped. Even though these variables could be useful, but require further consideration and are non-continuous. Categorical data like season and wind direction are not normalized."
   ]
  },
  {
   "cell_type": "code",
   "execution_count": 42,
   "metadata": {},
   "outputs": [],
   "source": [
    "#Drop unnecessary columns\n",
    "beijing_d = beijing_d.drop(['year', 'month', 'day', 'hour', 'date'], axis = 1)\n",
    "beijing_m = beijing_m.drop(['year', 'month', 'day', 'hour', 'date'], axis = 1)\n",
    "beijing_ip = beijing_ip.drop(['year', 'month', 'day', 'hour', 'date'], axis = 1)\n",
    "\n",
    "chengdu_d = chengdu_d.drop(['year', 'month', 'day', 'hour', 'date'], axis = 1)\n",
    "chengdu_m = chengdu_m.drop(['year', 'month', 'day', 'hour', 'date'], axis = 1)\n",
    "chengdu_ip = chengdu_ip.drop(['year', 'month', 'day', 'hour', 'date'], axis = 1)\n",
    "\n",
    "guangzhou_d = guangzhou_d.drop(['year', 'month', 'day', 'hour', 'date'], axis = 1)\n",
    "guangzhou_m = guangzhou_m.drop(['year', 'month', 'day', 'hour', 'date'], axis = 1)\n",
    "guangzhou_ip = guangzhou_ip.drop(['year', 'month', 'day', 'hour', 'date'], axis = 1)\n",
    "\n",
    "shanghai_d = shanghai_d.drop(['year', 'month', 'day', 'hour', 'date'], axis = 1)\n",
    "shanghai_m = shanghai_m.drop(['year', 'month', 'day', 'hour', 'date'], axis = 1)\n",
    "shanghai_ip = shanghai_ip.drop(['year', 'month', 'day', 'hour', 'date'], axis = 1)\n",
    "\n",
    "shenyang_d = shenyang_d.drop(['year', 'month', 'day', 'hour', 'date'], axis = 1)\n",
    "shenyang_m = shenyang_m.drop(['year', 'month', 'day', 'hour', 'date'], axis = 1)\n",
    "shenyang_ip = shenyang_ip.drop(['year', 'month', 'day', 'hour', 'date'], axis = 1)"
   ]
  },
  {
   "cell_type": "code",
   "execution_count": 43,
   "metadata": {},
   "outputs": [],
   "source": [
    "# for city in [beijing_d,beijing_m,beijing_ip,\n",
    "#             chengdu_d,chengdu_m,chengdu_ip,\n",
    "#             guangzhou_d,guangzhou_m,guangzhou_ip,\n",
    "#             shanghai_d,shanghai_m,shanghai_ip,\n",
    "#             shenyang_d,shenyang_m,shenyang_ip]:\n",
    "#     print(len(city.columns)"
   ]
  },
  {
   "cell_type": "markdown",
   "metadata": {},
   "source": [
    "Method to split into train/valid/ test and normalize:"
   ]
  },
  {
   "cell_type": "code",
   "execution_count": 44,
   "metadata": {},
   "outputs": [],
   "source": [
    "def split_tvt(df, test_split, val_split, cat_col):\n",
    "    \n",
    "    #split\n",
    "    df_train = df[pd.to_datetime(df.index) < pd.to_datetime(test_split)]\n",
    "    df_test = df[pd.to_datetime(df.index) >= pd.to_datetime(test_split)]\n",
    "    \n",
    "    #drop cat columns\n",
    "    df_train_num = df_train.drop(cat_col, axis = 1)\n",
    "    df_train_cat = df_train[cat_col]\n",
    "\n",
    "    df_test_num = df_test.drop(cat_col, axis = 1)\n",
    "    df_test_cat = df_test[cat_col]\n",
    "    \n",
    "    #normalize numerous variables except for target variable PM_US Post\n",
    "    df_train_num_X = df_train_num.drop('PM_US Post', axis = 1)\n",
    "    df_train_num_y = df_train_num['PM_US Post']\n",
    "    \n",
    "    df_test_num_X = df_test_num.drop('PM_US Post', axis = 1)\n",
    "    df_test_num_y = df_test_num['PM_US Post']\n",
    "    \n",
    "    df_train_num_X = (df_train_num_X - df_train_num_X.mean()) / df_train_num_X.std()\n",
    "    df_test_num_X = (df_test_num_X - df_test_num_X.mean()) / df_test_num_X.std()\n",
    "    \n",
    "    #add categorical columns again\n",
    "    df_train = pd.concat([df_train_num_y, df_train_num_X, df_train_cat], axis = 1)\n",
    "    df_test = pd.concat([df_test_num_y, df_test_num_X, df_test_cat], axis = 1)\n",
    "    \n",
    "    #split into train and validation set\n",
    "    df_tr = df_train[pd.to_datetime(df_train.index) <= pd.to_datetime(val_split)]\n",
    "    df_val = df_train[pd.to_datetime(df_train.index) > pd.to_datetime(val_split)]\n",
    "    \n",
    "    return df_tr, df_val, df_test"
   ]
  },
  {
   "cell_type": "markdown",
   "metadata": {},
   "source": [
    "Split a the above mentioned date for all five cities and the three alternative ways of replacing missing values:"
   ]
  },
  {
   "cell_type": "code",
   "execution_count": 45,
   "metadata": {},
   "outputs": [],
   "source": [
    "#Date for split into test and training data\n",
    "test_spl='2015-04-01'\n",
    "\n",
    "#Date for split into training and validation set\n",
    "val_spl='2014-10-01'\n",
    "cat_columns = ['cbwd_NE', 'cbwd_NW', 'cbwd_SE', 'cbwd_cv', 'season_1',\n",
    "       'season_2', 'season_3', 'season_4']\n",
    "\n",
    "beijing_d_tr, beijing_d_val, beijing_d_test = split_tvt(beijing_d, test_spl, val_spl, cat_columns)\n",
    "beijing_m_tr, beijing_m_val, beijing_m_test = split_tvt(beijing_m, test_spl, val_spl, cat_columns)\n",
    "beijing_ip_tr, beijing_ip_val, beijing_ip_test = split_tvt(beijing_ip, test_spl, val_spl, cat_columns)\n",
    "\n",
    "chengdu_d_tr, chengdu_d_val, chengdu_d_test = split_tvt(chengdu_d, test_spl, val_spl, cat_columns)\n",
    "chengdu_m_tr, chengdu_m_val, chengdu_m_test = split_tvt(chengdu_m, test_spl, val_spl, cat_columns)\n",
    "chengdu_ip_tr, chengdu_ip_val, chengdu_ip_test = split_tvt(chengdu_ip, test_spl, val_spl, cat_columns)\n",
    "\n",
    "guangzhou_d_tr, guangzhou_d_val, guangzhou_d_test = split_tvt(guangzhou_d, test_spl, val_spl, cat_columns)\n",
    "###columns of guangzhou are named different\n",
    "guangzhou_m['season_1'] = guangzhou_m['season_1.0']\n",
    "guangzhou_m['season_2'] = guangzhou_m['season_2.0']\n",
    "guangzhou_m['season_3'] = guangzhou_m['season_3.0']\n",
    "guangzhou_m['season_4'] = guangzhou_m['season_4.0']\n",
    "guangzhou_m.drop(['season_1.0', 'season_2.0', 'season_3.0', 'season_4.0'], axis = 1, inplace = True)\n",
    "guangzhou_ip['season_1'] = guangzhou_ip['season_1.0']\n",
    "guangzhou_ip['season_2'] = guangzhou_ip['season_2.0']\n",
    "guangzhou_ip['season_3'] = guangzhou_ip['season_3.0']\n",
    "guangzhou_ip['season_4'] = guangzhou_ip['season_4.0']\n",
    "guangzhou_ip.drop(['season_1.0', 'season_2.0', 'season_3.0', 'season_4.0'], axis = 1, inplace = True)\n",
    "###\n",
    "guangzhou_m_tr, guangzhou_m_val, guangzhou_m_test = split_tvt(guangzhou_m, test_spl, val_spl, cat_columns)\n",
    "guangzhou_ip_tr, guangzhou_ip_val, guangzhou_ip_test = split_tvt(guangzhou_ip, test_spl, val_spl, cat_columns)\n",
    "\n",
    "shanghai_d_tr, shanghai_d_val, shanghai_d_test = split_tvt(shanghai_d, test_spl, val_spl, cat_columns)\n",
    "shanghai_m_tr, shanghai_m_val, shanghai_m_test = split_tvt(shanghai_m, test_spl, val_spl, cat_columns)\n",
    "shanghai_ip_tr, shanghai_ip_val, shanghai_ip_test = split_tvt(shanghai_ip, test_spl, val_spl, cat_columns)\n",
    "\n",
    "shenyang_d_tr, shenyang_d_val, shenyang_d_test = split_tvt(shenyang_d, test_spl, val_spl, cat_columns)\n",
    "shenyang_m_tr, shenyang_m_val, shenyang_m_test = split_tvt(shenyang_m, test_spl, val_spl, cat_columns)\n",
    "shenyang_ip_tr, shenyang_ip_val, shenyang_ip_test = split_tvt(shenyang_ip, test_spl, val_spl, cat_columns)"
   ]
  },
  {
   "cell_type": "markdown",
   "metadata": {},
   "source": [
    "Show proportions of test and validation set:"
   ]
  },
  {
   "cell_type": "code",
   "execution_count": 46,
   "metadata": {},
   "outputs": [
    {
     "name": "stdout",
     "output_type": "stream",
     "text": [
      "Beijing\n",
      "proportion of test set: 0.12, proportion of validation set: 0.11\n",
      "Chengdu\n",
      "proportion of test set: 0.22, proportion of validation set: 0.23\n",
      "Guangzhou\n",
      "proportion of test set: 0.2, proportion of validation set: 0.19\n",
      "Shanghai\n",
      "proportion of test set: 0.16, proportion of validation set: 0.19\n",
      "Shenyang\n",
      "proportion of test set: 0.25, proportion of validation set: 0.29\n"
     ]
    }
   ],
   "source": [
    "city_names = ['Beijing', 'Chengdu', 'Guangzhou', 'Shanghai','Shenyang']\n",
    "\n",
    "#proportion of test data in total data\n",
    "proportion_test_set = [len(beijing_d_test)/len(beijing_d),len(chengdu_d_test)/len(chengdu_d),len(guangzhou_d_test)/len(guangzhou_d),len(shanghai_d_test)/len(shanghai_d),len(shenyang_d_test)/len(shenyang_d)]\n",
    "\n",
    "#proportion of in validation set in training data\n",
    "proportion_val_set = [len(beijing_d_val)/len(beijing_d_tr),len(chengdu_d_val)/len(chengdu_d_tr),len(guangzhou_d_val)/len(guangzhou_d_tr),len(shanghai_d_val)/len(shanghai_d_tr),len(shenyang_d_val)/len(shenyang_d_tr)]\n",
    "\n",
    "for i in range(0,5):\n",
    "    print(city_names[i])\n",
    "    print('proportion of test set: ' + str(round(proportion_test_set[i], 2)) + ', proportion of validation set: ' + str(round(proportion_val_set[i],2)))"
   ]
  },
  {
   "cell_type": "markdown",
   "metadata": {},
   "source": [
    "## 2.5 Performance Measures: MSE and $R^{2}$"
   ]
  },
  {
   "cell_type": "markdown",
   "metadata": {},
   "source": [
    "The last step in the second chapter is to find a suitable performance measure for the task and target variable presented. A performance measure typically used for regression problems is the Mean-Squared-Error ($MSE$). It gives an idea of how many errors the system typically makes in its predictions, with large errors being weighted more heavily (Aurélien and Géron, 2019, p. 42).\n",
    "\n",
    "$MSE(X,h) = \\frac{1}{n} \\sum_{i=1}^{n} (h(x^{(i)}) - y^{(i)})^2 $\n",
    "\n",
    "with $n$ being the number of observations in the dataset the $MSE$ is measured on. $x^{i}$ is the feature vector (without labels) of the $i^{th}$ observation and $y^{(i)}$ its label."
   ]
  },
  {
   "cell_type": "code",
   "execution_count": 47,
   "metadata": {},
   "outputs": [],
   "source": [
    "#Compute mse\n",
    "def mse(y_true, y_pred): return ((y_true - y_pred)**2).mean()"
   ]
  },
  {
   "cell_type": "markdown",
   "metadata": {},
   "source": [
    "As a second performance measure the $R^{2}$, a common metric in statistics is used (https://en.wikipedia.org/wiki/Coefficient_of_determination, last acess: August 30th 2021).\n",
    "\n",
    "$R^{2}$ = $\\frac{ESS}{TSS}$ = \n",
    "$1 - \\frac{\\sum_{i=1}^{n} (y^{(i)} - h(x^{(i)}) )^{2}}{\\sum_{i=1}^{n}(y^{(i)} - \\overline{y})^{2}}$\n",
    "\n",
    "$\\overline{y}$ is the mean of the estimated values, $ESS$ the explained sum of squares and $TSS$ Total sum of squares. $R^{2}$ is a dimensionless measure that expresses the proportion of variability  of the dependent variable that is explained by the linear model. "
   ]
  },
  {
   "cell_type": "markdown",
   "metadata": {},
   "source": [
    "# 3. Benchmark model"
   ]
  },
  {
   "cell_type": "markdown",
   "metadata": {},
   "source": [
    "A reference model is important to evaluate the machine learning models implemented. The dataset itself does not provide a benchmark forecast. Therefore a simple multiple linear regression model is used as a benchmark model. The dataset consists of mostly numerical continous variables and two dummy variables. For those reasons a multiple linear regression model seems appropriate. As mentioned before the benchmark model is also intended to give an impression of which method of pre-processing performs best on the underlying data set. As a performance measure the presented $MSE$ is used and first evaluated on the validation set and later on the test set."
   ]
  },
  {
   "cell_type": "code",
   "execution_count": 48,
   "metadata": {},
   "outputs": [],
   "source": [
    "from sklearn.linear_model import LinearRegression\n",
    "\n",
    "#Method to estimate MSE and R2 for training and validation set\n",
    "def lin_reg (data_tr, y_col, data_val):\n",
    "    X_tr = data_tr.drop(y_col, axis = 1)\n",
    "    y_tr = data_tr[y_col]\n",
    "    \n",
    "    model_lr = LinearRegression()\n",
    "    \n",
    "    #fit model parameters with training data\n",
    "    model_lr.fit(X_tr,y_tr)\n",
    "    \n",
    "    #make predictions for validation/test set\n",
    "    X_val = data_val.drop(y_col, axis = 1)\n",
    "    y_val = data_val[y_col]    \n",
    "    predictions = model_lr.predict(X_val)\n",
    "    \n",
    "    mse_linear = mse(y_val, predictions)\n",
    "\n",
    "    #R2 score\n",
    "    R2_tr = model_lr.score(X_tr, y_tr)\n",
    "    R2_val = model_lr.score(X_val, y_val)\n",
    "    \n",
    "    return [mse_linear, R2_tr, R2_val]"
   ]
  },
  {
   "cell_type": "code",
   "execution_count": 49,
   "metadata": {},
   "outputs": [],
   "source": [
    "# #Method to estimate MSE and R2 for training and validation set\n",
    "# def lin_reg (data_tr, y_col, data_val):\n",
    "#     X_tr = data_tr.drop(y_col, axis = 1)\n",
    "#     y_tr = data_tr[y_col]\n",
    "    \n",
    "#     model_lr = LinearRegression()\n",
    "    \n",
    "#     #fit model parameters with training data\n",
    "#     model_lr.fit(X_tr,y_tr)\n",
    "    \n",
    "#     #make predictions for validation/test set\n",
    "#     X_val = data_val.drop(y_col, axis = 1)\n",
    "#     y_val = data_val[y_col]    \n",
    "#     predictions = model_lr.predict(X_val)\n",
    "    \n",
    "#     mse_linear = mse(y_val, predictions)\n",
    "\n",
    "#     #R2 score\n",
    "#     R2_tr = model_lr.score(X_tr, y_tr)\n",
    "#     R2_val = model_lr.score(X_val, y_val)\n",
    "    \n",
    "#     return [mse_linear, R2_tr, R2_val]"
   ]
  },
  {
   "cell_type": "markdown",
   "metadata": {},
   "source": [
    "Calculate $MSE$ for each city and and preprocessing method. Drop, mean and interpolate denote Option 1, Option 2 and Option 3 from chapter 2."
   ]
  },
  {
   "cell_type": "code",
   "execution_count": 50,
   "metadata": {},
   "outputs": [
    {
     "name": "stdout",
     "output_type": "stream",
     "text": [
      "| City               |     MSE |   R2 Train |   R2 Valid |\n",
      "|--------------------+---------+------------+------------|\n",
      "| beijing drop       | 6519.50 |       0.32 |       0.40 |\n",
      "| beijing mean       | 6505.88 |       0.31 |       0.39 |\n",
      "| beijing interpol   | 6497.37 |       0.32 |       0.40 |\n",
      "| chengdu drop       | 2548.78 |       0.29 |       0.16 |\n",
      "| chengdu mean       | 2579.50 |       0.29 |       0.14 |\n",
      "| chengdu interpol   | 2584.91 |       0.29 |       0.15 |\n",
      "| guangzhou drop     |  946.65 |       0.13 |       0.07 |\n",
      "| guangzhou mean     |  946.65 |       0.13 |       0.07 |\n",
      "| guangzhou interpol |  946.65 |       0.13 |       0.07 |\n",
      "| shanghai drop      | 1443.56 |       0.25 |       0.26 |\n",
      "| shanghai mean      | 1427.07 |       0.25 |       0.26 |\n",
      "| shanghai interpol  | 1433.65 |       0.25 |       0.26 |\n",
      "| shenyang drop      | 8130.29 |       0.29 |       0.00 |\n",
      "| shenyang mean      | 8053.63 |       0.29 |       0.00 |\n",
      "| shenyang interpol  | 8084.59 |       0.29 |       0.00 |\n"
     ]
    }
   ],
   "source": [
    "from tabulate import tabulate\n",
    "\n",
    "print(tabulate([['beijing drop', lin_reg(beijing_d_tr, 'PM_US Post', beijing_d_val)[0],lin_reg(beijing_d_tr, 'PM_US Post', beijing_d_val)[1],lin_reg(beijing_d_tr, 'PM_US Post', beijing_d_val)[2]],\n",
    "                ['beijing mean', lin_reg(beijing_m_tr, 'PM_US Post', beijing_m_val)[0],lin_reg(beijing_m_tr, 'PM_US Post', beijing_m_val)[1],lin_reg(beijing_m_tr, 'PM_US Post', beijing_m_val)[2]],\n",
    "                ['beijing interpol', lin_reg(beijing_ip_tr, 'PM_US Post', beijing_ip_val)[0],lin_reg(beijing_ip_tr, 'PM_US Post', beijing_ip_val)[1],lin_reg(beijing_ip_tr, 'PM_US Post', beijing_ip_val)[2]],\n",
    "                ['chengdu drop', lin_reg(chengdu_d_tr, 'PM_US Post', chengdu_d_val)[0],lin_reg(chengdu_d_tr, 'PM_US Post', chengdu_d_val)[1],lin_reg(chengdu_d_tr, 'PM_US Post', chengdu_d_val)[2]],\n",
    "                ['chengdu mean', lin_reg(chengdu_m_tr, 'PM_US Post', chengdu_m_val)[0],lin_reg(chengdu_m_tr, 'PM_US Post', chengdu_m_val)[1],lin_reg(chengdu_m_tr, 'PM_US Post', chengdu_m_val)[2]],\n",
    "                ['chengdu interpol', lin_reg(chengdu_ip_tr, 'PM_US Post', chengdu_ip_val)[0],lin_reg(chengdu_ip_tr, 'PM_US Post', chengdu_ip_val)[1],lin_reg(chengdu_ip_tr, 'PM_US Post', chengdu_ip_val)[2]],\n",
    "                ['guangzhou drop', lin_reg(guangzhou_d_tr, 'PM_US Post', guangzhou_d_val)[0],lin_reg(guangzhou_d_tr, 'PM_US Post', guangzhou_d_val)[1],lin_reg(guangzhou_d_tr, 'PM_US Post', guangzhou_d_val)[2]],\n",
    "                ['guangzhou mean', lin_reg(guangzhou_m_tr, 'PM_US Post', guangzhou_m_val)[0],lin_reg(guangzhou_m_tr, 'PM_US Post', guangzhou_m_val)[1],lin_reg(guangzhou_m_tr, 'PM_US Post', guangzhou_m_val)[2]],\n",
    "                ['guangzhou interpol', lin_reg(guangzhou_ip_tr, 'PM_US Post', guangzhou_ip_val)[0],lin_reg(guangzhou_ip_tr, 'PM_US Post', guangzhou_ip_val)[1],lin_reg(guangzhou_ip_tr, 'PM_US Post', guangzhou_ip_val)[2]],\n",
    "                ['shanghai drop', lin_reg(shanghai_d_tr, 'PM_US Post', shanghai_d_val)[0],lin_reg(shanghai_d_tr, 'PM_US Post', shanghai_d_val)[1],lin_reg(shanghai_d_tr, 'PM_US Post', shanghai_d_val)[2]],\n",
    "                ['shanghai mean', lin_reg(shanghai_m_tr, 'PM_US Post', shanghai_m_val)[0],lin_reg(shanghai_m_tr, 'PM_US Post', shanghai_m_val)[1],lin_reg(shanghai_m_tr, 'PM_US Post', shanghai_m_val)[2]],\n",
    "                ['shanghai interpol', lin_reg(shanghai_ip_tr, 'PM_US Post', shanghai_ip_val)[0],lin_reg(shanghai_ip_tr, 'PM_US Post', shanghai_ip_val)[1],lin_reg(shanghai_ip_tr, 'PM_US Post', shanghai_ip_val)[2]],\n",
    "                ['shenyang drop', lin_reg(shenyang_d_tr, 'PM_US Post', shenyang_d_val)[0],lin_reg(shenyang_d_tr, 'PM_US Post', shenyang_d_val)[1],lin_reg(shenyang_d_tr, 'PM_US Post', shenyang_d_val)[2]],\n",
    "                ['shenyang mean', lin_reg(shenyang_m_tr, 'PM_US Post', shenyang_m_val)[0],lin_reg(shenyang_m_tr, 'PM_US Post', shenyang_m_val)[1],lin_reg(shenyang_m_tr, 'PM_US Post', shenyang_m_val)[2]],\n",
    "                ['shenyang interpol', lin_reg(shenyang_ip_tr, 'PM_US Post', shenyang_ip_val)[0],lin_reg(shenyang_ip_tr, 'PM_US Post', shenyang_ip_val)[1],lin_reg(shenyang_ip_tr, 'PM_US Post', shenyang_ip_val)[2]]\n",
    "                ],\n",
    "                headers=['City', 'MSE', 'R2 Train', 'R2 Valid'], tablefmt='orgtbl',floatfmt = [None, '.2f','.2f','.2f']))"
   ]
  },
  {
   "cell_type": "markdown",
   "metadata": {},
   "source": [
    "The table above shows, that the $MSE$ does not change a lot through the different preprocessing methods. For Shenyang, Guangzhou and Shanghai option 2 (replacing with daily mean) provides the smallest $MSE$. Chengdu performs best by simply dropping (option 1) and Beijing by interpolating missing values (option 3). Since all three preprocessing options compare almost equally favourable in terms of $MSE$, option 2 is used for all cities.\n",
    "\n",
    "Similar values of $R^2$ Train and $R^2$ Valid suggest a low level of overfitting for the linear regression model. In general the $R^2$ values are rather small (<0.4 training, <0.5 validation). In the case of Guangzhou and Shenyang $R^2$ is close to 0, which votes for a bad fit. \n",
    "\n",
    "Together with the high $MSE$ the low $R^2$ prompts that a linear model might not be the best choice to forecast PM2.5 values based on the existing features.\n",
    "Owing to the overall better results for the mean replacement of missing data, further exploration are based on these datasets."
   ]
  },
  {
   "cell_type": "code",
   "execution_count": 51,
   "metadata": {},
   "outputs": [],
   "source": [
    "# #save for further processing\n",
    "# beijing_m_test.to_csv('/Users/johannesthellmann/Desktop/SoSe2021/Introduction to Statistical Machine Learning/Report/Dataset/From Model/beijing_m_test.csv')\n",
    "# beijing_m_tr.to_csv('/Users/johannesthellmann/Desktop/SoSe2021/Introduction to Statistical Machine Learning/Report/Dataset/From Model/beijing_m_train.csv')\n",
    "# beijing_m_val.to_csv('/Users/johannesthellmann/Desktop/SoSe2021/Introduction to Statistical Machine Learning/Report/Dataset/From Model/beijing_m_valid.csv')\n",
    "\n",
    "# chengdu_m_test.to_csv('/Users/johannesthellmann/Desktop/SoSe2021/Introduction to Statistical Machine Learning/Report/Dataset/From Model/chengdu_m_test.csv')\n",
    "# chengdu_m_tr.to_csv('/Users/johannesthellmann/Desktop/SoSe2021/Introduction to Statistical Machine Learning/Report/Dataset/From Model/chengdu_m_train.csv')\n",
    "# chengdu_m_val.to_csv('/Users/johannesthellmann/Desktop/SoSe2021/Introduction to Statistical Machine Learning/Report/Dataset/From Model/chengdu_m_valid.csv')\n",
    "\n",
    "# guangzhou_m_test.to_csv('/Users/johannesthellmann/Desktop/SoSe2021/Introduction to Statistical Machine Learning/Report/Dataset/From Model/guangzhou_m_test.csv')\n",
    "# guangzhou_m_tr.to_csv('/Users/johannesthellmann/Desktop/SoSe2021/Introduction to Statistical Machine Learning/Report/Dataset/From Model/guangzhou_m_train.csv')\n",
    "# guangzhou_m_val.to_csv('/Users/johannesthellmann/Desktop/SoSe2021/Introduction to Statistical Machine Learning/Report/Dataset/From Model/guangzhou_m_valid.csv')\n",
    "\n",
    "# shanghai_m_test.to_csv('/Users/johannesthellmann/Desktop/SoSe2021/Introduction to Statistical Machine Learning/Report/Dataset/From Model/shanghai_m_test.csv')\n",
    "# shanghai_m_tr.to_csv('/Users/johannesthellmann/Desktop/SoSe2021/Introduction to Statistical Machine Learning/Report/Dataset/From Model/shanghai_m_train.csv')\n",
    "# shanghai_m_val.to_csv('/Users/johannesthellmann/Desktop/SoSe2021/Introduction to Statistical Machine Learning/Report/Dataset/From Model/shanghai_m_valid.csv')\n",
    "\n",
    "# shenyang_m_test.to_csv('/Users/johannesthellmann/Desktop/SoSe2021/Introduction to Statistical Machine Learning/Report/Dataset/From Model/shenyang_m_test.csv')\n",
    "# shenyang_m_tr.to_csv('/Users/johannesthellmann/Desktop/SoSe2021/Introduction to Statistical Machine Learning/Report/Dataset/From Model/shenyang_m_train.csv')\n",
    "# shenyang_m_val.to_csv('/Users/johannesthellmann/Desktop/SoSe2021/Introduction to Statistical Machine Learning/Report/Dataset/From Model/shenyang_m_valid.csv')"
   ]
  },
  {
   "cell_type": "markdown",
   "metadata": {},
   "source": [
    "After choosing a benchmark model and filling-in missing values it is fitted to the test data and evaluated. As a performance measure the $MSE$ and $R^2$ are used again."
   ]
  },
  {
   "cell_type": "code",
   "execution_count": 52,
   "metadata": {},
   "outputs": [],
   "source": [
    "beijing_m_test = pd.read_csv('/Users/johannesthellmann/Desktop/SoSe2021/Introduction to Statistical Machine Learning/Report/Dataset/From Model/beijing_m_test.csv', index_col='index')\n",
    "beijing_m_tr = pd.read_csv('/Users/johannesthellmann/Desktop/SoSe2021/Introduction to Statistical Machine Learning/Report/Dataset/From Model/beijing_m_train.csv', index_col='index')\n",
    "beijing_m_val = pd.read_csv('/Users/johannesthellmann/Desktop/SoSe2021/Introduction to Statistical Machine Learning/Report/Dataset/From Model/beijing_m_valid.csv', index_col='index')\n",
    "\n",
    "chengdu_m_test = pd.read_csv('/Users/johannesthellmann/Desktop/SoSe2021/Introduction to Statistical Machine Learning/Report/Dataset/From Model/chengdu_m_test.csv', index_col='index')\n",
    "chengdu_m_tr = pd.read_csv('/Users/johannesthellmann/Desktop/SoSe2021/Introduction to Statistical Machine Learning/Report/Dataset/From Model/chengdu_m_train.csv', index_col='index')\n",
    "chengdu_m_val = pd.read_csv('/Users/johannesthellmann/Desktop/SoSe2021/Introduction to Statistical Machine Learning/Report/Dataset/From Model/chengdu_m_valid.csv', index_col='index')\n",
    "\n",
    "guangzhou_m_test = pd.read_csv('/Users/johannesthellmann/Desktop/SoSe2021/Introduction to Statistical Machine Learning/Report/Dataset/From Model/guangzhou_m_test.csv', index_col='index')\n",
    "guangzhou_m_tr = pd.read_csv('/Users/johannesthellmann/Desktop/SoSe2021/Introduction to Statistical Machine Learning/Report/Dataset/From Model/guangzhou_m_train.csv', index_col='index')\n",
    "guangzhou_m_val = pd.read_csv('/Users/johannesthellmann/Desktop/SoSe2021/Introduction to Statistical Machine Learning/Report/Dataset/From Model/guangzhou_m_valid.csv', index_col='index')\n",
    "\n",
    "shanghai_m_test = pd.read_csv('/Users/johannesthellmann/Desktop/SoSe2021/Introduction to Statistical Machine Learning/Report/Dataset/From Model/shanghai_m_test.csv', index_col='index')\n",
    "shanghai_m_tr = pd.read_csv('/Users/johannesthellmann/Desktop/SoSe2021/Introduction to Statistical Machine Learning/Report/Dataset/From Model/shanghai_m_train.csv', index_col='index')\n",
    "shanghai_m_val = pd.read_csv('/Users/johannesthellmann/Desktop/SoSe2021/Introduction to Statistical Machine Learning/Report/Dataset/From Model/shanghai_m_valid.csv', index_col='index')\n",
    "\n",
    "shenyang_m_test = pd.read_csv('/Users/johannesthellmann/Desktop/SoSe2021/Introduction to Statistical Machine Learning/Report/Dataset/From Model/shenyang_m_test.csv', index_col='index')\n",
    "shenyang_m_tr = pd.read_csv('/Users/johannesthellmann/Desktop/SoSe2021/Introduction to Statistical Machine Learning/Report/Dataset/From Model/shenyang_m_train.csv', index_col='index')\n",
    "shenyang_m_val = pd.read_csv('/Users/johannesthellmann/Desktop/SoSe2021/Introduction to Statistical Machine Learning/Report/Dataset/From Model/shenyang_m_valid.csv', index_col='index')"
   ]
  },
  {
   "cell_type": "markdown",
   "metadata": {},
   "source": [
    "For Validation Set:"
   ]
  },
  {
   "cell_type": "code",
   "execution_count": 53,
   "metadata": {},
   "outputs": [
    {
     "name": "stdout",
     "output_type": "stream",
     "text": [
      "| City           |     MSE |   R2 Train |   R2 Val |\n",
      "|----------------+---------+------------+----------|\n",
      "| beijing mean   | 6506.56 |       0.31 |     0.39 |\n",
      "| chengdu mean   | 2578.36 |       0.29 |     0.14 |\n",
      "| guangzhou mean |  946.65 |       0.13 |     0.07 |\n",
      "| shanghai mean  | 1427.07 |       0.25 |     0.26 |\n",
      "| shenyang mean  | 8053.63 |       0.29 |     0.00 |\n"
     ]
    }
   ],
   "source": [
    "print(tabulate([['beijing mean', lin_reg(beijing_m_tr, 'PM_US Post', beijing_m_val)[0],lin_reg(beijing_m_tr, 'PM_US Post', beijing_m_val)[1],lin_reg(beijing_m_tr, 'PM_US Post', beijing_m_val)[2]],\n",
    "                ['chengdu mean', lin_reg(chengdu_m_tr, 'PM_US Post', chengdu_m_val)[0],lin_reg(chengdu_m_tr, 'PM_US Post', chengdu_m_val)[1],lin_reg(chengdu_m_tr, 'PM_US Post', chengdu_m_val)[2]],\n",
    "                ['guangzhou mean', lin_reg(guangzhou_m_tr, 'PM_US Post', guangzhou_m_val)[0],lin_reg(guangzhou_m_tr, 'PM_US Post', guangzhou_m_val)[1],lin_reg(guangzhou_m_tr, 'PM_US Post', guangzhou_m_val)[2]],\n",
    "                ['shanghai mean', lin_reg(shanghai_m_tr, 'PM_US Post', shanghai_m_val)[0],lin_reg(shanghai_m_tr, 'PM_US Post', shanghai_m_val)[1],lin_reg(shanghai_m_tr, 'PM_US Post', shanghai_m_val)[2]],\n",
    "                ['shenyang mean', lin_reg(shenyang_m_tr, 'PM_US Post', shenyang_m_val)[0],lin_reg(shenyang_m_tr, 'PM_US Post', shenyang_m_val)[1],lin_reg(shenyang_m_tr, 'PM_US Post', shenyang_m_val)[2]],\n",
    "                ],\n",
    "                headers=['City', 'MSE', 'R2 Train', 'R2 Val'], tablefmt='orgtbl', floatfmt = [None, '.2f','.2f','.2f']))"
   ]
  },
  {
   "cell_type": "markdown",
   "metadata": {},
   "source": [
    "For Test Set:"
   ]
  },
  {
   "cell_type": "code",
   "execution_count": 54,
   "metadata": {},
   "outputs": [
    {
     "name": "stdout",
     "output_type": "stream",
     "text": [
      "| City           |                         MSE |   R2 Train |                   R2 Test |\n",
      "|----------------+-----------------------------+------------+---------------------------|\n",
      "| beijing mean   |                     5459.06 |       0.31 |                      0.28 |\n",
      "| chengdu mean   | 451055048864609203126272.00 |       0.29 | -279786943844880089088.00 |\n",
      "| guangzhou mean |                      785.58 |       0.13 |                     -0.54 |\n",
      "| shanghai mean  |                      903.54 |       0.25 |                      0.18 |\n",
      "| shenyang mean  |                     2453.12 |       0.29 |                      0.24 |\n"
     ]
    }
   ],
   "source": [
    "print(tabulate([['beijing mean', lin_reg(beijing_m_tr, 'PM_US Post', beijing_m_test)[0],lin_reg(beijing_m_tr, 'PM_US Post', beijing_m_test)[1],lin_reg(beijing_m_tr, 'PM_US Post', beijing_m_test)[2]],\n",
    "                ['chengdu mean', lin_reg(chengdu_m_tr, 'PM_US Post', chengdu_m_test)[0],lin_reg(chengdu_m_tr, 'PM_US Post', chengdu_m_test)[1],lin_reg(chengdu_m_tr, 'PM_US Post', chengdu_m_test)[2]],\n",
    "                ['guangzhou mean', lin_reg(guangzhou_m_tr, 'PM_US Post', guangzhou_m_test)[0],lin_reg(guangzhou_m_tr, 'PM_US Post', guangzhou_m_test)[1],lin_reg(guangzhou_m_tr, 'PM_US Post', guangzhou_m_test)[2]],\n",
    "                ['shanghai mean', lin_reg(shanghai_m_tr, 'PM_US Post', shanghai_m_test)[0],lin_reg(shanghai_m_tr, 'PM_US Post', shanghai_m_test)[1],lin_reg(shanghai_m_tr, 'PM_US Post', shanghai_m_test)[2]],\n",
    "                ['shenyang mean', lin_reg(shenyang_m_tr, 'PM_US Post', shenyang_m_test)[0],lin_reg(shenyang_m_tr, 'PM_US Post', shenyang_m_test)[1],lin_reg(shenyang_m_tr, 'PM_US Post', shenyang_m_test)[2]],\n",
    "                ],\n",
    "                headers=['City', 'MSE', 'R2 Train', 'R2 Test'], tablefmt='orgtbl', floatfmt = [None, '.2f','.2f','.2f']))"
   ]
  },
  {
   "cell_type": "markdown",
   "metadata": {},
   "source": [
    "For chengdu the benchmark $MSE$ looks somehow strange. This happened just at the last run of the notebook and no explanation could be found (Edit 30th September 2021).\n",
    "Nothing like this occurs for the validation set, so it stands to reason that the model is correct. Therefore the dataset with the dropped missing values will be used instead for chengdu."
   ]
  },
  {
   "cell_type": "code",
   "execution_count": 55,
   "metadata": {},
   "outputs": [
    {
     "name": "stdout",
     "output_type": "stream",
     "text": [
      "| City         |     MSE |   R2 Train |   R2 Test |\n",
      "|--------------+---------+------------+-----------|\n",
      "| chengdu mean | 1846.16 |       0.29 |     -0.13 |\n"
     ]
    }
   ],
   "source": [
    "print(tabulate([['chengdu mean', lin_reg(chengdu_d_tr, 'PM_US Post', chengdu_d_test)[0],lin_reg(chengdu_d_tr, 'PM_US Post', chengdu_m_test)[1],lin_reg(chengdu_d_tr, 'PM_US Post', chengdu_d_test)[2]],],\n",
    "                headers=['City', 'MSE', 'R2 Train', 'R2 Test'], tablefmt='orgtbl', floatfmt = [None, '.2f','.2f','.2f']))"
   ]
  },
  {
   "cell_type": "code",
   "execution_count": 56,
   "metadata": {},
   "outputs": [],
   "source": [
    "#Rename training, test and validation set, so that not everything needs to be changed (Edit 30th September 2021)\n",
    "chengdu_m_tr = chengdu_d_tr\n",
    "chengdu_m_val = chengdu_d_val\n",
    "chengdu_m_test = chengdu_d_test"
   ]
  },
  {
   "cell_type": "code",
   "execution_count": 57,
   "metadata": {},
   "outputs": [],
   "source": [
    "#save mse of benchmark model for later comparisons\n",
    "mse_lr = {'beijing': lin_reg(beijing_m_tr, 'PM_US Post', beijing_m_test)[0],\n",
    "          'chengdu': lin_reg(chengdu_m_tr, 'PM_US Post', chengdu_m_test)[0],\n",
    "          'guangzhou': lin_reg(guangzhou_m_tr, 'PM_US Post', guangzhou_m_test)[0],\n",
    "          'shanghai': lin_reg(shanghai_m_tr, 'PM_US Post', shanghai_m_test)[0],\n",
    "          'shenyang': lin_reg(shenyang_m_tr, 'PM_US Post', shenyang_m_test)[0]\n",
    "         }"
   ]
  },
  {
   "cell_type": "code",
   "execution_count": 58,
   "metadata": {},
   "outputs": [
    {
     "name": "stdout",
     "output_type": "stream",
     "text": [
      "{'beijing': 5459.063089921674, 'chengdu': 1846.1561930663836, 'guangzhou': 785.5768426873693, 'shanghai': 903.5430841996454, 'shenyang': 2453.118329127704}\n"
     ]
    }
   ],
   "source": [
    "print(mse_lr)"
   ]
  },
  {
   "cell_type": "markdown",
   "metadata": {},
   "source": [
    "For the test set the $MSE$ is lower for every city compared to the validation set. But with an average concentration of 83 (chengdu) the model still predicts values far off the true value. Also for the test set the\n",
    "$R^{2}$ is negative for Chengdu and Guangzhou. In these two cases simply using the mean would be better than the predictions. The high $MSE$ and low $R^{2}$ show that a linear modell is not the best idea and urge for a better approach.\n",
    "\n",
    "The following expectations for the machine learning model can be set in advance. A High $MSE$ indicates that linear models produce high deviations and an alternative methodology is needed to make meaningful predictions regarding particulate matter concentrations in cities. For Beijing, Shanghai and Shenyang, the $R^2$ does not change much between training and test set. However, for all cities, the $R^2$ is low even on the data used for training, and it remains questionable whether reliable predictions can be made based on the training data. For Chengdu and Guangzhou, it would even be better to simply take the average value, as this tends to give a better model. "
   ]
  },
  {
   "cell_type": "markdown",
   "metadata": {},
   "source": [
    "# 4. Machine Learning Model"
   ]
  },
  {
   "cell_type": "markdown",
   "metadata": {},
   "source": [
    "Many different statistical and machine learning methods are used in the past to predict PM2.5 concentration values based on various features. Brokamp et al. (2017, p. 2) use linear Regression and Random Forests and make predictions using landmark features. Joharestani et al. (2019, p. 17) use Random Forests, XGradient Boosting and Deep Neural Networks to predict using spatial information, such as latitude, longitude, and meteorological information, such as sampling season. They find the best results with XGradient Boosting with very low cost of time. \n",
    "Although methods like variance inflation tests combat linear regression´s problem with correlated features, they usually work by removing variables that might otherwise be useful for prediction. Furthermore, linear models exhibit difficulties in capturing non-linear relationships and complex interactions. Due to the aforementioned facts, first Random Forest and later Xtreme Gradient Boosting are used as machine learning methods."
   ]
  },
  {
   "cell_type": "markdown",
   "metadata": {},
   "source": [
    "## 4.1 Random Forests"
   ]
  },
  {
   "cell_type": "markdown",
   "metadata": {},
   "source": [
    "Random Forests (Breiman, 2001) are an essential variation of bagging, in which a large collection of decorrelated decision trees are formed and from which the average is then taken (description and algorithm follow Hastie, p. 587-590). The essential idea then is to average many noisy but approximately unbiased models, thereby reducing variance. Trees are ideal candidates for bagging because they can capture complex interactions. Since trees are notoriously noisy, they benefit greatly from averaging.\n",
    "\n",
    "1. For b = 1 to B:\n",
    "    1. Draw a bootstrap sample $Z^{*}$ from the training set with size N.\n",
    "    2. Grow a tree $T_{b}$ from the bootstrap data by following the subsequent steps for each terminal node of the tree until a minimum node size $n_{min}$:\n",
    "        1. Select $m$ variables randomly from the $p$ predictor variables.\n",
    "        2. Pick the best split-point in $m$.\n",
    "        3. Split the node into two child nodes.\n",
    "\n",
    "2. Output of the ensemble of trees $\\{T_b\\}_{1}^{B}$\n",
    "\n",
    "To predict for a new data point x:\n",
    "\n",
    "$\\hat{y}_{rf}^B = \\frac{1}{B} \\sum_{b=1}^{B}T_b(x)$ \n"
   ]
  },
  {
   "cell_type": "code",
   "execution_count": 59,
   "metadata": {},
   "outputs": [],
   "source": [
    "#Method to print scores\n",
    "def print_scores(m, data_train, data_valid, y_col, val_or_test, city_name):\n",
    "    X_train = data_train.drop(y_col, axis = 1)\n",
    "    y_train = data_train[y_col]\n",
    "    X_valid = data_valid.drop(y_col, axis = 1)\n",
    "    y_valid = data_valid[y_col]\n",
    "    \n",
    "    print(city_name, ': MSE = ', \n",
    "          round(mse(m.predict(X_valid), y_valid),2),', R2 Train = ', round(m.score(X_train, y_train),2), \n",
    "          ', R2',val_or_test, '= ',  round(m.score(X_valid, y_valid),2), 'Change to base mse {:0.2f}%.'.format(100 * (((mse(m.predict(X_valid), y_valid)) - mse_lr[city_name]) / mse_lr[city_name])))"
   ]
  },
  {
   "cell_type": "code",
   "execution_count": 60,
   "metadata": {},
   "outputs": [],
   "source": [
    "from sklearn.metrics import r2_score\n",
    "\n",
    "#Method to print scores\n",
    "def print_scores(m, data_train, data_valid, y_col, val_or_test, city_name):\n",
    "    X_train = data_train.drop(y_col, axis = 1)\n",
    "    y_train = data_train[y_col]\n",
    "    X_valid = data_valid.drop(y_col, axis = 1)\n",
    "    y_valid = data_valid[y_col]\n",
    "    \n",
    "    print(city_name, ': MSE = ', \n",
    "          round(mse(y_valid, m.predict(X_valid)),2),\n",
    "          ', R2 Train = ', round(r2_score(y_train, m.predict(X_train)),2), \n",
    "          ', R2',val_or_test, '= ', round(r2_score(y_valid, m.predict(X_valid)),2),\n",
    "          'Change to base mse {:0.2f}%.'.format(100 * (((mse(y_valid, m.predict(X_valid))- mse_lr[city_name]) / mse_lr[city_name]))))"
   ]
  },
  {
   "cell_type": "markdown",
   "metadata": {},
   "source": [
    "### 4.1.1 Hyperparameters Random Forests"
   ]
  },
  {
   "cell_type": "markdown",
   "metadata": {},
   "source": [
    "In order for the Random Forests algorithm to work a number of hyperparameters have to be choosen. The optimal values for the parameters depend on the application and require tuning with cross-validation or validation sets.\n",
    "\n",
    "1. m: The number of predictors used from the p predictor variables at each split (Hastie et al. 2017, p. 592). Default value for regression is $m = \\lfloor p/3 \\rfloor$\n",
    "2. $n_{min}$: minimum node size. Default value for regression is 5.\n",
    "3. bootstrap: For each observation grow its random forest predictor by averaging only those trees corresponding to the samples of the bootstrap in which the observation did not appear (Hastie et al. 2017, p. 593). Default value is True.\n",
    "4. $B$: The number of trees grown. Random Forest cannot overfit, but a too rich model incurs unnecesary variance (Hastie et al. 2017, p. 596). Default value is 100.\n",
    "\n",
    "For the implementation the RandomForestRegressor from sklearn.ensemble is used. To get a first estimation, the default values described above are used with $m = \\lfloor 16/3 \\rfloor = 5$."
   ]
  },
  {
   "cell_type": "code",
   "execution_count": 61,
   "metadata": {},
   "outputs": [
    {
     "name": "stdout",
     "output_type": "stream",
     "text": [
      "beijing : MSE =  5730.6 , R2 Train =  0.66 , R2 Valid =  0.47 Change to base mse 4.97%.\n",
      "chengdu : MSE =  2744.52 , R2 Train =  0.63 , R2 Valid =  0.09 Change to base mse 48.66%.\n",
      "guangzhou : MSE =  935.33 , R2 Train =  0.6 , R2 Valid =  0.09 Change to base mse 19.06%.\n",
      "shanghai : MSE =  1498.89 , R2 Train =  0.67 , R2 Valid =  0.22 Change to base mse 65.89%.\n",
      "shenyang : MSE =  7490.21 , R2 Train =  0.69 , R2 Valid =  0.07 Change to base mse 205.33%.\n"
     ]
    }
   ],
   "source": [
    "from sklearn.ensemble import RandomForestRegressor\n",
    "\n",
    "#For Validation Set\n",
    "for city in [[beijing_m_tr,beijing_m_val, 'beijing'],\n",
    "             [chengdu_m_tr,chengdu_m_val, 'chengdu'],\n",
    "             [guangzhou_m_tr,guangzhou_m_val, 'guangzhou'],\n",
    "             [shanghai_m_tr,shanghai_m_val,'shanghai'],\n",
    "             [shenyang_m_tr,shenyang_m_val, 'shenyang']]:\n",
    "    #simple RF model to get first impression\n",
    "    rf = RandomForestRegressor(n_estimators=100, n_jobs=-1, min_samples_leaf=5,\n",
    "                               bootstrap = True, max_features = 5, random_state = 17)\n",
    "    rf.fit(city[0].drop('PM_US Post', axis =1), city[0]['PM_US Post'])\n",
    "\n",
    "    print_scores(rf, data_train = city[0], data_valid = city[1],\n",
    "                 y_col = 'PM_US Post', val_or_test = 'Valid', city_name = city[2])"
   ]
  },
  {
   "cell_type": "code",
   "execution_count": 62,
   "metadata": {},
   "outputs": [
    {
     "name": "stdout",
     "output_type": "stream",
     "text": [
      "beijing : MSE =  5434.1 , R2 Train =  0.66 , R2 Test =  0.28 Change to base mse -0.46%.\n",
      "chengdu : MSE =  2064.67 , R2 Train =  0.63 , R2 Test =  -0.26 Change to base mse 11.84%.\n",
      "guangzhou : MSE =  914.44 , R2 Train =  0.6 , R2 Test =  -0.79 Change to base mse 16.40%.\n",
      "shanghai : MSE =  1051.22 , R2 Train =  0.67 , R2 Test =  0.05 Change to base mse 16.34%.\n",
      "shenyang : MSE =  2775.43 , R2 Train =  0.69 , R2 Test =  0.14 Change to base mse 13.14%.\n"
     ]
    }
   ],
   "source": [
    "#For Test Set\n",
    "for city in [[beijing_m_tr,beijing_m_test,'beijing'],\n",
    "             [chengdu_m_tr,chengdu_m_test,'chengdu'],\n",
    "             [guangzhou_m_tr,guangzhou_m_test,'guangzhou'],\n",
    "             [shanghai_m_tr,shanghai_m_test,'shanghai'],\n",
    "             [shenyang_m_tr,shenyang_m_test,'shenyang']]:\n",
    "    #simple RF model to get first impression\n",
    "    rf = RandomForestRegressor(n_estimators=100, n_jobs=-1, min_samples_leaf=5,\n",
    "                              bootstrap = True, max_features = 5, random_state = 17)\n",
    "    rf.fit(city[0].drop('PM_US Post', axis =1), city[0]['PM_US Post'])\n",
    "\n",
    "    print_scores(rf, data_train = city[0], data_valid = city[1],\n",
    "                 y_col = 'PM_US Post', val_or_test = 'Test',city_name = city[2])"
   ]
  },
  {
   "cell_type": "markdown",
   "metadata": {},
   "source": [
    "The first results already perform close to the benchmark model. In the case of beijing even better with a decrease of the $MSE$."
   ]
  },
  {
   "cell_type": "markdown",
   "metadata": {},
   "source": [
    "### 4.1.2 Hyperparameter Tuning Random Forests"
   ]
  },
  {
   "cell_type": "markdown",
   "metadata": {},
   "source": [
    "The goal of this section is to find the optimal hyperparameters for each city´s Random Forests model. This is done with a grid search in two steps. First, the rough parameters are estimated in wide intervals and second, narrowed down to the ideal value.\n",
    "Beforehand a features grid is defined and for each iteration, the algorithm selects a different combination of this features."
   ]
  },
  {
   "cell_type": "code",
   "execution_count": 63,
   "metadata": {},
   "outputs": [],
   "source": [
    "from sklearn.model_selection import RandomizedSearchCV\n",
    "\n",
    "#Number of Trees\n",
    "n_estimators = [int(x) for x in np.linspace(start=20, stop=200, num=10)]\n",
    "\n",
    "#minimum node size\n",
    "min_samples_split = [3,4,5,6,7]\n",
    "\n",
    "#with or without replacement\n",
    "bootstrap = [True, False]\n",
    "\n",
    "#number of candidate predictors used for each split\n",
    "#13/3 ~ 4.33\n",
    "max_features = [3,4,5,6]\n",
    "\n",
    "#Create Grid\n",
    "grid = {'n_estimators': n_estimators,\n",
    "        'min_samples_split': min_samples_split,\n",
    "        'bootstrap': bootstrap,\n",
    "        'max_features': max_features}"
   ]
  },
  {
   "cell_type": "markdown",
   "metadata": {},
   "source": [
    "Altogether, there are $10 * 5 * 2 * 4 = 400$ settings. However, the benefit of a random search is, that not every combination is tried, but a random selection to sample a wide range of values. n_iter controls the number of different combinations to try. More iterations cover a wider search space and reduce the chances of overfitting, but increase the run time. So we perform n_iter = 100 fits per city. \n",
    "To get a first impression, RandomizedSearchCV´s cross validation method for training the model was used. In order to keep a reference to reality, the validation set from Chapter 2.4 is further used."
   ]
  },
  {
   "cell_type": "code",
   "execution_count": 64,
   "metadata": {},
   "outputs": [
    {
     "name": "stdout",
     "output_type": "stream",
     "text": [
      "Fitting 1 folds for each of 100 candidates, totalling 100 fits\n",
      "Fitting 1 folds for each of 100 candidates, totalling 100 fits\n",
      "Fitting 1 folds for each of 100 candidates, totalling 100 fits\n",
      "Fitting 1 folds for each of 100 candidates, totalling 100 fits\n",
      "Fitting 1 folds for each of 100 candidates, totalling 100 fits\n"
     ]
    },
    {
     "data": {
      "text/plain": [
       "['/Users/johannesthellmann/Desktop/SoSe2021/Introduction to Statistical Machine Learning/Report/Dataset/models/shenyang_rf1.joblib']"
      ]
     },
     "execution_count": 64,
     "metadata": {},
     "output_type": "execute_result"
    }
   ],
   "source": [
    "from sklearn.model_selection import PredefinedSplit\n",
    "hyper_params = []\n",
    "\n",
    "for city in [[beijing_m_tr,beijing_m_val, 'beijing'],\n",
    "             [chengdu_m_tr,chengdu_m_val, 'chengdu'],\n",
    "             [guangzhou_m_tr,guangzhou_m_val, 'guangzhou'],\n",
    "             [shanghai_m_tr,shanghai_m_val,'shanghai'],\n",
    "             [shenyang_m_tr,shenyang_m_val, 'shenyang']]:\n",
    "\n",
    "    #Define train and validation set as scikit PredefinedSplit\n",
    "    city[0]['test_fold'] = -1\n",
    "    city[1]['test_fold'] = 0\n",
    "    test_fold = pd.concat([city[0]['test_fold'], city[1]['test_fold']], axis = 0)\n",
    "    ps = PredefinedSplit(test_fold)\n",
    "    \n",
    "    rf = RandomForestRegressor(random_state = 17)\n",
    "    rf_random = RandomizedSearchCV(estimator = rf,\n",
    "                                   param_distributions = grid, \n",
    "                                   n_iter = 100, cv = ps, scoring='neg_mean_squared_error',\n",
    "                                   verbose=2, random_state=42,\n",
    "                                   n_jobs = -1)\n",
    "    \n",
    "    #drop column with indicator for train and validate since it\n",
    "    #should be not included in the training\n",
    "    city[0].drop('test_fold', axis = 1, inplace = True)\n",
    "    city[1].drop('test_fold', axis = 1, inplace = True)\n",
    "\n",
    "    #concat train and validate, samples are marked with -1 and 0 respectively\n",
    "    city_train = pd.concat([city[0], city[1]], axis = 0)\n",
    "    \n",
    "    # Fit the random search model\n",
    "    rf_random.fit(city_train.drop('PM_US Post', axis =1), city_train['PM_US Post'])\n",
    "    \n",
    "    #add model and best parameter combination to hyper_params\n",
    "    hyper_params.append([rf_random, rf_random.best_params_])\n",
    "\n",
    "# #save model\n",
    "# import pickle\n",
    "# from joblib import dump\n",
    "\n",
    "# dump(hyper_params[0][0], '/Users/johannesthellmann/Desktop/SoSe2021/Introduction to Statistical Machine Learning/Report/Dataset/models/beijing_rf1.joblib')\n",
    "# dump(hyper_params[1][0], '/Users/johannesthellmann/Desktop/SoSe2021/Introduction to Statistical Machine Learning/Report/Dataset/models/chengdu_rf1.joblib')\n",
    "# dump(hyper_params[2][0], '/Users/johannesthellmann/Desktop/SoSe2021/Introduction to Statistical Machine Learning/Report/Dataset/models/guangzhou_rf1.joblib')\n",
    "# dump(hyper_params[3][0], '/Users/johannesthellmann/Desktop/SoSe2021/Introduction to Statistical Machine Learning/Report/Dataset/models/shanghai_rf1.joblib')\n",
    "# dump(hyper_params[4][0], '/Users/johannesthellmann/Desktop/SoSe2021/Introduction to Statistical Machine Learning/Report/Dataset/models/shenyang_rf1.joblib')"
   ]
  },
  {
   "cell_type": "code",
   "execution_count": 65,
   "metadata": {},
   "outputs": [],
   "source": [
    "model_dir = '/Users/johannesthellmann/Desktop/SoSe2021/Introduction to Statistical Machine Learning/Report/Dataset/models/'"
   ]
  },
  {
   "cell_type": "code",
   "execution_count": 66,
   "metadata": {},
   "outputs": [],
   "source": [
    "import pickle\n",
    "from joblib import load\n",
    "\n",
    "#import tuned models\n",
    "beijing_rf_t = load(model_dir + 'beijing_rf1.joblib')\n",
    "chengdu_rf_t = load(model_dir + 'chengdu_rf1.joblib')\n",
    "guangzhou_rf_t = load(model_dir + 'guangzhou_rf1.joblib')\n",
    "shanghai_rf_t = load(model_dir + 'shanghai_rf1.joblib')\n",
    "shenyang_rf_t = load(model_dir + 'shenyang_rf1.joblib')"
   ]
  },
  {
   "cell_type": "code",
   "execution_count": 67,
   "metadata": {},
   "outputs": [
    {
     "name": "stdout",
     "output_type": "stream",
     "text": [
      "beijing : {'n_estimators': 180, 'min_samples_split': 7, 'max_features': 5, 'bootstrap': True}\n",
      "chengdu : {'n_estimators': 140, 'min_samples_split': 7, 'max_features': 3, 'bootstrap': True}\n",
      "guangzhou : {'n_estimators': 120, 'min_samples_split': 7, 'max_features': 3, 'bootstrap': True}\n",
      "shanghai : {'n_estimators': 140, 'min_samples_split': 7, 'max_features': 3, 'bootstrap': True}\n",
      "shenyang : {'n_estimators': 140, 'min_samples_split': 7, 'max_features': 3, 'bootstrap': True}\n"
     ]
    }
   ],
   "source": [
    "cities = {'beijing': beijing_rf_t,\n",
    "             'chengdu': chengdu_rf_t,\n",
    "             'guangzhou': guangzhou_rf_t,\n",
    "             'shanghai':shanghai_rf_t,\n",
    "             'shenyang': shenyang_rf_t}\n",
    "\n",
    "for city in cities:\n",
    "    print(city, ':' , cities[city].best_params_)"
   ]
  },
  {
   "cell_type": "code",
   "execution_count": 68,
   "metadata": {},
   "outputs": [
    {
     "name": "stdout",
     "output_type": "stream",
     "text": [
      "beijing : MSE =  5441.7 , R2 Train =  0.78 , R2 Test =  0.28 Change to base mse -0.32%.\n",
      "chengdu : MSE =  1933.8 , R2 Train =  0.73 , R2 Test =  -0.18 Change to base mse 4.75%.\n",
      "guangzhou : MSE =  1015.56 , R2 Train =  0.75 , R2 Test =  -0.99 Change to base mse 29.28%.\n",
      "shanghai : MSE =  1018.92 , R2 Train =  0.79 , R2 Test =  0.08 Change to base mse 12.77%.\n",
      "shenyang : MSE =  2928.22 , R2 Train =  0.78 , R2 Test =  0.09 Change to base mse 19.37%.\n"
     ]
    }
   ],
   "source": [
    "#check performance with test_test\n",
    "for city in [[beijing_m_tr,beijing_m_test,'beijing', beijing_rf_t],\n",
    "             [chengdu_m_tr,chengdu_m_test,'chengdu', chengdu_rf_t],\n",
    "             [guangzhou_m_tr,guangzhou_m_test,'guangzhou', guangzhou_rf_t],\n",
    "             [shanghai_m_tr,shanghai_m_test,'shanghai', shanghai_rf_t],\n",
    "             [shenyang_m_tr,shenyang_m_test,'shenyang', shenyang_rf_t]]:\n",
    "    \n",
    "    print_scores(city[3], data_train = city[0], data_valid = city[1],\n",
    "                 y_col = 'PM_US Post', val_or_test = 'Test',city_name = city[2])"
   ]
  },
  {
   "cell_type": "markdown",
   "metadata": {},
   "source": [
    "Now that the rough range of hyperparameters has been staked out, the exact value is determined. The GridSearchCV method runs through all possible combinations within the defined intervals. The intervalls of the hyperparameters are based on the RandomSearchCV results."
   ]
  },
  {
   "cell_type": "code",
   "execution_count": 70,
   "metadata": {},
   "outputs": [],
   "source": [
    "#Create Grid\n",
    "grid_beijing = {'n_estimators': [int(x) for x in np.linspace(start=171, stop=189, num=19)],\n",
    "        'min_samples_split': [6,7,8],\n",
    "        'bootstrap': [True],\n",
    "        'max_features': [4,5,6]}\n",
    "\n",
    "grid_chengdu = {'n_estimators': [int(x) for x in np.linspace(start=131, stop=149, num=19)],\n",
    "        'min_samples_split': [6,7,8],\n",
    "        'bootstrap': [True],\n",
    "        'max_features': [2,3,4]}\n",
    "\n",
    "grid_guangzhou = {'n_estimators': [int(x) for x in np.linspace(start=111, stop=129, num=19)],\n",
    "        'min_samples_split': [6,7,8],\n",
    "        'bootstrap': [True],\n",
    "        'max_features': [2,3,4]}\n",
    "\n",
    "grid_shanghai = {'n_estimators': [int(x) for x in np.linspace(start=131, stop=149, num=19)],\n",
    "        'min_samples_split': [6,7,8],\n",
    "        'bootstrap': [True],\n",
    "        'max_features': [2,3,4]}\n",
    "\n",
    "grid_shenyang = {'n_estimators': [int(x) for x in np.linspace(start=131, stop=149, num=19)],\n",
    "        'min_samples_split': [6,7,8],\n",
    "        'bootstrap': [True],\n",
    "        'max_features': [2,3,4]}"
   ]
  },
  {
   "cell_type": "code",
   "execution_count": 71,
   "metadata": {},
   "outputs": [
    {
     "name": "stdout",
     "output_type": "stream",
     "text": [
      "beijing\n",
      "Fitting 1 folds for each of 171 candidates, totalling 171 fits\n",
      "chengdu\n",
      "Fitting 1 folds for each of 171 candidates, totalling 171 fits\n",
      "guangzhou\n",
      "Fitting 1 folds for each of 171 candidates, totalling 171 fits\n",
      "shanghai\n",
      "Fitting 1 folds for each of 171 candidates, totalling 171 fits\n",
      "shenyang\n",
      "Fitting 1 folds for each of 171 candidates, totalling 171 fits\n"
     ]
    },
    {
     "data": {
      "text/plain": [
       "['/Users/johannesthellmann/Desktop/SoSe2021/Introduction to Statistical Machine Learning/Report/Dataset/models/shenyang_rf2.joblib']"
      ]
     },
     "execution_count": 71,
     "metadata": {},
     "output_type": "execute_result"
    }
   ],
   "source": [
    "from sklearn.ensemble import RandomForestRegressor\n",
    "from sklearn.model_selection import GridSearchCV\n",
    "from sklearn.model_selection import PredefinedSplit\n",
    "from joblib import dump\n",
    "\n",
    "hyper_params = []\n",
    "\n",
    "for city in [[beijing_m_tr,beijing_m_val, 'beijing', grid_beijing],\n",
    "             [chengdu_m_tr,chengdu_m_val, 'chengdu', grid_chengdu],\n",
    "             [guangzhou_m_tr,guangzhou_m_val, 'guangzhou', grid_guangzhou],\n",
    "             [shanghai_m_tr,shanghai_m_val,'shanghai', grid_shanghai],\n",
    "             [shenyang_m_tr,shenyang_m_val, 'shenyang', grid_shenyang]]:\n",
    "    \n",
    "    print(city[2])\n",
    "        \n",
    "    #Define Train and Validation Set as scikit PredefinedSplit\n",
    "    city[0]['test_fold'] = -1\n",
    "    city[1]['test_fold'] = 0\n",
    "    test_fold = pd.concat([city[0]['test_fold'], city[1]['test_fold']], axis = 0)\n",
    "    ps = PredefinedSplit(test_fold)\n",
    "\n",
    "    rf = RandomForestRegressor(random_state = 19)\n",
    "    grid_search = GridSearchCV(estimator = rf, param_grid = city[3], scoring='neg_mean_absolute_error', cv = ps, n_jobs = -1, verbose = 2)\n",
    "    \n",
    "    city[0].drop('test_fold', axis = 1, inplace = True)\n",
    "    city[1].drop('test_fold', axis = 1, inplace = True)\n",
    "\n",
    "    city_train = pd.concat([city[0], city[1]], axis = 0)\n",
    "    \n",
    "    grid_search.fit(city_train.drop('PM_US Post', axis =1), city_train['PM_US Post'])\n",
    "    \n",
    "    #add model and best parameter combination to hyper_params\n",
    "    hyper_params.append([grid_search, grid_search.best_params_])\n",
    "\n",
    "# #save to finetuned models\n",
    "# dump(hyper_params[0][0], '/Users/johannesthellmann/Desktop/SoSe2021/Introduction to Statistical Machine Learning/Report/Dataset/models/beijing_rf2.joblib')\n",
    "# dump(hyper_params[1][0], '/Users/johannesthellmann/Desktop/SoSe2021/Introduction to Statistical Machine Learning/Report/Dataset/models/chengdu_rf2.joblib')\n",
    "# dump(hyper_params[2][0], '/Users/johannesthellmann/Desktop/SoSe2021/Introduction to Statistical Machine Learning/Report/Dataset/models/guangzhou_rf2.joblib')\n",
    "# dump(hyper_params[3][0], '/Users/johannesthellmann/Desktop/SoSe2021/Introduction to Statistical Machine Learning/Report/Dataset/models/shanghai_rf2.joblib')\n",
    "# dump(hyper_params[4][0], '/Users/johannesthellmann/Desktop/SoSe2021/Introduction to Statistical Machine Learning/Report/Dataset/models/shenyang_rf2.joblib')"
   ]
  },
  {
   "cell_type": "code",
   "execution_count": 72,
   "metadata": {},
   "outputs": [],
   "source": [
    "import pickle\n",
    "from joblib import load\n",
    "\n",
    "#import finetuned models\n",
    "beijing_rf_ft = load(model_dir + 'beijing_rf2.joblib')\n",
    "chengdu_rf_ft = load(model_dir + 'chengdu_rf2.joblib')\n",
    "guangzhou_rf_ft = load(model_dir + 'guangzhou_rf2.joblib')\n",
    "shanghai_rf_ft = load(model_dir + 'shanghai_rf2.joblib')\n",
    "shenyang_rf_ft = load(model_dir + 'shenyang_rf2.joblib')"
   ]
  },
  {
   "cell_type": "code",
   "execution_count": 73,
   "metadata": {},
   "outputs": [
    {
     "name": "stdout",
     "output_type": "stream",
     "text": [
      "beijing : {'bootstrap': True, 'max_features': 5, 'min_samples_split': 8, 'n_estimators': 188}\n",
      "chengdu : {'bootstrap': True, 'max_features': 2, 'min_samples_split': 8, 'n_estimators': 149}\n",
      "guangzhou : {'bootstrap': True, 'max_features': 2, 'min_samples_split': 8, 'n_estimators': 112}\n",
      "shanghai : {'bootstrap': True, 'max_features': 2, 'min_samples_split': 7, 'n_estimators': 131}\n",
      "shenyang : {'bootstrap': True, 'max_features': 2, 'min_samples_split': 7, 'n_estimators': 132}\n"
     ]
    }
   ],
   "source": [
    "cities = {'beijing': beijing_rf_ft,\n",
    "             'chengdu': chengdu_rf_ft,\n",
    "             'guangzhou': guangzhou_rf_ft,\n",
    "             'shanghai':shanghai_rf_ft,\n",
    "             'shenyang': shenyang_rf_ft}\n",
    "\n",
    "for city in cities:\n",
    "    print(city, ':' , cities[city].best_params_)"
   ]
  },
  {
   "cell_type": "code",
   "execution_count": 74,
   "metadata": {},
   "outputs": [
    {
     "name": "stdout",
     "output_type": "stream",
     "text": [
      "beijing : MSE =  5453.65 , R2 Train =  0.77 , R2 Test =  0.28 Change to base mse -0.10%.\n",
      "chengdu : MSE =  1917.62 , R2 Train =  0.71 , R2 Test =  -0.17 Change to base mse 3.87%.\n",
      "guangzhou : MSE =  1033.34 , R2 Train =  0.72 , R2 Test =  -1.03 Change to base mse 31.54%.\n",
      "shanghai : MSE =  998.3 , R2 Train =  0.78 , R2 Test =  0.1 Change to base mse 10.49%.\n",
      "shenyang : MSE =  2884.03 , R2 Train =  0.78 , R2 Test =  0.1 Change to base mse 17.57%.\n"
     ]
    }
   ],
   "source": [
    "#check performance with test_set\n",
    "for city in [[beijing_m_tr,beijing_m_test,'beijing', beijing_rf_ft],\n",
    "             [chengdu_m_tr,chengdu_m_test,'chengdu', chengdu_rf_ft],\n",
    "             [guangzhou_m_tr,guangzhou_m_test,'guangzhou', guangzhou_rf_ft],\n",
    "             [shanghai_m_tr,shanghai_m_test,'shanghai', shanghai_rf_ft],\n",
    "             [shenyang_m_tr,shenyang_m_test,'shenyang', shenyang_rf_ft]]:\n",
    "    \n",
    "    print_scores(city[3], data_train = city[0], data_valid = city[1],\n",
    "                 y_col = 'PM_US Post', val_or_test = 'Test',city_name = city[2])"
   ]
  },
  {
   "cell_type": "markdown",
   "metadata": {},
   "source": [
    "Even after extensive and detailed fine-tuning of the hyperparameters of Random Forest, the MSE of the benchmark model can hardly be undercut. Beijing is the only city that can show an improvement in results. $R^2$ continues this trend. For Chengdu and Guangzhou, the value deteriorates and becomes even more negative.  The $R^2$ of Shanghai and Shenyang is positive, but very close to zero. At the beginning of the chapter, it is suggested that the poor performance is due to the linearity of the model. Random Forest cannot confirm this statement, because on the whole it makes worse predictions than the linear benchmark model."
   ]
  },
  {
   "cell_type": "markdown",
   "metadata": {},
   "source": [
    "### 4.1.3 Feature Importance"
   ]
  },
  {
   "cell_type": "markdown",
   "metadata": {},
   "source": [
    "Despite the rather disapointing results of the Random Forests this short chapter should help to understand why this result is achieved. For each split in each tree, the improvement in the splitting criterion is the measure of the importance attributed to the splitting variable and is accumulated across all trees in the forest for each variable separately (Hastie et al. 2017, p. 593). To account for feature importance the permutation feature importance is used. This inspection technique is defined to be the decrease in a model score when a single feature value is ramdomly shuffled (https://scikit-learn.org/stable/modules/permutation_importance.html last acess: August 30th 2021). Thereby the relationship between the feature and target is broken and the drop of the model score indicates how much the model depends on the feature. The validation performance, as measured by the \n",
    "$R^2$ measure, is well above the random level (at least for the training sets). This makes it possible to use the permutation_importance function to investigate which features are most informative.\n",
    "The permutation importance is calculated using the test set.  This allows us to determine which features contribute most to the generalization power of the model under study. Features that are important in the training set but not in the excluded set could lead to overfitting of the model (https://scikit-learn.org/stable/modules/permutation_importance.html, last acess: August 30th 2021).\n",
    "\n",
    "To give a good impression, Beijing as a well performing example and Guangzhou as a poorly example are used."
   ]
  },
  {
   "cell_type": "code",
   "execution_count": 75,
   "metadata": {},
   "outputs": [],
   "source": [
    "from sklearn.inspection import permutation_importance"
   ]
  },
  {
   "cell_type": "code",
   "execution_count": 77,
   "metadata": {},
   "outputs": [
    {
     "data": {
      "image/png": "[encoded data removed]",
      "text/plain": [
       "<Figure size 1080x360 with 2 Axes>"
      ]
     },
     "metadata": {
      "needs_background": "light"
     },
     "output_type": "display_data"
    }
   ],
   "source": [
    "fi_beijing_tr = permutation_importance(beijing_rf_ft, beijing_m_tr.drop('PM_US Post', axis = 1),\n",
    "                       beijing_m_tr['PM_US Post'], n_repeats=10,n_jobs=-1,scoring = 'neg_mean_squared_error', random_state = 19)\n",
    "features_beijing_tr = fi_beijing_tr.importances_mean.argsort()\n",
    "\n",
    "fi_beijing_test = permutation_importance(beijing_rf_ft, beijing_m_test.drop('PM_US Post', axis = 1),\n",
    "                       beijing_m_test['PM_US Post'], n_repeats=10,n_jobs=-1,scoring = 'neg_mean_squared_error', random_state = 19)\n",
    "features_beijing_test = fi_beijing_test.importances_mean.argsort()\n",
    "\n",
    "#plot results\n",
    "fig, axs = plt.subplots(1, 2, figsize = (15,5))\n",
    "axs[0].boxplot(fi_beijing_tr.importances[features_beijing_tr].T,\n",
    "           vert=False, labels=beijing_m_tr.drop('PM_US Post', axis = 1).columns[features_beijing_tr])\n",
    "axs[1].boxplot(fi_beijing_test.importances[features_beijing_test].T,\n",
    "           vert=False, labels=beijing_m_test.drop('PM_US Post', axis = 1).columns[features_beijing_test])\n",
    "axs[0].set_title(\"Beijing Permutation Importances (training set)\")\n",
    "axs[1].set_title(\"Beijing Permutation Importances (test set)\")\n",
    "fig.tight_layout()\n",
    "plt.show()"
   ]
  },
  {
   "cell_type": "code",
   "execution_count": 78,
   "metadata": {},
   "outputs": [
    {
     "data": {
      "image/png": "[encoded data removed]",
      "text/plain": [
       "<Figure size 1080x360 with 2 Axes>"
      ]
     },
     "metadata": {
      "needs_background": "light"
     },
     "output_type": "display_data"
    }
   ],
   "source": [
    "fi_guangzhou_tr = permutation_importance(guangzhou_rf_ft, guangzhou_m_tr.drop('PM_US Post', axis = 1),\n",
    "                       guangzhou_m_tr['PM_US Post'], n_repeats=10,n_jobs=-1,scoring = 'neg_mean_squared_error', random_state = 19)\n",
    "features_guangzhou_tr = fi_guangzhou_tr.importances_mean.argsort()\n",
    "\n",
    "fi_guangzhou_test = permutation_importance(guangzhou_rf_ft, guangzhou_m_test.drop('PM_US Post', axis = 1),\n",
    "                       guangzhou_m_test['PM_US Post'], n_repeats=10,n_jobs=-1,scoring = 'neg_mean_squared_error', random_state = 19)\n",
    "features_guangzhou_test = fi_guangzhou_test.importances_mean.argsort()\n",
    "\n",
    "#plot results\n",
    "fig, axs = plt.subplots(1, 2, figsize = (15,5))\n",
    "axs[0].boxplot(fi_guangzhou_tr.importances[features_guangzhou_tr].T,\n",
    "           vert=False, labels=guangzhou_m_tr.drop('PM_US Post', axis = 1).columns[features_guangzhou_tr])\n",
    "axs[1].boxplot(fi_guangzhou_test.importances[features_guangzhou_test].T,\n",
    "           vert=False, labels=guangzhou_m_test.drop('PM_US Post', axis = 1).columns[features_guangzhou_test])\n",
    "axs[0].set_title(\"Guangzhou Permutation Importances (training set)\")\n",
    "axs[1].set_title(\"Guangzhou Permutation Importances (test set)\")\n",
    "fig.tight_layout()\n",
    "plt.show()"
   ]
  },
  {
   "cell_type": "markdown",
   "metadata": {},
   "source": [
    "For Beijing, the two most important features agree. A radom shuffle of the Humidity and 4th Season worsens the $MSE$ by 4000 and 3500, respectively. Places four and five of the most important features also agree with cumulative wind speed and air pressure. Here the Random Forest model generalizes so well that a slight improvement over the benchmark model is apparent. This is in direct contrast to Guangzhou, where the most important features change their importance from the training set to the test set. The predictions on the test data are significantly worse than for the benchmark model. This is also underlined by the negative $R^2$ and it would be better to predict the particulate matter concentration always with the mean value. "
   ]
  },
  {
   "cell_type": "markdown",
   "metadata": {},
   "source": [
    "## 4.2 Gradient Boosting"
   ]
  },
  {
   "cell_type": "markdown",
   "metadata": {},
   "source": [
    "Random forests uses multiple copies of  the training data in order to fit a decision tree. In a second step the separate and independent trees are combined to estimate the predictions (Hastie, p. 587-590). The main difference of Gradient boosting to Random Forests is, that the tree components $t_m = \\{ T(x_1; \\Theta_m),..., T(x_N; \\Theta_m)\\}^T$ are not independent (description and algorithm follow Hastie, p. 559-561). With $\\Theta$ being the tree parameters. They are considered as predictions of a decision tree with $J_m$ terminal nodes, where the negative gradient is the unconstrained maximum descent direction. The tree predictions $T(xi;\\Theta_m)$ are thus analogous to the components of the negative gradient. Unfortunately, the gradient exists only for the training data and does not necessarily represent new data. To address this problem gradient boosting induces a tree $T(x, \\Theta_m)$ at the $m$th iteration whose predictions $t_m$ reflect the data as accurately as possible."
   ]
  },
  {
   "cell_type": "markdown",
   "metadata": {},
   "source": [
    "### 4.2.1 Extreme Gradient Boosting"
   ]
  },
  {
   "cell_type": "markdown",
   "metadata": {},
   "source": [
    "For the following implementation the xgb library is used including the wrapper of sklearn. XGBoost stands for “Extreme Gradient Boosting”. The term “Gradient Boosting” was introduced in the paper \"Greedy Function Approximation: A Gradient Boosting Machine\" (Friedman 2001).\n",
    "The goal of the xgb library is to provide a scalable, portable and accurate library for the Gradient Boosting Tree Algorithm (https://xgboost.readthedocs.io/en/latest/tutorials/model.html, last acess: August 30th 2021)."
   ]
  },
  {
   "cell_type": "code",
   "execution_count": 79,
   "metadata": {},
   "outputs": [],
   "source": [
    "#import xgb library and with sklearn wrapper\n",
    "import xgboost as xgb\n",
    "from xgboost.sklearn import XGBRegressor"
   ]
  },
  {
   "cell_type": "markdown",
   "metadata": {},
   "source": [
    "### 4.2.2  Hyperparameter Tuning Extreme Gradient Boosting"
   ]
  },
  {
   "cell_type": "markdown",
   "metadata": {},
   "source": [
    "The first hyperparameter of gradient boosting is the number of trees build. In order to fit complex datasets a large number of trees may be needed. Unlike Random Forests Gradient Boosting runs the risk of overfitting. Therefore the optimal number of trees has to be found with cross-validation. Before the other hyperparameters are tuned the number of trees for each city is determined. The xgb library provides a method for cross validation. The presented approach follows the proposed general method of https://www.analyticsvidhya.com/blog/2016/03/complete-guide-parameter-tuning-xgboost-with-codes-python/(last acess: September 30th 2021). \n",
    "1. Find the optimum number of trees for a high learning rate using the xgb function “cv” which performs cross-validation at each boosting iteration. The number of folds for cross-validation is 5 and the training stops if the performance metric does not improve for 10 rounds with a maximum of 1000 rounds in total.\n",
    "2. Tune tree-specific parameters (max_depth, min_child_weight, gamma, subsample, colsample_bytree) for the learning rate and number of trees used in the first step. \n",
    "3. Tune regularization parameters (lambda, alpha) to help reduce model complexity and improve performance.\n",
    "4. Lower learning rate to find the optimal parameters. \n",
    "\n",
    "To begin with, xgb´s default values are used:\n",
    "- learning rate: 0.3\n",
    "- max depth: 6\n",
    "- min child weight: 1\n",
    "- subsample: 1\n",
    "- colsample by tree: 1\n",
    "- gamma: 0\n",
    "\n",
    "The detailed meaning of the respective parameter is explained later (parameter description follows xgb documentation https://xgboost.readthedocs.io/en/latest/parameter.html, last acess: September 30th 2021).\n",
    "\n",
    "Since it is a regression problem, the default squared-error objective function is used."
   ]
  },
  {
   "cell_type": "markdown",
   "metadata": {},
   "source": [
    "### Step 1: Number of trees"
   ]
  },
  {
   "cell_type": "code",
   "execution_count": 212,
   "metadata": {},
   "outputs": [],
   "source": [
    "#method to find number of trees\n",
    "def xgb_ntrees(algo, data_train, folds_cv = 5, early_stopping = 10):\n",
    "    \n",
    "    #parameters from xgb algorithm\n",
    "    xgb_params = algo.get_xgb_params()\n",
    "    \n",
    "    #Training data as DMatrix for xgb-Algorithm\n",
    "    train = xgb.DMatrix(data_train.drop('PM_US Post', axis = 1), label=data_train['PM_US Post'])\n",
    "    cvresult = xgb.cv(xgb_params, train, num_boost_round=algo.get_params()['n_estimators'], nfold=folds_cv,\n",
    "             metrics='rmse', early_stopping_rounds=early_stopping)\n",
    "    \n",
    "    #set the so found number of trees as parameters\n",
    "    algo.set_params(n_estimators=cvresult.shape[0])\n",
    "    \n",
    "    #Fit to training data\n",
    "    algo.fit(data_train.drop('PM_US Post', axis = 1), data_train['PM_US Post'])\n",
    "    \n",
    "    #return fitted model and number of estimators\n",
    "    return algo, cvresult.shape[0]  "
   ]
  },
  {
   "cell_type": "code",
   "execution_count": 213,
   "metadata": {},
   "outputs": [],
   "source": [
    "#Parameters for Gradient Boosting\n",
    "#The default parameters of xgb are used\n",
    "xgb_beijing = XGBRegressor(learning_rate=0.3,n_estimators=1000,max_depth=6,min_child_weight=1,gamma=0,objective= 'reg:squarederror',seed=29)\n",
    "xgb_chengdu = XGBRegressor(learning_rate=0.3,n_estimators=1000,max_depth=6,min_child_weight=1,gamma=0,objective= 'reg:squarederror',seed=29)\n",
    "xgb_guangzhou = XGBRegressor(learning_rate=0.3,n_estimators=1000,max_depth=6,min_child_weight=1,gamma=0,objective= 'reg:squarederror',seed=29)\n",
    "xgb_shanghai = XGBRegressor(learning_rate=0.3,n_estimators=1000,max_depth=6,min_child_weight=1,gamma=0,objective= 'reg:squarederror',seed=29)\n",
    "xgb_shenyang = XGBRegressor(learning_rate=0.3,n_estimators=1000,max_depth=6,min_child_weight=1,gamma=0,objective= 'reg:squarederror',seed=29)"
   ]
  },
  {
   "cell_type": "code",
   "execution_count": 214,
   "metadata": {},
   "outputs": [],
   "source": [
    "#determine number of estimators for every city\n",
    "xgb_beijing,ntrees_beijing = xgb_ntrees(xgb_beijing, beijing_m_tr)\n",
    "xgb_chengdu,ntrees_chengdu = xgb_ntrees(xgb_chengdu, chengdu_m_tr)\n",
    "xgb_guangzhou,ntrees_guangzhou = xgb_ntrees(xgb_guangzhou, guangzhou_m_tr)\n",
    "xgb_shanghai,ntrees_shanghai = xgb_ntrees(xgb_shanghai, shanghai_m_tr)\n",
    "xgb_shenyang,ntrees_shenyang = xgb_ntrees(xgb_shenyang, shenyang_m_tr)"
   ]
  },
  {
   "cell_type": "code",
   "execution_count": 215,
   "metadata": {},
   "outputs": [
    {
     "name": "stdout",
     "output_type": "stream",
     "text": [
      "Number of estimators beijing: 120\n",
      "Number of estimators chengdu: 131\n",
      "Number of estimators guangzhou: 65\n",
      "Number of estimators shanghai: 212\n",
      "Number of estimators shenyang: 130\n"
     ]
    }
   ],
   "source": [
    "print('Number of estimators beijing: ' + str(ntrees_beijing))\n",
    "print('Number of estimators chengdu: ' + str(ntrees_chengdu))\n",
    "print('Number of estimators guangzhou: ' + str(ntrees_guangzhou))\n",
    "print('Number of estimators shanghai: ' + str(ntrees_shanghai))\n",
    "print('Number of estimators shenyang: ' + str(ntrees_shenyang))"
   ]
  },
  {
   "cell_type": "markdown",
   "metadata": {},
   "source": [
    "Guangzhou requires the least number of estimators with only 65. Beijing, Chengdu and Shenyang need twice as many and Shanghai the highest number of estimators with 212. Prior to the fine tuning of the parameters the performance of the algorithm is evaluated. "
   ]
  },
  {
   "cell_type": "code",
   "execution_count": 216,
   "metadata": {},
   "outputs": [],
   "source": [
    "#save number of estimators\n",
    "ntrees_beijing = 120\n",
    "ntrees_chengdu = 131\n",
    "ntrees_guangzhou = 65\n",
    "ntrees_shanghai = 212\n",
    "nrees_shenyang = 130"
   ]
  },
  {
   "cell_type": "code",
   "execution_count": 218,
   "metadata": {},
   "outputs": [
    {
     "name": "stdout",
     "output_type": "stream",
     "text": [
      "beijing : MSE =  7036.61 , R2 Train =  0.63 , R2 Test =  0.07 Change to base mse 28.73%.\n",
      "chengdu : MSE =  2650.78 , R2 Train =  0.67 , R2 Test =  -0.62 Change to base mse 43.58%.\n",
      "guangzhou : MSE =  1707.24 , R2 Train =  0.51 , R2 Test =  -2.35 Change to base mse 117.32%.\n",
      "shanghai : MSE =  1557.66 , R2 Train =  0.78 , R2 Test =  -0.41 Change to base mse 72.39%.\n",
      "shenyang : MSE =  3656.48 , R2 Train =  0.8 , R2 Test =  -0.14 Change to base mse 49.05%.\n"
     ]
    }
   ],
   "source": [
    "#check performance with test_set\n",
    "for city in [[beijing_m_tr,beijing_m_test,'beijing', xgb_beijing],\n",
    "             [chengdu_m_tr,chengdu_m_test,'chengdu', xgb_chengdu],\n",
    "             [guangzhou_m_tr,guangzhou_m_test,'guangzhou', xgb_guangzhou],\n",
    "             [shanghai_m_tr,shanghai_m_test,'shanghai', xgb_shanghai],\n",
    "             [shenyang_m_tr,shenyang_m_test,'shenyang', xgb_shenyang]]:\n",
    "    \n",
    "    print_scores(city[3], data_train = city[0], data_valid = city[1],\n",
    "                 y_col = 'PM_US Post', val_or_test = 'Test',city_name = city[2])"
   ]
  },
  {
   "cell_type": "markdown",
   "metadata": {},
   "source": [
    "None of the cities is able to beat the benchmark model. The first results of gradient boosting worsen the mse of up to 117% compared to the benchmark model. "
   ]
  },
  {
   "cell_type": "markdown",
   "metadata": {},
   "source": [
    "### Step 2: Tune max_depth and min_child_weight"
   ]
  },
  {
   "cell_type": "markdown",
   "metadata": {},
   "source": [
    "For the next step max_depth and min_child_weight are finetuned since they have the strongest impact on the model outcome (https://www.analyticsvidhya.com/blog/2016/03/complete-guide-parameter-tuning-xgboost-with-codes-python/, last acess: September 30th 2021). max_depth is the maximum depth of a tree. A deeper tree makes the model more complex and more likely to overfit. min_child_weight is the minimum sum of instance weight needed in a child. If the tree partitioning step results in a leaf node whose sum of instance weights is less than min_child_weight, then the build process will abandon further partitioning.\n",
    "\n",
    "To begin with, wider ranges around the default values are used and reduced in a further step. Again sklearns grid search is used and the predefined splits for training and validation set."
   ]
  },
  {
   "cell_type": "code",
   "execution_count": 239,
   "metadata": {},
   "outputs": [],
   "source": [
    "from sklearn.model_selection import GridSearchCV\n",
    "from sklearn.model_selection import PredefinedSplit\n",
    "\n",
    "def grid_xgb(cities):\n",
    "    hyper_params = []\n",
    "    for city in cities:\n",
    "        print(city[2])\n",
    "        \n",
    "        #Define Train and Validation Set as scikit PredefinedSplit\n",
    "        city[0]['test_fold'] = -1\n",
    "        city[1]['test_fold'] = 0\n",
    "        test_fold = pd.concat([city[0]['test_fold'], city[1]['test_fold']], axis = 0)\n",
    "        ps = PredefinedSplit(test_fold)\n",
    "\n",
    "        rf = XGBRegressor(learning_rate =0.3, n_estimators=city[4], max_depth=6, min_child_weight=1, gamma=0, \n",
    "                          objective= 'reg:squarederror', seed=19)\n",
    "\n",
    "        grid_search = GridSearchCV(estimator = rf, param_grid = city[3], cv = ps, n_jobs = -1, verbose = 2,\n",
    "                                   scoring='neg_mean_squared_error')\n",
    "\n",
    "        city[0].drop('test_fold', axis = 1, inplace = True)\n",
    "        city[1].drop('test_fold', axis = 1, inplace = True)\n",
    "\n",
    "        city_train = pd.concat([city[0], city[1]], axis = 0)\n",
    "        grid_search.fit(city_train.drop('PM_US Post', axis =1), city_train['PM_US Post'])\n",
    "\n",
    "        #add model and best parameter combination to hyper_params\n",
    "        hyper_params.append([city[2], grid_search])\n",
    "        \n",
    "    return hyper_params"
   ]
  },
  {
   "cell_type": "code",
   "execution_count": 240,
   "metadata": {},
   "outputs": [
    {
     "name": "stdout",
     "output_type": "stream",
     "text": [
      "beijing\n",
      "Fitting 1 folds for each of 15 candidates, totalling 15 fits\n",
      "chengdu\n",
      "Fitting 1 folds for each of 15 candidates, totalling 15 fits\n",
      "guangzhou\n",
      "Fitting 1 folds for each of 15 candidates, totalling 15 fits\n",
      "shanghai\n",
      "Fitting 1 folds for each of 15 candidates, totalling 15 fits\n",
      "shenyang\n",
      "Fitting 1 folds for each of 15 candidates, totalling 15 fits\n"
     ]
    }
   ],
   "source": [
    "#Create Grid\n",
    "grid_beijing = {'max_depth':range(1,10,2), 'min_child_weight':range(1,6,2)}\n",
    "grid_chengdu = {'max_depth':range(1,10,2), 'min_child_weight':range(1,6,2)}\n",
    "grid_guangzhou = {'max_depth':range(1,10,2), 'min_child_weight':range(1,6,2)}\n",
    "grid_shanghai = {'max_depth':range(1,10,2), 'min_child_weight':range(1,6,2)}\n",
    "grid_shenyang = {'max_depth':range(1,10,2), 'min_child_weight':range(1,6,2)}\n",
    "\n",
    "cities = [[beijing_m_tr,beijing_m_val, 'beijing', grid_beijing, ntrees_beijing],\n",
    "             [chengdu_m_tr,chengdu_m_val, 'chengdu', grid_chengdu, ntrees_chengdu],\n",
    "             [guangzhou_m_tr,guangzhou_m_val, 'guangzhou', grid_guangzhou, ntrees_guangzhou],\n",
    "             [shanghai_m_tr,shanghai_m_val,'shanghai', grid_shanghai, ntrees_shanghai],\n",
    "             [shenyang_m_tr,shenyang_m_val, 'shenyang', grid_shenyang, ntrees_shenyang]]\n",
    "\n",
    "#tuned models after step 2\n",
    "xgb_step2_t = grid_xgb(cities)"
   ]
  },
  {
   "cell_type": "code",
   "execution_count": 241,
   "metadata": {},
   "outputs": [
    {
     "name": "stdout",
     "output_type": "stream",
     "text": [
      "beijing : {'max_depth': 3, 'min_child_weight': 5}\n",
      "chengdu : {'max_depth': 1, 'min_child_weight': 1}\n",
      "guangzhou : {'max_depth': 3, 'min_child_weight': 3}\n",
      "shanghai : {'max_depth': 1, 'min_child_weight': 1}\n",
      "shenyang : {'max_depth': 3, 'min_child_weight': 3}\n",
      "\n",
      "beijing : MSE =  5690.26 , R2 Train =  0.48 , R2 Test =  0.25 Change to base mse 4.10%.\n",
      "chengdu : MSE =  1753.4 , R2 Train =  0.34 , R2 Test =  -0.07 Change to base mse -5.02%.\n",
      "guangzhou : MSE =  1118.13 , R2 Train =  0.29 , R2 Test =  -1.19 Change to base mse 42.33%.\n",
      "shanghai : MSE =  953.68 , R2 Train =  0.3 , R2 Test =  0.14 Change to base mse 5.55%.\n",
      "shenyang : MSE =  3017.14 , R2 Train =  0.52 , R2 Test =  0.06 Change to base mse 22.99%.\n"
     ]
    }
   ],
   "source": [
    "for city in xgb_step2_t:\n",
    "    print(city[0], ':' , city[1].best_params_)\n",
    "    \n",
    "print()\n",
    "\n",
    "#check performance with test_set\n",
    "for city in [[beijing_m_tr,beijing_m_test,'beijing', xgb_step2_t[0][1]],\n",
    "             [chengdu_m_tr,chengdu_m_test,'chengdu', xgb_step2_t[1][1]],\n",
    "             [guangzhou_m_tr,guangzhou_m_test,'guangzhou', xgb_step2_t[2][1]],\n",
    "             [shanghai_m_tr,shanghai_m_test,'shanghai', xgb_step2_t[3][1]],\n",
    "             [shenyang_m_tr,shenyang_m_test,'shenyang', xgb_step2_t[4][1]]]:\n",
    "    \n",
    "    print_scores(city[3], data_train = city[0], data_valid = city[1],\n",
    "                 y_col = 'PM_US Post', val_or_test = 'Test',city_name = city[2])"
   ]
  },
  {
   "cell_type": "markdown",
   "metadata": {},
   "source": [
    "After the grid search with wider steps, the next search aims to improve the model by peforming another iteration with smaller steps."
   ]
  },
  {
   "cell_type": "code",
   "execution_count": 242,
   "metadata": {
    "scrolled": true
   },
   "outputs": [
    {
     "name": "stdout",
     "output_type": "stream",
     "text": [
      "beijing\n",
      "Fitting 1 folds for each of 9 candidates, totalling 9 fits\n",
      "chengdu\n",
      "Fitting 1 folds for each of 4 candidates, totalling 4 fits\n",
      "guangzhou\n",
      "Fitting 1 folds for each of 9 candidates, totalling 9 fits\n",
      "shanghai\n",
      "Fitting 1 folds for each of 4 candidates, totalling 4 fits\n",
      "shenyang\n",
      "Fitting 1 folds for each of 9 candidates, totalling 9 fits\n"
     ]
    }
   ],
   "source": [
    "#Create Grid\n",
    "grid_beijing = {'max_depth':[2,3,4], 'min_child_weight':[4,5,6]}\n",
    "grid_chengdu = {'max_depth':[1,2], 'min_child_weight':[1,2]}\n",
    "grid_guangzhou = {'max_depth':[2,3,4], 'min_child_weight':[2,3,4]}\n",
    "grid_shanghai = {'max_depth':[1,2], 'min_child_weight':[1,2]}\n",
    "grid_shenyang = {'max_depth':[2,3,4], 'min_child_weight':[2,3,4]}\n",
    "\n",
    "cities = [[beijing_m_tr,beijing_m_val, 'beijing', grid_beijing, ntrees_beijing],\n",
    "             [chengdu_m_tr,chengdu_m_val, 'chengdu', grid_chengdu, ntrees_chengdu],\n",
    "             [guangzhou_m_tr,guangzhou_m_val, 'guangzhou', grid_guangzhou, ntrees_guangzhou],\n",
    "             [shanghai_m_tr,shanghai_m_val,'shanghai', grid_shanghai, ntrees_shanghai],\n",
    "             [shenyang_m_tr,shenyang_m_val, 'shenyang', grid_shenyang, ntrees_shenyang]]\n",
    "\n",
    "xgb_step2_ft = grid_xgb(cities)"
   ]
  },
  {
   "cell_type": "code",
   "execution_count": 243,
   "metadata": {},
   "outputs": [
    {
     "name": "stdout",
     "output_type": "stream",
     "text": [
      "beijing : {'max_depth': 3, 'min_child_weight': 5}\n",
      "chengdu : {'max_depth': 1, 'min_child_weight': 1}\n",
      "guangzhou : {'max_depth': 2, 'min_child_weight': 2}\n",
      "shanghai : {'max_depth': 2, 'min_child_weight': 2}\n",
      "shenyang : {'max_depth': 2, 'min_child_weight': 4}\n",
      "\n",
      "beijing : MSE =  5690.26 , R2 Train =  0.48 , R2 Test =  0.25 Change to base mse 4.10%.\n",
      "chengdu : MSE =  1753.4 , R2 Train =  0.34 , R2 Test =  -0.07 Change to base mse -5.02%.\n",
      "guangzhou : MSE =  958.54 , R2 Train =  0.24 , R2 Test =  -0.88 Change to base mse 22.02%.\n",
      "shanghai : MSE =  929.15 , R2 Train =  0.37 , R2 Test =  0.16 Change to base mse 2.83%.\n",
      "shenyang : MSE =  2912.55 , R2 Train =  0.44 , R2 Test =  0.09 Change to base mse 18.73%.\n"
     ]
    }
   ],
   "source": [
    "for city in xgb_step2_ft:\n",
    "    print(city[0], ':' , city[1].best_params_)\n",
    "    \n",
    "print()\n",
    "\n",
    "#check performance with test_set\n",
    "for city in [[beijing_m_tr,beijing_m_test,'beijing', xgb_step2_ft[0][1]],\n",
    "             [chengdu_m_tr,chengdu_m_test,'chengdu', xgb_step2_ft[1][1]],\n",
    "             [guangzhou_m_tr,guangzhou_m_test,'guangzhou', xgb_step2_ft[2][1]],\n",
    "             [shanghai_m_tr,shanghai_m_test,'shanghai', xgb_step2_ft[3][1]],\n",
    "             [shenyang_m_tr,shenyang_m_test,'shenyang', xgb_step2_ft[4][1]]]:\n",
    "    \n",
    "    print_scores(city[3], data_train = city[0], data_valid = city[1],\n",
    "                 y_col = 'PM_US Post', val_or_test = 'Test',city_name = city[2])"
   ]
  },
  {
   "cell_type": "markdown",
   "metadata": {},
   "source": [
    "Beijing and Chengdu do not change their parameters. Guangzhou, Shanghai and Shenyang can improve their $MSE$. Only Chengdu can beat the bench mark model so far by 5%."
   ]
  },
  {
   "cell_type": "markdown",
   "metadata": {},
   "source": [
    "### Step 3: Tune Gamma"
   ]
  },
  {
   "cell_type": "markdown",
   "metadata": {},
   "source": [
    "The third step focuses on tuning gamma. Gamma is the minimum loss reduction required to make a further partition on a leaf node of the tree and a larger gamma leads to a more conservative algorithm. Gamma ranges from 0 to ∞. With a default value of 0, the effects of small gamma values are analyzed. "
   ]
  },
  {
   "cell_type": "code",
   "execution_count": 244,
   "metadata": {},
   "outputs": [
    {
     "name": "stdout",
     "output_type": "stream",
     "text": [
      "beijing\n",
      "Fitting 1 folds for each of 5 candidates, totalling 5 fits\n",
      "chengdu\n",
      "Fitting 1 folds for each of 5 candidates, totalling 5 fits\n",
      "guangzhou\n",
      "Fitting 1 folds for each of 5 candidates, totalling 5 fits\n",
      "shanghai\n",
      "Fitting 1 folds for each of 5 candidates, totalling 5 fits\n",
      "shenyang\n",
      "Fitting 1 folds for each of 5 candidates, totalling 5 fits\n"
     ]
    }
   ],
   "source": [
    "#Create Grid with values from step before and variants of beta\n",
    "grid_beijing = {'max_depth':[3], 'min_child_weight':[5], 'gamma': [0,0.1,0.2,0.3,0.4]}\n",
    "grid_chengdu = {'max_depth':[1], 'min_child_weight':[1],'gamma': [0,0.1,0.2,0.3,0.4]}\n",
    "grid_guangzhou = {'max_depth':[2], 'min_child_weight':[2],'gamma': [0,0.1,0.2,0.3,0.4]}\n",
    "grid_shanghai = {'max_depth':[2], 'min_child_weight':[2],'gamma': [0,0.1,0.2,0.3,0.4]}\n",
    "grid_shenyang = {'max_depth':[2], 'min_child_weight':[4],'gamma': [0,0.1,0.2,0.3,0.4]}\n",
    "\n",
    "cities = [[beijing_m_tr,beijing_m_val, 'beijing', grid_beijing, ntrees_beijing],\n",
    "             [chengdu_m_tr,chengdu_m_val, 'chengdu', grid_chengdu, ntrees_chengdu],\n",
    "             [guangzhou_m_tr,guangzhou_m_val, 'guangzhou', grid_guangzhou, ntrees_guangzhou],\n",
    "             [shanghai_m_tr,shanghai_m_val,'shanghai', grid_shanghai, ntrees_shanghai],\n",
    "             [shenyang_m_tr,shenyang_m_val, 'shenyang', grid_shenyang, ntrees_shenyang]]\n",
    "\n",
    "xgb_step3_ft = grid_xgb(cities)"
   ]
  },
  {
   "cell_type": "code",
   "execution_count": 245,
   "metadata": {},
   "outputs": [
    {
     "name": "stdout",
     "output_type": "stream",
     "text": [
      "beijing : {'gamma': 0, 'max_depth': 3, 'min_child_weight': 5}\n",
      "chengdu : {'gamma': 0, 'max_depth': 1, 'min_child_weight': 1}\n",
      "guangzhou : {'gamma': 0, 'max_depth': 2, 'min_child_weight': 2}\n",
      "shanghai : {'gamma': 0, 'max_depth': 2, 'min_child_weight': 2}\n",
      "shenyang : {'gamma': 0, 'max_depth': 2, 'min_child_weight': 4}\n",
      "\n",
      "beijing : MSE =  5690.26 , R2 Train =  0.48 , R2 Test =  0.25 Change to base mse 4.10%.\n",
      "chengdu : MSE =  1753.4 , R2 Train =  0.34 , R2 Test =  -0.07 Change to base mse -5.02%.\n",
      "guangzhou : MSE =  958.54 , R2 Train =  0.24 , R2 Test =  -0.88 Change to base mse 22.02%.\n",
      "shanghai : MSE =  929.15 , R2 Train =  0.37 , R2 Test =  0.16 Change to base mse 2.83%.\n",
      "shenyang : MSE =  2912.55 , R2 Train =  0.44 , R2 Test =  0.09 Change to base mse 18.73%.\n"
     ]
    }
   ],
   "source": [
    "for city in xgb_step3_ft:\n",
    "    print(city[0], ':' , city[1].best_params_)\n",
    "    \n",
    "print()\n",
    "\n",
    "#check performance with test_set\n",
    "for city in [[beijing_m_tr,beijing_m_test,'beijing', xgb_step3_ft[0][1]],\n",
    "             [chengdu_m_tr,chengdu_m_test,'chengdu', xgb_step3_ft[1][1]],\n",
    "             [guangzhou_m_tr,guangzhou_m_test,'guangzhou', xgb_step3_ft[2][1]],\n",
    "             [shanghai_m_tr,shanghai_m_test,'shanghai', xgb_step3_ft[3][1]],\n",
    "             [shenyang_m_tr,shenyang_m_test,'shenyang', xgb_step3_ft[4][1]]]:\n",
    "    \n",
    "    print_scores(city[3], data_train = city[0], data_valid = city[1],\n",
    "                 y_col = 'PM_US Post', val_or_test = 'Test',city_name = city[2])"
   ]
  },
  {
   "cell_type": "markdown",
   "metadata": {},
   "source": [
    "0 is the best gamma value for all cities."
   ]
  },
  {
   "cell_type": "markdown",
   "metadata": {},
   "source": [
    "### Step 4: Tune subsample and colsample_bytree"
   ]
  },
  {
   "cell_type": "markdown",
   "metadata": {},
   "source": [
    "Subsample is the ratio of the training instances. At a value of 0.5 XGBoost randomly samples half of the training data before growing the trees to prevent overfitting (https://xgboost.readthedocs.io/en/latest/parameter.html#general-parameters, last acess: September 30th 2021). Colsample_bytree denotes the subsample ratio of columns when constructing a tree and occurs once for every tree constructed. The tuning is done with values of 0.6,0.7,0.8,0.9 and 1.0 for both. "
   ]
  },
  {
   "cell_type": "code",
   "execution_count": 249,
   "metadata": {},
   "outputs": [
    {
     "name": "stdout",
     "output_type": "stream",
     "text": [
      "beijing\n",
      "Fitting 1 folds for each of 25 candidates, totalling 25 fits\n",
      "chengdu\n",
      "Fitting 1 folds for each of 25 candidates, totalling 25 fits\n",
      "guangzhou\n",
      "Fitting 1 folds for each of 25 candidates, totalling 25 fits\n",
      "shanghai\n",
      "Fitting 1 folds for each of 25 candidates, totalling 25 fits\n",
      "shenyang\n",
      "Fitting 1 folds for each of 25 candidates, totalling 25 fits\n"
     ]
    }
   ],
   "source": [
    "#Create Grid with values from step before and variants of beta\n",
    "grid_beijing = {'max_depth':[3], 'min_child_weight':[5],  'subsample':[i/10.0 for i in range(6,11)],\n",
    " 'colsample_bytree':[i/10.0 for i in range(6,11)]}\n",
    "grid_chengdu = {'max_depth':[1], 'min_child_weight':[1],'subsample':[i/10.0 for i in range(6,11)],\n",
    " 'colsample_bytree':[i/10.0 for i in range(6,11)]}\n",
    "grid_guangzhou = {'max_depth':[2], 'min_child_weight':[2],'subsample':[i/10.0 for i in range(6,11)],\n",
    " 'colsample_bytree':[i/10.0 for i in range(6,11)]}\n",
    "grid_shanghai = {'max_depth':[2], 'min_child_weight':[2],'subsample':[i/10.0 for i in range(6,11)],\n",
    " 'colsample_bytree':[i/10.0 for i in range(6,11)]}\n",
    "grid_shenyang = {'max_depth':[2], 'min_child_weight':[4],'subsample':[i/10.0 for i in range(6,11)],\n",
    " 'colsample_bytree':[i/10.0 for i in range(6,11)]}\n",
    "\n",
    "cities = [[beijing_m_tr,beijing_m_val, 'beijing', grid_beijing, ntrees_beijing],\n",
    "             [chengdu_m_tr,chengdu_m_val, 'chengdu', grid_chengdu, ntrees_chengdu],\n",
    "             [guangzhou_m_tr,guangzhou_m_val, 'guangzhou', grid_guangzhou, ntrees_guangzhou],\n",
    "             [shanghai_m_tr,shanghai_m_val,'shanghai', grid_shanghai, ntrees_shanghai],\n",
    "             [shenyang_m_tr,shenyang_m_val, 'shenyang', grid_shenyang, ntrees_shenyang]]\n",
    "\n",
    "xgb_step4_ft = grid_xgb(cities)"
   ]
  },
  {
   "cell_type": "code",
   "execution_count": 250,
   "metadata": {},
   "outputs": [
    {
     "name": "stdout",
     "output_type": "stream",
     "text": [
      "beijing : {'colsample_bytree': 1.0, 'max_depth': 3, 'min_child_weight': 5, 'subsample': 1.0}\n",
      "chengdu : {'colsample_bytree': 0.6, 'max_depth': 1, 'min_child_weight': 1, 'subsample': 0.6}\n",
      "guangzhou : {'colsample_bytree': 0.9, 'max_depth': 2, 'min_child_weight': 2, 'subsample': 1.0}\n",
      "shanghai : {'colsample_bytree': 0.6, 'max_depth': 2, 'min_child_weight': 2, 'subsample': 0.8}\n",
      "shenyang : {'colsample_bytree': 0.8, 'max_depth': 2, 'min_child_weight': 4, 'subsample': 0.8}\n",
      "\n",
      "beijing : MSE =  5690.26 , R2 Train =  0.48 , R2 Test =  0.25 Change to base mse 4.10%.\n",
      "chengdu : MSE =  1812.53 , R2 Train =  0.34 , R2 Test =  -0.1 Change to base mse -1.82%.\n",
      "guangzhou : MSE =  938.27 , R2 Train =  0.24 , R2 Test =  -0.84 Change to base mse 19.44%.\n",
      "shanghai : MSE =  944.9 , R2 Train =  0.37 , R2 Test =  0.14 Change to base mse 4.58%.\n",
      "shenyang : MSE =  3304.15 , R2 Train =  0.44 , R2 Test =  -0.03 Change to base mse 34.69%.\n"
     ]
    }
   ],
   "source": [
    "for city in xgb_step4_ft:\n",
    "    print(city[0], ':' , city[1].best_params_)\n",
    "    \n",
    "print()\n",
    "\n",
    "#check performance with test_set\n",
    "for city in [[beijing_m_tr,beijing_m_test,'beijing', xgb_step4_ft[0][1]],\n",
    "             [chengdu_m_tr,chengdu_m_test,'chengdu', xgb_step4_ft[1][1]],\n",
    "             [guangzhou_m_tr,guangzhou_m_test,'guangzhou', xgb_step4_ft[2][1]],\n",
    "             [shanghai_m_tr,shanghai_m_test,'shanghai', xgb_step4_ft[3][1]],\n",
    "             [shenyang_m_tr,shenyang_m_test,'shenyang', xgb_step4_ft[4][1]]]:\n",
    "    \n",
    "    print_scores(city[3], data_train = city[0], data_valid = city[1],\n",
    "                 y_col = 'PM_US Post', val_or_test = 'Test',city_name = city[2])"
   ]
  },
  {
   "cell_type": "markdown",
   "metadata": {},
   "source": [
    "Only Guangzhou can slightly improve the previous $MSE$ by setting colsample_bytree to 0.9 and subsample to 1.0. For Beijing, Chengdu, Guangzhou and Shenyang the default value of 1 yields better results."
   ]
  },
  {
   "cell_type": "markdown",
   "metadata": {},
   "source": [
    "### Step 5: Tuning Regularization"
   ]
  },
  {
   "cell_type": "markdown",
   "metadata": {},
   "source": [
    "Even though gamma already impacts the complexity, the next step uses different L2 regularization terms on weights. With a default value of 0 an increase will make the model more conservative (https://xgboost.readthedocs.io/en/latest/parameter.html#general-parameters, last acess: September 30th 2021). The previous tuning steps already give a hint that Gradient Boosting seems not to be the best approach for the underlying dataset. One explanation that comes to mind is a strong overfit on the training data despite the actions in previous steps. Nevertheless, the tuning regularization is done before reducing the learning rate in the last step. To see whether regularization has a positive impact on the result, a broad spectrum is tried out: reg_alpha = (1e-05, 0.01, 0.1, 100)."
   ]
  },
  {
   "cell_type": "code",
   "execution_count": 251,
   "metadata": {},
   "outputs": [
    {
     "name": "stdout",
     "output_type": "stream",
     "text": [
      "beijing\n",
      "Fitting 1 folds for each of 5 candidates, totalling 5 fits\n",
      "chengdu\n",
      "Fitting 1 folds for each of 5 candidates, totalling 5 fits\n",
      "guangzhou\n",
      "Fitting 1 folds for each of 5 candidates, totalling 5 fits\n",
      "shanghai\n",
      "Fitting 1 folds for each of 5 candidates, totalling 5 fits\n",
      "shenyang\n",
      "Fitting 1 folds for each of 5 candidates, totalling 5 fits\n"
     ]
    }
   ],
   "source": [
    "#Create Grid with values from step before and variants of beta\n",
    "grid_beijing = {'max_depth':[3], 'min_child_weight':[5], 'reg_alpha':[1e-5, 1e-2, 0.1, 1, 100] }\n",
    "grid_chengdu = {'max_depth':[1], 'min_child_weight':[1],'reg_alpha':[1e-5, 1e-2, 0.1, 1, 100]}\n",
    "grid_guangzhou = {'max_depth':[2], 'min_child_weight':[2],'reg_alpha':[1e-5, 1e-2, 0.1, 1, 100], 'subsample':[1.0],\n",
    " 'colsample_bytree':[0.9]}\n",
    "grid_shanghai = {'max_depth':[2], 'min_child_weight':[2],'reg_alpha':[1e-5, 1e-2, 0.1, 1, 100]}\n",
    "grid_shenyang = {'max_depth':[2], 'min_child_weight':[4],'reg_alpha':[1e-5, 1e-2, 0.1, 1, 100]}\n",
    "\n",
    "cities = [[beijing_m_tr,beijing_m_val, 'beijing', grid_beijing, ntrees_beijing],\n",
    "             [chengdu_m_tr,chengdu_m_val, 'chengdu', grid_chengdu, ntrees_chengdu],\n",
    "             [guangzhou_m_tr,guangzhou_m_val, 'guangzhou', grid_guangzhou, ntrees_guangzhou],\n",
    "             [shanghai_m_tr,shanghai_m_val,'shanghai', grid_shanghai, ntrees_shanghai],\n",
    "             [shenyang_m_tr,shenyang_m_val, 'shenyang', grid_shenyang, ntrees_shenyang]]\n",
    "\n",
    "xgb_step5_ft = grid_xgb(cities)"
   ]
  },
  {
   "cell_type": "code",
   "execution_count": 252,
   "metadata": {},
   "outputs": [
    {
     "name": "stdout",
     "output_type": "stream",
     "text": [
      "beijing : {'max_depth': 3, 'min_child_weight': 5, 'reg_alpha': 1e-05}\n",
      "chengdu : {'max_depth': 1, 'min_child_weight': 1, 'reg_alpha': 100}\n",
      "guangzhou : {'colsample_bytree': 0.9, 'max_depth': 2, 'min_child_weight': 2, 'reg_alpha': 0.1, 'subsample': 1.0}\n",
      "shanghai : {'max_depth': 2, 'min_child_weight': 2, 'reg_alpha': 0.1}\n",
      "shenyang : {'max_depth': 2, 'min_child_weight': 4, 'reg_alpha': 1}\n",
      "\n",
      "beijing : MSE =  5690.26 , R2 Train =  0.48 , R2 Test =  0.25 Change to base mse 4.10%.\n",
      "chengdu : MSE =  1754.24 , R2 Train =  0.34 , R2 Test =  -0.07 Change to base mse -4.98%.\n",
      "guangzhou : MSE =  938.11 , R2 Train =  0.24 , R2 Test =  -0.84 Change to base mse 19.42%.\n",
      "shanghai : MSE =  929.15 , R2 Train =  0.37 , R2 Test =  0.16 Change to base mse 2.83%.\n",
      "shenyang : MSE =  2970.78 , R2 Train =  0.44 , R2 Test =  0.08 Change to base mse 21.10%.\n"
     ]
    }
   ],
   "source": [
    "for city in xgb_step5_ft:\n",
    "    print(city[0], ':' , city[1].best_params_)\n",
    "    \n",
    "print()\n",
    "\n",
    "#check performance with test_set\n",
    "for city in [[beijing_m_tr,beijing_m_test,'beijing', xgb_step5_ft[0][1]],\n",
    "             [chengdu_m_tr,chengdu_m_test,'chengdu', xgb_step5_ft[1][1]],\n",
    "             [guangzhou_m_tr,guangzhou_m_test,'guangzhou', xgb_step5_ft[2][1]],\n",
    "             [shanghai_m_tr,shanghai_m_test,'shanghai', xgb_step5_ft[3][1]],\n",
    "             [shenyang_m_tr,shenyang_m_test,'shenyang', xgb_step5_ft[4][1]]]:\n",
    "    \n",
    "    print_scores(city[3], data_train = city[0], data_valid = city[1],\n",
    "                 y_col = 'PM_US Post', val_or_test = 'Test',city_name = city[2])"
   ]
  },
  {
   "cell_type": "code",
   "execution_count": 257,
   "metadata": {},
   "outputs": [
    {
     "data": {
      "text/plain": [
       "GridSearchCV(cv=PredefinedSplit(test_fold=array([-1, -1, ...,  0,  0])),\n",
       "             estimator=XGBRegressor(base_score=None, booster=None,\n",
       "                                    colsample_bylevel=None,\n",
       "                                    colsample_bynode=None,\n",
       "                                    colsample_bytree=None, gamma=0, gpu_id=None,\n",
       "                                    importance_type='gain',\n",
       "                                    interaction_constraints=None,\n",
       "                                    learning_rate=0.3, max_delta_step=None,\n",
       "                                    max_depth=6, min_child_weight=1,\n",
       "                                    missing=nan, monotone_con...=None,\n",
       "                                    n_estimators=120, n_jobs=None,\n",
       "                                    num_parallel_tree=None, random_state=None,\n",
       "                                    reg_alpha=None, reg_lambda=None,\n",
       "                                    scale_pos_weight=None, seed=19,\n",
       "                                    subsample=None, tree_method=None,\n",
       "                                    validate_parameters=None, verbosity=None),\n",
       "             n_jobs=-1,\n",
       "             param_grid={'max_depth': [3], 'min_child_weight': [5],\n",
       "                         'reg_alpha': [1e-05, 0.01, 0.1, 1, 100]},\n",
       "             scoring='neg_mean_squared_error', verbose=2)"
      ]
     },
     "execution_count": 257,
     "metadata": {},
     "output_type": "execute_result"
    }
   ],
   "source": [
    "xgb_step5_ft[0][1]"
   ]
  },
  {
   "cell_type": "markdown",
   "metadata": {},
   "source": [
    "For Beijing, Guangzhou and Shanghai the value of the regularization term is small and no improvement (or very little) of the $MSE$ occurs. Therefore the default value of 0 will be kept. Chengdu and Shenyang show higher optimal values of the regularization term. Because there is no gain in terms of $MSE$ the default value is kept too."
   ]
  },
  {
   "cell_type": "markdown",
   "metadata": {},
   "source": [
    "### Step 6: Adjust Learning Rate"
   ]
  },
  {
   "cell_type": "markdown",
   "metadata": {},
   "source": [
    "Before the learning rate is adjusted, the number of trees is checked to find out, whether the parameter tuning raises the need for an adjustment."
   ]
  },
  {
   "cell_type": "code",
   "execution_count": 255,
   "metadata": {},
   "outputs": [],
   "source": [
    "#Parameters for Gradient Boosting\n",
    "#The found parameters are used\n",
    "xgb_beijing_6 = XGBRegressor(learning_rate=0.3,n_estimators=1000,max_depth=3,min_child_weight=5,gamma=0,objective= 'reg:squarederror',seed=29)\n",
    "xgb_chengdu_6 = XGBRegressor(learning_rate=0.3,n_estimators=1000,max_depth=1,min_child_weight=1,gamma=0,objective= 'reg:squarederror',seed=29)\n",
    "xgb_guangzhou_6 = XGBRegressor(learning_rate=0.3,n_estimators=1000,max_depth=2,min_child_weight=2,gamma=0, objective= 'reg:squarederror',seed=29,\n",
    "                               subsample=1.0, colsample_bytree=0.9)\n",
    "xgb_shanghai_6 = XGBRegressor(learning_rate=0.3,n_estimators=1000,max_depth=2,min_child_weight=2,gamma=0, objective= 'reg:squarederror',seed=29)\n",
    "xgb_shenyang_6 = XGBRegressor(learning_rate=0.3,n_estimators=1000,max_depth=2,min_child_weight=4,gamma=0,objective= 'reg:squarederror',seed=29)"
   ]
  },
  {
   "cell_type": "code",
   "execution_count": 256,
   "metadata": {},
   "outputs": [],
   "source": [
    "#determine number of estimators for every city\n",
    "xgb_beijing_6,ntrees_beijing_6 = xgb_ntrees(xgb_beijing_6, beijing_m_tr)\n",
    "xgb_chengdu_6,ntrees_chengdu_6 = xgb_ntrees(xgb_chengdu_6, chengdu_m_tr)\n",
    "xgb_guangzhou_6,ntrees_guangzhou_6 = xgb_ntrees(xgb_guangzhou_6, guangzhou_m_tr)\n",
    "xgb_shanghai_6,ntrees_shanghai_6 = xgb_ntrees(xgb_shanghai_6, shanghai_m_tr)\n",
    "xgb_shenyang_6,ntrees_shenyang_6 = xgb_ntrees(xgb_shenyang_6, shenyang_m_tr)"
   ]
  },
  {
   "cell_type": "code",
   "execution_count": 258,
   "metadata": {},
   "outputs": [
    {
     "name": "stdout",
     "output_type": "stream",
     "text": [
      "Number of estimators beijing: 658\n",
      "Number of estimators chengdu: 594\n",
      "Number of estimators guangzhou: 467\n",
      "Number of estimators shanghai: 455\n",
      "Number of estimators shenyang: 504\n"
     ]
    }
   ],
   "source": [
    "print('Number of estimators beijing: ' + str(ntrees_beijing_6))\n",
    "print('Number of estimators chengdu: ' + str(ntrees_chengdu_6))\n",
    "print('Number of estimators guangzhou: ' + str(ntrees_guangzhou_6))\n",
    "print('Number of estimators shanghai: ' + str(ntrees_shanghai_6))\n",
    "print('Number of estimators shenyang: ' + str(ntrees_shenyang_6))"
   ]
  },
  {
   "cell_type": "markdown",
   "metadata": {},
   "source": [
    "The number of estimators increases for every city. The next step shows, if a smaller learning rate can further improve the results."
   ]
  },
  {
   "cell_type": "code",
   "execution_count": 259,
   "metadata": {},
   "outputs": [
    {
     "name": "stdout",
     "output_type": "stream",
     "text": [
      "beijing\n",
      "Fitting 1 folds for each of 2 candidates, totalling 2 fits\n",
      "chengdu\n",
      "Fitting 1 folds for each of 2 candidates, totalling 2 fits\n",
      "guangzhou\n",
      "Fitting 1 folds for each of 2 candidates, totalling 2 fits\n",
      "shanghai\n",
      "Fitting 1 folds for each of 2 candidates, totalling 2 fits\n",
      "shenyang\n",
      "Fitting 1 folds for each of 2 candidates, totalling 2 fits\n"
     ]
    }
   ],
   "source": [
    "xgb_beijing_lr = XGBRegressor(learning_rate=0.3,n_estimators=658,max_depth=3,min_child_weight=5,gamma=0,objective= 'reg:squarederror',seed=29)\n",
    "xgb_chengdu_lr = XGBRegressor(learning_rate=0.3,n_estimators=594,max_depth=1,min_child_weight=1,gamma=0,objective= 'reg:squarederror',seed=29)\n",
    "xgb_guangzhou_lr = XGBRegressor(learning_rate=0.3,n_estimators=467,max_depth=2,min_child_weight=2,gamma=0,objective= 'reg:squarederror',subsample=1.0, colsample_bytree=0.9,seed=29)\n",
    "xgb_shanghai_lr = XGBRegressor(learning_rate=0.3,n_estimators=455,max_depth=2,min_child_weight=2,gamma=0, objective= 'reg:squarederror',seed=29)\n",
    "xgb_shenyang_lr = XGBRegressor(learning_rate=0.3,n_estimators=504,max_depth=2,min_child_weight=4,gamma=0,objective= 'reg:squarederror',seed=29)\n",
    "\n",
    "#Create Grid with low learning rates\n",
    "grid_beijing = {'learning_rate':[0.1, 0.01]}\n",
    "grid_chengdu = {'learning_rate':[0.1, 0.01]}\n",
    "grid_guangzhou = {'learning_rate':[0.1, 0.01]}\n",
    "grid_shanghai = {'learning_rate':[0.1, 0.01]}\n",
    "grid_shenyang = {'learning_rate':[0.1, 0.01]}\n",
    "\n",
    "cities = [[beijing_m_tr,beijing_m_val, 'beijing', grid_beijing, ntrees_beijing_6],\n",
    "             [chengdu_m_tr,chengdu_m_val, 'chengdu', grid_chengdu, ntrees_chengdu_6],\n",
    "             [guangzhou_m_tr,guangzhou_m_val, 'guangzhou', grid_guangzhou, ntrees_guangzhou_6],\n",
    "             [shanghai_m_tr,shanghai_m_val,'shanghai', grid_shanghai, ntrees_shanghai_6],\n",
    "             [shenyang_m_tr,shenyang_m_val, 'shenyang', grid_shenyang, ntrees_shenyang_6]]\n",
    "\n",
    "xgb_step6_lr = grid_xgb(cities)"
   ]
  },
  {
   "cell_type": "code",
   "execution_count": 260,
   "metadata": {},
   "outputs": [
    {
     "name": "stdout",
     "output_type": "stream",
     "text": [
      "beijing : {'learning_rate': 0.01}\n",
      "chengdu : {'learning_rate': 0.01}\n",
      "guangzhou : {'learning_rate': 0.01}\n",
      "shanghai : {'learning_rate': 0.01}\n",
      "shenyang : {'learning_rate': 0.01}\n",
      "\n",
      "beijing : MSE =  5295.86 , R2 Train =  0.51 , R2 Test =  0.3 Change to base mse -3.12%.\n",
      "chengdu : MSE =  1875.75 , R2 Train =  0.49 , R2 Test =  -0.14 Change to base mse 1.60%.\n",
      "guangzhou : MSE =  947.08 , R2 Train =  0.36 , R2 Test =  -0.86 Change to base mse 20.56%.\n",
      "shanghai : MSE =  902.51 , R2 Train =  0.44 , R2 Test =  0.18 Change to base mse -0.11%.\n",
      "shenyang : MSE =  2869.19 , R2 Train =  0.54 , R2 Test =  0.11 Change to base mse 16.96%.\n"
     ]
    }
   ],
   "source": [
    "for city in xgb_step6_lr:\n",
    "    print(city[0], ':' , city[1].best_params_)\n",
    "    \n",
    "print()\n",
    "\n",
    "#check performance with test_set\n",
    "for city in [[beijing_m_tr,beijing_m_test,'beijing', xgb_step6_lr[0][1]],\n",
    "             [chengdu_m_tr,chengdu_m_test,'chengdu', xgb_step6_lr[1][1]],\n",
    "             [guangzhou_m_tr,guangzhou_m_test,'guangzhou', xgb_step6_lr[2][1]],\n",
    "             [shanghai_m_tr,shanghai_m_test,'shanghai', xgb_step6_lr[3][1]],\n",
    "             [shenyang_m_tr,shenyang_m_test,'shenyang', xgb_step6_lr[4][1]]]:\n",
    "    \n",
    "    print_scores(city[3], data_train = city[0], data_valid = city[1],\n",
    "                 y_col = 'PM_US Post', val_or_test = 'Test',city_name = city[2])"
   ]
  },
  {
   "cell_type": "code",
   "execution_count": 261,
   "metadata": {},
   "outputs": [
    {
     "name": "stdout",
     "output_type": "stream",
     "text": [
      "beijing\n",
      "Fitting 1 folds for each of 3 candidates, totalling 3 fits\n",
      "chengdu\n",
      "Fitting 1 folds for each of 3 candidates, totalling 3 fits\n",
      "guangzhou\n",
      "Fitting 1 folds for each of 3 candidates, totalling 3 fits\n",
      "shanghai\n",
      "Fitting 1 folds for each of 3 candidates, totalling 3 fits\n",
      "shenyang\n",
      "Fitting 1 folds for each of 3 candidates, totalling 3 fits\n"
     ]
    }
   ],
   "source": [
    "xgb_beijing_lr = XGBRegressor(learning_rate=0.3,n_estimators=658,max_depth=3,min_child_weight=5,gamma=0,objective= 'reg:squarederror',seed=29)\n",
    "xgb_chengdu_lr = XGBRegressor(learning_rate=0.3,n_estimators=594,max_depth=1,min_child_weight=1,gamma=0,objective= 'reg:squarederror',seed=29)\n",
    "xgb_guangzhou_lr = XGBRegressor(learning_rate=0.3,n_estimators=467,max_depth=2,min_child_weight=2,gamma=0,objective= 'reg:squarederror',subsample=1.0, colsample_bytree=0.9,seed=29)\n",
    "xgb_shanghai_lr = XGBRegressor(learning_rate=0.3,n_estimators=455,max_depth=2,min_child_weight=2,gamma=0, objective= 'reg:squarederror',seed=29)\n",
    "xgb_shenyang_lr = XGBRegressor(learning_rate=0.3,n_estimators=504,max_depth=2,min_child_weight=4,gamma=0,objective= 'reg:squarederror',seed=29)\n",
    "\n",
    "\n",
    "#Create Grid with low learning rates\n",
    "grid_beijing = {'learning_rate':[0.015, 0.01, 0.05]}\n",
    "grid_chengdu = {'learning_rate':[0.015, 0.01, 0.05]}\n",
    "grid_guangzhou = {'learning_rate':[0.015, 0.01, 0.05]}\n",
    "grid_shanghai = {'learning_rate':[0.015, 0.01, 0.05]}\n",
    "grid_shenyang = {'learning_rate':[0.015, 0.01, 0.05]}\n",
    "\n",
    "cities = [[beijing_m_tr,beijing_m_val, 'beijing', grid_beijing, ntrees_beijing_6],\n",
    "             [chengdu_m_tr,chengdu_m_val, 'chengdu', grid_chengdu, ntrees_chengdu_6],\n",
    "             [guangzhou_m_tr,guangzhou_m_val, 'guangzhou', grid_guangzhou, ntrees_guangzhou_6],\n",
    "             [shanghai_m_tr,shanghai_m_val,'shanghai', grid_shanghai, ntrees_shanghai_6],\n",
    "             [shenyang_m_tr,shenyang_m_val, 'shenyang', grid_shenyang, ntrees_shenyang_6]]\n",
    "\n",
    "#learning rate fine tuning\n",
    "xgb_step6_lrft = grid_xgb(cities)"
   ]
  },
  {
   "cell_type": "code",
   "execution_count": 262,
   "metadata": {},
   "outputs": [
    {
     "name": "stdout",
     "output_type": "stream",
     "text": [
      "beijing : {'learning_rate': 0.015}\n",
      "chengdu : {'learning_rate': 0.01}\n",
      "guangzhou : {'learning_rate': 0.01}\n",
      "shanghai : {'learning_rate': 0.01}\n",
      "shenyang : {'learning_rate': 0.01}\n",
      "\n",
      "beijing : MSE =  5356.89 , R2 Train =  0.53 , R2 Test =  0.29 Change to base mse -2.00%.\n",
      "chengdu : MSE =  1875.75 , R2 Train =  0.49 , R2 Test =  -0.14 Change to base mse 1.60%.\n",
      "guangzhou : MSE =  947.08 , R2 Train =  0.36 , R2 Test =  -0.86 Change to base mse 20.56%.\n",
      "shanghai : MSE =  902.51 , R2 Train =  0.44 , R2 Test =  0.18 Change to base mse -0.11%.\n",
      "shenyang : MSE =  2869.19 , R2 Train =  0.54 , R2 Test =  0.11 Change to base mse 16.96%.\n"
     ]
    }
   ],
   "source": [
    "for city in xgb_step6_lrft:\n",
    "    print(city[0], ':' , city[1].best_params_)\n",
    "    \n",
    "print()\n",
    "\n",
    "#check performance with test_set\n",
    "for city in [[beijing_m_tr,beijing_m_test,'beijing', xgb_step6_lrft[0][1]],\n",
    "             [chengdu_m_tr,chengdu_m_test,'chengdu', xgb_step6_lrft[1][1]],\n",
    "             [guangzhou_m_tr,guangzhou_m_test,'guangzhou', xgb_step6_lrft[2][1]],\n",
    "             [shanghai_m_tr,shanghai_m_test,'shanghai', xgb_step6_lrft[3][1]],\n",
    "             [shenyang_m_tr,shenyang_m_test,'shenyang', xgb_step6_lrft[4][1]]]:\n",
    "    \n",
    "    print_scores(city[3], data_train = city[0], data_valid = city[1],\n",
    "                 y_col = 'PM_US Post', val_or_test = 'Test',city_name = city[2])"
   ]
  },
  {
   "cell_type": "code",
   "execution_count": 279,
   "metadata": {},
   "outputs": [
    {
     "data": {
      "text/plain": [
       "['/Users/johannesthellmann/Desktop/SoSe2021/Introduction to Statistical Machine Learning/Report/Dataset/models/shenyang_xgb_final.joblib']"
      ]
     },
     "execution_count": 279,
     "metadata": {},
     "output_type": "execute_result"
    }
   ],
   "source": [
    "# #save model\n",
    "# import pickle\n",
    "# from joblib import dump\n",
    "\n",
    "# dump(xgb_step6_lrft[0][1], '/Users/johannesthellmann/Desktop/SoSe2021/Introduction to Statistical Machine Learning/Report/Dataset/models/beijing_xgb_final.joblib')\n",
    "# dump(xgb_step6_lrft[1][1], '/Users/johannesthellmann/Desktop/SoSe2021/Introduction to Statistical Machine Learning/Report/Dataset/models/chengdu_xgb_final.joblib')\n",
    "# dump(xgb_step6_lrft[2][1], '/Users/johannesthellmann/Desktop/SoSe2021/Introduction to Statistical Machine Learning/Report/Dataset/models/guangzhou_xgb_final.joblib')\n",
    "# dump(xgb_step6_lrft[3][1], '/Users/johannesthellmann/Desktop/SoSe2021/Introduction to Statistical Machine Learning/Report/Dataset/models/shanghai_xgb_final.joblib')\n",
    "# dump(xgb_step6_lrft[4][1], '/Users/johannesthellmann/Desktop/SoSe2021/Introduction to Statistical Machine Learning/Report/Dataset/models/shenyang_xgb_final.joblib')"
   ]
  },
  {
   "cell_type": "markdown",
   "metadata": {},
   "source": [
    "In General, Gradient Boosting performs better than Random Forests. With a small learning rate Beijing and Shanghai can beat the benchmark model. With a larger learning rate Chengdu can beat the benchmark model as well. Again, Guangzhou performs worse. In the next step, the feature importance is analyzed to give an insight why the results are achieved. As for Random Forests, Beijing as a well performing and Guangzhou as a worse performing model are used."
   ]
  },
  {
   "cell_type": "markdown",
   "metadata": {},
   "source": [
    "### 4.2.3 Feature Importance"
   ]
  },
  {
   "cell_type": "code",
   "execution_count": 80,
   "metadata": {},
   "outputs": [],
   "source": [
    "from joblib import load\n",
    "\n",
    "#import finetuned models\n",
    "beijing_xgb_ft = load('/Users/johannesthellmann/Desktop/SoSe2021/Introduction to Statistical Machine Learning/Report/Dataset/models/beijing_xgb_final.joblib')\n",
    "chengdu_xgb_ft = load('/Users/johannesthellmann/Desktop/SoSe2021/Introduction to Statistical Machine Learning/Report/Dataset/models/chengdu_xgb_final.joblib')\n",
    "guangzhou_xgb_ft = load('/Users/johannesthellmann/Desktop/SoSe2021/Introduction to Statistical Machine Learning/Report/Dataset/models/guangzhou_xgb_final.joblib')\n",
    "shanghai_xgb_ft = load('/Users/johannesthellmann/Desktop/SoSe2021/Introduction to Statistical Machine Learning/Report/Dataset/models/shanghai_xgb_final.joblib')\n",
    "shenyang_xgb_ft = load('/Users/johannesthellmann/Desktop/SoSe2021/Introduction to Statistical Machine Learning/Report/Dataset/models/shenyang_xgb_final.joblib')"
   ]
  },
  {
   "cell_type": "code",
   "execution_count": 81,
   "metadata": {},
   "outputs": [
    {
     "data": {
      "image/png": "[encoded data removed]",
      "text/plain": [
       "<Figure size 1080x360 with 2 Axes>"
      ]
     },
     "metadata": {
      "needs_background": "light"
     },
     "output_type": "display_data"
    }
   ],
   "source": [
    "fi_beijing_tr_xgb = permutation_importance(beijing_xgb_ft, beijing_m_tr.drop('PM_US Post', axis = 1),\n",
    "                       beijing_m_tr['PM_US Post'], n_repeats=10,n_jobs=-1, scoring = 'neg_mean_squared_error', random_state = 19)\n",
    "features_beijing_tr_xgb = fi_beijing_tr_xgb.importances_mean.argsort()\n",
    "\n",
    "fi_beijing_test_xgb = permutation_importance(beijing_xgb_ft, beijing_m_test.drop('PM_US Post', axis = 1),\n",
    "                       beijing_m_test['PM_US Post'], n_repeats=10,n_jobs=-1, scoring = 'neg_mean_squared_error', random_state = 19)\n",
    "features_beijing_test_xgb = fi_beijing_test_xgb.importances_mean.argsort()\n",
    "\n",
    "#plot results\n",
    "fig, axs = plt.subplots(1, 2, figsize = (15,5))\n",
    "axs[0].boxplot(fi_beijing_tr_xgb.importances[features_beijing_tr_xgb].T,\n",
    "           vert=False, labels=beijing_m_tr.drop('PM_US Post', axis = 1).columns[features_beijing_tr_xgb])\n",
    "axs[1].boxplot(fi_beijing_test_xgb.importances[features_beijing_test_xgb].T,\n",
    "           vert=False, labels=beijing_m_test.drop('PM_US Post', axis = 1).columns[features_beijing_test_xgb])\n",
    "axs[0].set_title(\"Beijing Permutation Importances (training set)\")\n",
    "axs[1].set_title(\"Beijing Permutation Importances (test set)\")\n",
    "fig.tight_layout()\n",
    "plt.show()"
   ]
  },
  {
   "cell_type": "code",
   "execution_count": 82,
   "metadata": {},
   "outputs": [
    {
     "data": {
      "image/png": "[encoded data removed]",
      "text/plain": [
       "<Figure size 1080x360 with 2 Axes>"
      ]
     },
     "metadata": {
      "needs_background": "light"
     },
     "output_type": "display_data"
    }
   ],
   "source": [
    "fi_guangzhou_tr_xgb = permutation_importance(guangzhou_xgb_ft, guangzhou_m_tr.drop('PM_US Post', axis = 1),\n",
    "                       guangzhou_m_tr['PM_US Post'], n_repeats=10,n_jobs=-1, scoring = 'neg_mean_squared_error', random_state = 19)\n",
    "features_guangzhou_tr_xgb = fi_guangzhou_tr_xgb.importances_mean.argsort()\n",
    "\n",
    "fi_guangzhou_test_xgb = permutation_importance(guangzhou_xgb_ft, guangzhou_m_test.drop('PM_US Post', axis = 1),\n",
    "                       guangzhou_m_test['PM_US Post'], n_repeats=10,n_jobs=-1, scoring = 'neg_mean_squared_error', random_state = 19)\n",
    "features_guangzhou_test_xgb = fi_guangzhou_test_xgb.importances_mean.argsort()\n",
    "\n",
    "#plot results\n",
    "fig, axs = plt.subplots(1, 2, figsize = (15,5))\n",
    "axs[0].boxplot(fi_guangzhou_tr_xgb.importances[features_guangzhou_tr_xgb].T,\n",
    "           vert=False, labels=guangzhou_m_tr.drop('PM_US Post', axis = 1).columns[features_guangzhou_tr_xgb])\n",
    "axs[1].boxplot(fi_guangzhou_test_xgb.importances[features_guangzhou_test_xgb].T,\n",
    "           vert=False, labels=guangzhou_m_test.drop('PM_US Post', axis = 1).columns[features_guangzhou_test_xgb])\n",
    "axs[0].set_title(\"guangzhou Permutation Importances (training set)\")\n",
    "axs[1].set_title(\"guangzhou Permutation Importances (test set)\")\n",
    "fig.tight_layout()\n",
    "plt.show()"
   ]
  },
  {
   "cell_type": "markdown",
   "metadata": {},
   "source": [
    "The feature importance plots for Beijing look very similar to the ones for Random Forests. Season 4, Humidity and cumulated windspeed are three of the four most important features both for the training and the test set. Leaving one of these features out worsens the $MSE$ significantly. An alike dependence cannot be observed for Guangzhou. In this point there is again a correspondence to Random Forests."
   ]
  },
  {
   "cell_type": "markdown",
   "metadata": {},
   "source": [
    "# 5. Conclusion"
   ]
  },
  {
   "cell_type": "markdown",
   "metadata": {},
   "source": [
    "The goal of this report was to create a machine learning model to predict partial matter concentration values based on meteorological features. These predictions can then be used to implement day-dependent measures such as driving bans in major cities. This is to guarantee acceptable air quality in the short and medium term. Due to the poor performance of a simple linear regression model, Random Forests and Gradient Boosting were proposed. However, both models could only slightly outperform the Mean-Squared-Error and this only for certain cities. The Mean-Squared-Error in both the linear and the two machine learning models is of a magnitude that makes the application described above impossible.\n",
    "Interesting at this point is that the largest dataset Beijing, performs well (compared to the other cities) in both models. This raises the question of whether the datasets of the other cities contain too little training data to generalize properly. This is also supported by the fact that in the feature importance analysis, the most important features for Beijing are found by the model, but not for Guangzhou, for example. \n",
    "\n",
    "The issue of air quality in major cities will remain significant in the coming years, ensuring the need for predictive models. In the dataset used, hourly data were used. At this point, it would be conceivable to aggregate the data over several hours to produce a more robust model. However, the question here is how to handle categorical data, such as wind direction. Or whether wind direction affects particular matter levels with a time lag, and only after a period of strong northwest wind does the concentration change.\n",
    "Another parameter, which was not considered in the model, is the time of day. During periods of high traffic, e.g. during business hours, the particulate matter concentration could mainly depend on it.\n",
    "In chapter 2, no exact general trend of particulate matter was found, but a certain seasonality was found. Here, LSTM Neural Networks, which take into account previous data, can be used.\n",
    "Lastly, the idea that exact concentration levels were predicted in the previous report, but cities mostly impose driving bans based on thresholds, suggests itself. This turns the problem into a classification problem and puts the weather forecast data into categories of high or low particulate matter risk."
   ]
  },
  {
   "cell_type": "markdown",
   "metadata": {},
   "source": [
    "## Bibliography"
   ]
  },
  {
   "cell_type": "markdown",
   "metadata": {},
   "source": [
    "Paper\n",
    "- Friedman, Jerome H. \"Greedy function approximation: a gradient boosting machine.\" Annals of statistics (2001): 1189-1232.\n",
    "- Breiman, Leo. \"Random forests.\" Machine learning 45.1 (2001): 5-32.\n",
    "- Liang, Xuan, et al. \"PM2. 5 data reliability, consistency, and air quality assessment in five Chinese cities.\" Journal of Geophysical Research: Atmospheres 121.17 (2016): 10-220.\n",
    "- Zamani Joharestani, Mehdi, et al. \"PM2. 5 prediction based on random forest, XGBoost, and deep learning using multisource remote sensing data.\" Atmosphere 10.7 (2019): 373.\n",
    "- Brokamp, Cole, et al. \"Exposure assessment models for elemental components of particulate matter in an urban environment: A comparison of regression and random forest approaches.\" Atmospheric Environment 151 (2017): 1-11.\n",
    "\n",
    "Books\n",
    "- Hastie, Trevor, Tibshirani, Robert and Friedman, Jerome. The Elements of Statistical Learning. New York, NY, USA: Springer New York Inc., 2001.\n",
    "- Aurélien, Géron. Hands-on Machine Learning with Scikit-Learn, Keras, and TensorFlow. O´reilly Media, Inc., 2019.\n",
    "\n",
    "Notebooks\n",
    "- NB7_Bonus Exercise, Introduction to Statistical Machine Learning, Acess: September 30th 2021"
   ]
  },
  {
   "cell_type": "markdown",
   "metadata": {},
   "source": [
    "## Declaration"
   ]
  },
  {
   "cell_type": "markdown",
   "metadata": {},
   "source": [
    "I hereby declare that I have prepared the present seminar paper. I have prepared this seminar paper independently. The thoughts taken directly or indirectly from external sources are marked as such.\n",
    "\n",
    "Karlsruhe September 30th 2021, Johannes Thellmann"
   ]
  }
 ],
 "metadata": {
  "kernelspec": {
   "display_name": "ml_env36",
   "language": "python",
   "name": "python3"
  },
  "language_info": {
   "codemirror_mode": {
    "name": "ipython",
    "version": 3
   },
   "file_extension": ".py",
   "mimetype": "text/x-python",
   "name": "python",
   "nbconvert_exporter": "python",
   "pygments_lexer": "ipython3",
   "version": "3.6.12"
  }
 },
 "nbformat": 4,
 "nbformat_minor": 4
}
